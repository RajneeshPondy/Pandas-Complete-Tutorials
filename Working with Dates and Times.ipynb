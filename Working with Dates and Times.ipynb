{
 "cells": [
  {
   "cell_type": "code",
   "execution_count": 1,
   "metadata": {
    "collapsed": true
   },
   "outputs": [],
   "source": [
    "import pandas as pd\n",
    "import datetime as dt"
   ]
  },
  {
   "cell_type": "markdown",
   "metadata": {},
   "source": [
    "### Review of Python's datetime Module"
   ]
  },
  {
   "cell_type": "code",
   "execution_count": 2,
   "metadata": {},
   "outputs": [
    {
     "data": {
      "text/plain": [
       "datetime.date(2016, 4, 12)"
      ]
     },
     "execution_count": 2,
     "metadata": {},
     "output_type": "execute_result"
    }
   ],
   "source": [
    "dt.date(2016, 4, 12)"
   ]
  },
  {
   "cell_type": "code",
   "execution_count": 3,
   "metadata": {},
   "outputs": [
    {
     "data": {
      "text/plain": [
       "datetime.date(2018, 12, 12)"
      ]
     },
     "execution_count": 3,
     "metadata": {},
     "output_type": "execute_result"
    }
   ],
   "source": [
    "dt.date(2018, 12, 12)"
   ]
  },
  {
   "cell_type": "code",
   "execution_count": 4,
   "metadata": {
    "collapsed": true
   },
   "outputs": [],
   "source": [
    "someday = dt.date(2010, 1, 20)"
   ]
  },
  {
   "cell_type": "code",
   "execution_count": 5,
   "metadata": {},
   "outputs": [
    {
     "data": {
      "text/plain": [
       "20"
      ]
     },
     "execution_count": 5,
     "metadata": {},
     "output_type": "execute_result"
    }
   ],
   "source": [
    "someday.day"
   ]
  },
  {
   "cell_type": "code",
   "execution_count": 6,
   "metadata": {},
   "outputs": [
    {
     "data": {
      "text/plain": [
       "1"
      ]
     },
     "execution_count": 6,
     "metadata": {},
     "output_type": "execute_result"
    }
   ],
   "source": [
    "someday.month"
   ]
  },
  {
   "cell_type": "code",
   "execution_count": 7,
   "metadata": {},
   "outputs": [
    {
     "data": {
      "text/plain": [
       "2010"
      ]
     },
     "execution_count": 7,
     "metadata": {},
     "output_type": "execute_result"
    }
   ],
   "source": [
    "someday.year"
   ]
  },
  {
   "cell_type": "code",
   "execution_count": 8,
   "metadata": {},
   "outputs": [
    {
     "name": "stdout",
     "output_type": "stream",
     "text": [
      "2010\n",
      "1\n",
      "20\n"
     ]
    }
   ],
   "source": [
    "print(someday.year)\n",
    "print(someday.month)\n",
    "print(someday.day)"
   ]
  },
  {
   "cell_type": "code",
   "execution_count": 9,
   "metadata": {},
   "outputs": [
    {
     "data": {
      "text/plain": [
       "datetime.datetime(2010, 1, 10, 0, 0)"
      ]
     },
     "execution_count": 9,
     "metadata": {},
     "output_type": "execute_result"
    }
   ],
   "source": [
    "dt.datetime(2010, 1, 10) #A timestamp "
   ]
  },
  {
   "cell_type": "code",
   "execution_count": 10,
   "metadata": {},
   "outputs": [
    {
     "data": {
      "text/plain": [
       "datetime.datetime(2010, 1, 10, 8, 13)"
      ]
     },
     "execution_count": 10,
     "metadata": {},
     "output_type": "execute_result"
    }
   ],
   "source": [
    "dt.datetime(2010, 1, 10, 8, 13)"
   ]
  },
  {
   "cell_type": "code",
   "execution_count": 11,
   "metadata": {},
   "outputs": [
    {
     "data": {
      "text/plain": [
       "datetime.datetime(2010, 1, 10, 8, 13, 57)"
      ]
     },
     "execution_count": 11,
     "metadata": {},
     "output_type": "execute_result"
    }
   ],
   "source": [
    "dt.datetime(2010, 1, 10, 8, 13, 57)"
   ]
  },
  {
   "cell_type": "code",
   "execution_count": 12,
   "metadata": {},
   "outputs": [
    {
     "data": {
      "text/plain": [
       "'2010-01-10 08:13:57'"
      ]
     },
     "execution_count": 12,
     "metadata": {},
     "output_type": "execute_result"
    }
   ],
   "source": [
    "str(dt.datetime(2010, 1, 10, 8, 13, 57))"
   ]
  },
  {
   "cell_type": "code",
   "execution_count": 13,
   "metadata": {},
   "outputs": [
    {
     "data": {
      "text/plain": [
       "'2010-01-20'"
      ]
     },
     "execution_count": 13,
     "metadata": {},
     "output_type": "execute_result"
    }
   ],
   "source": [
    "str(someday)"
   ]
  },
  {
   "cell_type": "code",
   "execution_count": 14,
   "metadata": {
    "collapsed": true
   },
   "outputs": [],
   "source": [
    "sometime = dt.datetime(2010, 1, 10, 8, 13, 57)"
   ]
  },
  {
   "cell_type": "code",
   "execution_count": 16,
   "metadata": {},
   "outputs": [
    {
     "name": "stdout",
     "output_type": "stream",
     "text": [
      "2010\n",
      "1\n",
      "10\n",
      "8\n",
      "13\n",
      "57\n"
     ]
    }
   ],
   "source": [
    "print(sometime.year)\n",
    "print(sometime.month)\n",
    "print(sometime.day)\n",
    "print(sometime.hour)\n",
    "print(sometime.minute)\n",
    "print(sometime.second)\n"
   ]
  },
  {
   "cell_type": "markdown",
   "metadata": {},
   "source": [
    "### The Pandas Timestamp Object"
   ]
  },
  {
   "cell_type": "code",
   "execution_count": 17,
   "metadata": {},
   "outputs": [
    {
     "data": {
      "text/plain": [
       "Timestamp('2015-03-31 00:00:00')"
      ]
     },
     "execution_count": 17,
     "metadata": {},
     "output_type": "execute_result"
    }
   ],
   "source": [
    "pd.Timestamp(\"2015-03-31\")"
   ]
  },
  {
   "cell_type": "code",
   "execution_count": 18,
   "metadata": {},
   "outputs": [
    {
     "data": {
      "text/plain": [
       "Timestamp('2016-03-31 00:00:00')"
      ]
     },
     "execution_count": 18,
     "metadata": {},
     "output_type": "execute_result"
    }
   ],
   "source": [
    "pd.Timestamp(\"2016/03/31\")"
   ]
  },
  {
   "cell_type": "code",
   "execution_count": 19,
   "metadata": {},
   "outputs": [
    {
     "data": {
      "text/plain": [
       "Timestamp('2017-11-04 00:00:00')"
      ]
     },
     "execution_count": 19,
     "metadata": {},
     "output_type": "execute_result"
    }
   ],
   "source": [
    "pd.Timestamp(\"2017, 11, 04\")"
   ]
  },
  {
   "cell_type": "code",
   "execution_count": 20,
   "metadata": {},
   "outputs": [
    {
     "data": {
      "text/plain": [
       "Timestamp('2015-01-01 00:00:00')"
      ]
     },
     "execution_count": 20,
     "metadata": {},
     "output_type": "execute_result"
    }
   ],
   "source": [
    "pd.Timestamp(\"1/1/2015\")"
   ]
  },
  {
   "cell_type": "code",
   "execution_count": 21,
   "metadata": {},
   "outputs": [
    {
     "data": {
      "text/plain": [
       "Timestamp('1993-12-19 00:00:00')"
      ]
     },
     "execution_count": 21,
     "metadata": {},
     "output_type": "execute_result"
    }
   ],
   "source": [
    "pd.Timestamp(\"19/12/1993\")"
   ]
  },
  {
   "cell_type": "code",
   "execution_count": 22,
   "metadata": {},
   "outputs": [
    {
     "data": {
      "text/plain": [
       "Timestamp('2005-12-19 00:00:00')"
      ]
     },
     "execution_count": 22,
     "metadata": {},
     "output_type": "execute_result"
    }
   ],
   "source": [
    "pd.Timestamp(\"12/19/2005\")"
   ]
  },
  {
   "cell_type": "code",
   "execution_count": 23,
   "metadata": {},
   "outputs": [
    {
     "data": {
      "text/plain": [
       "Timestamp('2001-04-03 00:00:00')"
      ]
     },
     "execution_count": 23,
     "metadata": {},
     "output_type": "execute_result"
    }
   ],
   "source": [
    "pd.Timestamp(\"4/3/2001\")"
   ]
  },
  {
   "cell_type": "code",
   "execution_count": 24,
   "metadata": {},
   "outputs": [
    {
     "data": {
      "text/plain": [
       "Timestamp('2012-03-08 08:35:15')"
      ]
     },
     "execution_count": 24,
     "metadata": {},
     "output_type": "execute_result"
    }
   ],
   "source": [
    "pd.Timestamp(\"2012-03-08 08:35:15\")"
   ]
  },
  {
   "cell_type": "code",
   "execution_count": 25,
   "metadata": {},
   "outputs": [
    {
     "data": {
      "text/plain": [
       "Timestamp('2012-03-12 18:13:39')"
      ]
     },
     "execution_count": 25,
     "metadata": {},
     "output_type": "execute_result"
    }
   ],
   "source": [
    "pd.Timestamp(\"2012-03-12 6:13:39 PM\")"
   ]
  },
  {
   "cell_type": "code",
   "execution_count": 28,
   "metadata": {},
   "outputs": [
    {
     "data": {
      "text/plain": [
       "Timestamp('2016-04-12 00:00:00')"
      ]
     },
     "execution_count": 28,
     "metadata": {},
     "output_type": "execute_result"
    }
   ],
   "source": [
    "pd.Timestamp(dt.datetime(2016, 4, 12))"
   ]
  },
  {
   "cell_type": "code",
   "execution_count": 29,
   "metadata": {},
   "outputs": [
    {
     "data": {
      "text/plain": [
       "Timestamp('2000-02-03 21:35:22')"
      ]
     },
     "execution_count": 29,
     "metadata": {},
     "output_type": "execute_result"
    }
   ],
   "source": [
    "pd.Timestamp(dt.datetime(2000, 2, 3, 21, 35, 22))"
   ]
  },
  {
   "cell_type": "markdown",
   "metadata": {},
   "source": [
    "### The pandas DateTimeIndex Object"
   ]
  },
  {
   "cell_type": "code",
   "execution_count": 31,
   "metadata": {},
   "outputs": [
    {
     "data": {
      "text/plain": [
       "pandas.core.indexes.datetimes.DatetimeIndex"
      ]
     },
     "execution_count": 31,
     "metadata": {},
     "output_type": "execute_result"
    }
   ],
   "source": [
    "dates = [\"2016-01-02\",\"2016-04-12\",\"2009-09-07\"]\n",
    "type(pd.DatetimeIndex(dates))"
   ]
  },
  {
   "cell_type": "code",
   "execution_count": 32,
   "metadata": {},
   "outputs": [
    {
     "data": {
      "text/plain": [
       "DatetimeIndex(['2016-01-02', '2016-04-12', '2009-09-07'], dtype='datetime64[ns]', freq=None)"
      ]
     },
     "execution_count": 32,
     "metadata": {},
     "output_type": "execute_result"
    }
   ],
   "source": [
    "dates = [\"2016/01/02\",\"2016/04/12\",\"2009/09/07\"]\n",
    "pd.DatetimeIndex(dates)"
   ]
  },
  {
   "cell_type": "code",
   "execution_count": 36,
   "metadata": {
    "collapsed": true
   },
   "outputs": [],
   "source": [
    "dates = [dt.date(2016,1,10), dt.date(1995, 2, 13),dt.date(2018,12,29 )]"
   ]
  },
  {
   "cell_type": "code",
   "execution_count": 37,
   "metadata": {},
   "outputs": [
    {
     "data": {
      "text/plain": [
       "[datetime.date(2016, 1, 10),\n",
       " datetime.date(1995, 2, 13),\n",
       " datetime.date(2018, 12, 29)]"
      ]
     },
     "execution_count": 37,
     "metadata": {},
     "output_type": "execute_result"
    }
   ],
   "source": [
    "dates"
   ]
  },
  {
   "cell_type": "code",
   "execution_count": 40,
   "metadata": {},
   "outputs": [
    {
     "data": {
      "text/plain": [
       "DatetimeIndex(['2016-01-10', '1995-02-13', '2018-12-29'], dtype='datetime64[ns]', freq=None)"
      ]
     },
     "execution_count": 40,
     "metadata": {},
     "output_type": "execute_result"
    }
   ],
   "source": [
    "dtIndex = pd.DatetimeIndex(dates)\n",
    "dtIndex"
   ]
  },
  {
   "cell_type": "code",
   "execution_count": 41,
   "metadata": {},
   "outputs": [
    {
     "data": {
      "text/plain": [
       "2016-01-10    100\n",
       "1995-02-13    200\n",
       "2018-12-29    300\n",
       "dtype: int64"
      ]
     },
     "execution_count": 41,
     "metadata": {},
     "output_type": "execute_result"
    }
   ],
   "source": [
    "values = [100, 200, 300]\n",
    "pd.Series(data=values, index=dtIndex)\n"
   ]
  },
  {
   "cell_type": "markdown",
   "metadata": {},
   "source": [
    "### The pd.to_datetime() Method"
   ]
  },
  {
   "cell_type": "code",
   "execution_count": 42,
   "metadata": {},
   "outputs": [
    {
     "data": {
      "text/plain": [
       "Timestamp('2001-04-19 00:00:00')"
      ]
     },
     "execution_count": 42,
     "metadata": {},
     "output_type": "execute_result"
    }
   ],
   "source": [
    "pd.to_datetime(\"2001-04-19\")"
   ]
  },
  {
   "cell_type": "code",
   "execution_count": 43,
   "metadata": {},
   "outputs": [
    {
     "data": {
      "text/plain": [
       "Timestamp('2001-10-10 00:00:00')"
      ]
     },
     "execution_count": 43,
     "metadata": {},
     "output_type": "execute_result"
    }
   ],
   "source": [
    "pd.to_datetime(dt.datetime(2001, 10, 10))"
   ]
  },
  {
   "cell_type": "code",
   "execution_count": 45,
   "metadata": {},
   "outputs": [
    {
     "data": {
      "text/plain": [
       "Timestamp('1994-12-07 00:00:00')"
      ]
     },
     "execution_count": 45,
     "metadata": {},
     "output_type": "execute_result"
    }
   ],
   "source": [
    "pd.to_datetime(dt.date(1994, 12,7))"
   ]
  },
  {
   "cell_type": "code",
   "execution_count": 46,
   "metadata": {},
   "outputs": [
    {
     "data": {
      "text/plain": [
       "DatetimeIndex(['2001-10-12', '2018-12-22'], dtype='datetime64[ns]', freq=None)"
      ]
     },
     "execution_count": 46,
     "metadata": {},
     "output_type": "execute_result"
    }
   ],
   "source": [
    "pd.to_datetime([\"2001-10-12\",\"2018-12-22\"])"
   ]
  },
  {
   "cell_type": "code",
   "execution_count": 47,
   "metadata": {},
   "outputs": [
    {
     "data": {
      "text/plain": [
       "Timestamp('1994-07-04 00:00:00')"
      ]
     },
     "execution_count": 47,
     "metadata": {},
     "output_type": "execute_result"
    }
   ],
   "source": [
    "pd.to_datetime(\"July 4th , 1994\")"
   ]
  },
  {
   "cell_type": "code",
   "execution_count": 48,
   "metadata": {},
   "outputs": [
    {
     "data": {
      "text/plain": [
       "Timestamp('2001-01-01 00:00:00')"
      ]
     },
     "execution_count": 48,
     "metadata": {},
     "output_type": "execute_result"
    }
   ],
   "source": [
    "pd.to_datetime(\"2001\")"
   ]
  },
  {
   "cell_type": "code",
   "execution_count": 50,
   "metadata": {},
   "outputs": [
    {
     "data": {
      "text/plain": [
       "0         2015-10-03\n",
       "1         2014/02/08\n",
       "2               2016\n",
       "3    July 4th , 1996\n",
       "dtype: object"
      ]
     },
     "execution_count": 50,
     "metadata": {},
     "output_type": "execute_result"
    }
   ],
   "source": [
    "times = pd.Series([\"2015-10-03\",\"2014/02/08\",\"2016\",\"July 4th , 1996\"])\n",
    "times"
   ]
  },
  {
   "cell_type": "code",
   "execution_count": 51,
   "metadata": {},
   "outputs": [
    {
     "data": {
      "text/plain": [
       "0   2015-10-03\n",
       "1   2014-02-08\n",
       "2   2016-01-01\n",
       "3   1996-07-04\n",
       "dtype: datetime64[ns]"
      ]
     },
     "execution_count": 51,
     "metadata": {},
     "output_type": "execute_result"
    }
   ],
   "source": [
    "pd.to_datetime(times)"
   ]
  },
  {
   "cell_type": "code",
   "execution_count": 53,
   "metadata": {},
   "outputs": [
    {
     "data": {
      "text/plain": [
       "0    July 4th , 1996\n",
       "1         10/04/1991\n",
       "2              hello\n",
       "3         2015-02-31\n",
       "dtype: object"
      ]
     },
     "execution_count": 53,
     "metadata": {},
     "output_type": "execute_result"
    }
   ],
   "source": [
    "dates =  pd.Series([\"July 4th , 1996\",\"10/04/1991\", \"hello\",\"2015-02-31\"])\n",
    "dates"
   ]
  },
  {
   "cell_type": "code",
   "execution_count": 55,
   "metadata": {},
   "outputs": [
    {
     "data": {
      "text/plain": [
       "0   1996-07-04\n",
       "1   1991-10-04\n",
       "2          NaT\n",
       "3          NaT\n",
       "dtype: datetime64[ns]"
      ]
     },
     "execution_count": 55,
     "metadata": {},
     "output_type": "execute_result"
    }
   ],
   "source": [
    "pd.to_datetime(dates, errors=\"coerce\")"
   ]
  },
  {
   "cell_type": "code",
   "execution_count": 58,
   "metadata": {},
   "outputs": [
    {
     "data": {
      "text/plain": [
       "DatetimeIndex(['2012-10-08 18:15:05', '1974-04-12 03:41:45',\n",
       "               '1974-08-05 22:01:45', '1974-04-06 09:21:45',\n",
       "               '1974-04-12 05:05:05'],\n",
       "              dtype='datetime64[ns]', freq=None)"
      ]
     },
     "execution_count": 58,
     "metadata": {},
     "output_type": "execute_result"
    }
   ],
   "source": [
    "pd.to_datetime([1349720105,134970105,144972105,134472105,134975105],unit=\"s\")"
   ]
  },
  {
   "cell_type": "markdown",
   "metadata": {},
   "source": [
    "### Create Range of Dates with the pd.date_range method, Part 1"
   ]
  },
  {
   "cell_type": "code",
   "execution_count": 59,
   "metadata": {},
   "outputs": [
    {
     "data": {
      "text/plain": [
       "DatetimeIndex(['2018-01-01', '2018-01-02', '2018-01-03', '2018-01-04',\n",
       "               '2018-01-05', '2018-01-06', '2018-01-07', '2018-01-08',\n",
       "               '2018-01-09', '2018-01-10'],\n",
       "              dtype='datetime64[ns]', freq='D')"
      ]
     },
     "execution_count": 59,
     "metadata": {},
     "output_type": "execute_result"
    }
   ],
   "source": [
    "pd.date_range(start= \"2018-01-01\",end=\"2018-01-10\")"
   ]
  },
  {
   "cell_type": "code",
   "execution_count": 60,
   "metadata": {},
   "outputs": [
    {
     "data": {
      "text/plain": [
       "DatetimeIndex(['2018-01-01', '2018-01-02', '2018-01-03', '2018-01-04',\n",
       "               '2018-01-05', '2018-01-06', '2018-01-07', '2018-01-08',\n",
       "               '2018-01-09', '2018-01-10'],\n",
       "              dtype='datetime64[ns]', freq='D')"
      ]
     },
     "execution_count": 60,
     "metadata": {},
     "output_type": "execute_result"
    }
   ],
   "source": [
    "pd.date_range(start= \"2018-01-01\",end=\"2018-01-10\", freq=\"D\")"
   ]
  },
  {
   "cell_type": "code",
   "execution_count": 61,
   "metadata": {},
   "outputs": [
    {
     "data": {
      "text/plain": [
       "DatetimeIndex(['2000-01-31', '2000-02-29', '2000-03-31', '2000-04-30',\n",
       "               '2000-05-31', '2000-06-30', '2000-07-31', '2000-08-31',\n",
       "               '2000-09-30', '2000-10-31',\n",
       "               ...\n",
       "               '2017-03-31', '2017-04-30', '2017-05-31', '2017-06-30',\n",
       "               '2017-07-31', '2017-08-31', '2017-09-30', '2017-10-31',\n",
       "               '2017-11-30', '2017-12-31'],\n",
       "              dtype='datetime64[ns]', length=216, freq='M')"
      ]
     },
     "execution_count": 61,
     "metadata": {},
     "output_type": "execute_result"
    }
   ],
   "source": [
    "pd.date_range(start= \"2000-01-01\",end=\"2018-01-10\", freq='M')"
   ]
  },
  {
   "cell_type": "code",
   "execution_count": 64,
   "metadata": {},
   "outputs": [],
   "source": [
    "times = pd.date_range(start= \"2018-01-01\",end=\"2018-01-10\", freq=\"D\")"
   ]
  },
  {
   "cell_type": "code",
   "execution_count": 66,
   "metadata": {},
   "outputs": [
    {
     "data": {
      "text/plain": [
       "pandas._libs.tslib.Timestamp"
      ]
     },
     "execution_count": 66,
     "metadata": {},
     "output_type": "execute_result"
    }
   ],
   "source": [
    "type(times[0])"
   ]
  },
  {
   "cell_type": "code",
   "execution_count": 68,
   "metadata": {},
   "outputs": [
    {
     "data": {
      "text/plain": [
       "DatetimeIndex(['2018-01-01', '2018-01-03', '2018-01-05', '2018-01-07',\n",
       "               '2018-01-09'],\n",
       "              dtype='datetime64[ns]', freq='2D')"
      ]
     },
     "execution_count": 68,
     "metadata": {},
     "output_type": "execute_result"
    }
   ],
   "source": [
    "pd.date_range(start= \"2018-01-01\",end=\"2018-01-10\", freq=\"2D\")"
   ]
  },
  {
   "cell_type": "code",
   "execution_count": 69,
   "metadata": {},
   "outputs": [
    {
     "data": {
      "text/plain": [
       "DatetimeIndex(['2018-01-07', '2018-01-14', '2018-01-21', '2018-01-28',\n",
       "               '2018-02-04', '2018-02-11', '2018-02-18', '2018-02-25',\n",
       "               '2018-03-04', '2018-03-11', '2018-03-18', '2018-03-25',\n",
       "               '2018-04-01', '2018-04-08', '2018-04-15', '2018-04-22',\n",
       "               '2018-04-29', '2018-05-06', '2018-05-13', '2018-05-20',\n",
       "               '2018-05-27', '2018-06-03', '2018-06-10', '2018-06-17',\n",
       "               '2018-06-24', '2018-07-01', '2018-07-08', '2018-07-15',\n",
       "               '2018-07-22', '2018-07-29', '2018-08-05', '2018-08-12',\n",
       "               '2018-08-19', '2018-08-26', '2018-09-02', '2018-09-09',\n",
       "               '2018-09-16', '2018-09-23', '2018-09-30', '2018-10-07',\n",
       "               '2018-10-14', '2018-10-21', '2018-10-28', '2018-11-04',\n",
       "               '2018-11-11', '2018-11-18', '2018-11-25', '2018-12-02',\n",
       "               '2018-12-09', '2018-12-16', '2018-12-23', '2018-12-30'],\n",
       "              dtype='datetime64[ns]', freq='W-SUN')"
      ]
     },
     "execution_count": 69,
     "metadata": {},
     "output_type": "execute_result"
    }
   ],
   "source": [
    "pd.date_range(start=\"2018-01-01\", end=\"2018-12-31\",freq='W')"
   ]
  },
  {
   "cell_type": "code",
   "execution_count": 70,
   "metadata": {},
   "outputs": [
    {
     "data": {
      "text/plain": [
       "DatetimeIndex(['2018-12-31', '2019-12-31', '2020-12-31', '2021-12-31',\n",
       "               '2022-12-31', '2023-12-31', '2024-12-31', '2025-12-31',\n",
       "               '2026-12-31', '2027-12-31', '2028-12-31', '2029-12-31',\n",
       "               '2030-12-31', '2031-12-31', '2032-12-31', '2033-12-31',\n",
       "               '2034-12-31', '2035-12-31', '2036-12-31', '2037-12-31',\n",
       "               '2038-12-31', '2039-12-31', '2040-12-31', '2041-12-31',\n",
       "               '2042-12-31', '2043-12-31', '2044-12-31', '2045-12-31',\n",
       "               '2046-12-31', '2047-12-31', '2048-12-31', '2049-12-31'],\n",
       "              dtype='datetime64[ns]', freq='A-DEC')"
      ]
     },
     "execution_count": 70,
     "metadata": {},
     "output_type": "execute_result"
    }
   ],
   "source": [
    "pd.date_range(start= \"2018-01-01\",end=\"2050-01-01\", freq=\"A\")"
   ]
  },
  {
   "cell_type": "markdown",
   "metadata": {},
   "source": [
    "### Create Range of Dates with  the pd.date_range() Method ,Part2"
   ]
  },
  {
   "cell_type": "code",
   "execution_count": 72,
   "metadata": {},
   "outputs": [
    {
     "data": {
      "text/plain": [
       "DatetimeIndex(['2012-09-09', '2012-09-10', '2012-09-11', '2012-09-12',\n",
       "               '2012-09-13', '2012-09-14', '2012-09-15', '2012-09-16',\n",
       "               '2012-09-17', '2012-09-18', '2012-09-19', '2012-09-20',\n",
       "               '2012-09-21', '2012-09-22', '2012-09-23', '2012-09-24',\n",
       "               '2012-09-25', '2012-09-26', '2012-09-27', '2012-09-28',\n",
       "               '2012-09-29', '2012-09-30', '2012-10-01', '2012-10-02',\n",
       "               '2012-10-03'],\n",
       "              dtype='datetime64[ns]', freq='D')"
      ]
     },
     "execution_count": 72,
     "metadata": {},
     "output_type": "execute_result"
    }
   ],
   "source": [
    "pd.date_range(start=\"2012-09-09\", periods=25, freq=\"D\")"
   ]
  },
  {
   "cell_type": "code",
   "execution_count": 73,
   "metadata": {},
   "outputs": [
    {
     "data": {
      "text/plain": [
       "DatetimeIndex(['2012-09-10', '2012-09-11', '2012-09-12', '2012-09-13',\n",
       "               '2012-09-14', '2012-09-17', '2012-09-18', '2012-09-19',\n",
       "               '2012-09-20', '2012-09-21', '2012-09-24', '2012-09-25',\n",
       "               '2012-09-26', '2012-09-27', '2012-09-28', '2012-10-01',\n",
       "               '2012-10-02', '2012-10-03', '2012-10-04', '2012-10-05',\n",
       "               '2012-10-08', '2012-10-09', '2012-10-10', '2012-10-11',\n",
       "               '2012-10-12'],\n",
       "              dtype='datetime64[ns]', freq='B')"
      ]
     },
     "execution_count": 73,
     "metadata": {},
     "output_type": "execute_result"
    }
   ],
   "source": [
    "pd.date_range(start=\"2012-09-09\", periods=25, freq=\"B\") #Bussiness Days"
   ]
  },
  {
   "cell_type": "code",
   "execution_count": 74,
   "metadata": {},
   "outputs": [
    {
     "data": {
      "text/plain": [
       "DatetimeIndex(['2012-09-09', '2012-09-16', '2012-09-23', '2012-09-30',\n",
       "               '2012-10-07', '2012-10-14', '2012-10-21', '2012-10-28',\n",
       "               '2012-11-04', '2012-11-11', '2012-11-18', '2012-11-25',\n",
       "               '2012-12-02', '2012-12-09', '2012-12-16', '2012-12-23',\n",
       "               '2012-12-30', '2013-01-06', '2013-01-13', '2013-01-20',\n",
       "               '2013-01-27', '2013-02-03', '2013-02-10', '2013-02-17',\n",
       "               '2013-02-24'],\n",
       "              dtype='datetime64[ns]', freq='W-SUN')"
      ]
     },
     "execution_count": 74,
     "metadata": {},
     "output_type": "execute_result"
    }
   ],
   "source": [
    "pd.date_range(start=\"2012-09-09\", periods=25, freq=\"W\") #weeks"
   ]
  },
  {
   "cell_type": "code",
   "execution_count": 76,
   "metadata": {},
   "outputs": [
    {
     "data": {
      "text/plain": [
       "DatetimeIndex(['2012-09-09', '2012-09-16', '2012-09-23', '2012-09-30',\n",
       "               '2012-10-07', '2012-10-14', '2012-10-21', '2012-10-28',\n",
       "               '2012-11-04', '2012-11-11', '2012-11-18', '2012-11-25',\n",
       "               '2012-12-02', '2012-12-09', '2012-12-16', '2012-12-23',\n",
       "               '2012-12-30', '2013-01-06', '2013-01-13', '2013-01-20',\n",
       "               '2013-01-27', '2013-02-03', '2013-02-10', '2013-02-17',\n",
       "               '2013-02-24'],\n",
       "              dtype='datetime64[ns]', freq='W-SUN')"
      ]
     },
     "execution_count": 76,
     "metadata": {},
     "output_type": "execute_result"
    }
   ],
   "source": [
    "pd.date_range(start=\"2012-09-09\", periods=25, freq=\"W-SUN\") #weeks start from sunday"
   ]
  },
  {
   "cell_type": "code",
   "execution_count": 77,
   "metadata": {},
   "outputs": [
    {
     "data": {
      "text/plain": [
       "DatetimeIndex(['2012-09-09 00:00:00', '2012-09-09 01:00:00',\n",
       "               '2012-09-09 02:00:00', '2012-09-09 03:00:00',\n",
       "               '2012-09-09 04:00:00', '2012-09-09 05:00:00',\n",
       "               '2012-09-09 06:00:00', '2012-09-09 07:00:00',\n",
       "               '2012-09-09 08:00:00', '2012-09-09 09:00:00',\n",
       "               '2012-09-09 10:00:00', '2012-09-09 11:00:00',\n",
       "               '2012-09-09 12:00:00', '2012-09-09 13:00:00',\n",
       "               '2012-09-09 14:00:00', '2012-09-09 15:00:00',\n",
       "               '2012-09-09 16:00:00', '2012-09-09 17:00:00',\n",
       "               '2012-09-09 18:00:00', '2012-09-09 19:00:00',\n",
       "               '2012-09-09 20:00:00', '2012-09-09 21:00:00',\n",
       "               '2012-09-09 22:00:00', '2012-09-09 23:00:00',\n",
       "               '2012-09-10 00:00:00', '2012-09-10 01:00:00',\n",
       "               '2012-09-10 02:00:00', '2012-09-10 03:00:00',\n",
       "               '2012-09-10 04:00:00', '2012-09-10 05:00:00',\n",
       "               '2012-09-10 06:00:00', '2012-09-10 07:00:00',\n",
       "               '2012-09-10 08:00:00', '2012-09-10 09:00:00',\n",
       "               '2012-09-10 10:00:00', '2012-09-10 11:00:00',\n",
       "               '2012-09-10 12:00:00', '2012-09-10 13:00:00',\n",
       "               '2012-09-10 14:00:00', '2012-09-10 15:00:00',\n",
       "               '2012-09-10 16:00:00', '2012-09-10 17:00:00',\n",
       "               '2012-09-10 18:00:00', '2012-09-10 19:00:00',\n",
       "               '2012-09-10 20:00:00', '2012-09-10 21:00:00',\n",
       "               '2012-09-10 22:00:00', '2012-09-10 23:00:00',\n",
       "               '2012-09-11 00:00:00', '2012-09-11 01:00:00'],\n",
       "              dtype='datetime64[ns]', freq='H')"
      ]
     },
     "execution_count": 77,
     "metadata": {},
     "output_type": "execute_result"
    }
   ],
   "source": [
    "pd.date_range(start=\"2012-09-09\", periods=50, freq=\"H\")"
   ]
  },
  {
   "cell_type": "code",
   "execution_count": 78,
   "metadata": {},
   "outputs": [
    {
     "data": {
      "text/plain": [
       "DatetimeIndex(['2012-09-09 00:00:00', '2012-09-09 06:00:00',\n",
       "               '2012-09-09 12:00:00', '2012-09-09 18:00:00',\n",
       "               '2012-09-10 00:00:00', '2012-09-10 06:00:00',\n",
       "               '2012-09-10 12:00:00', '2012-09-10 18:00:00',\n",
       "               '2012-09-11 00:00:00', '2012-09-11 06:00:00',\n",
       "               '2012-09-11 12:00:00', '2012-09-11 18:00:00',\n",
       "               '2012-09-12 00:00:00', '2012-09-12 06:00:00',\n",
       "               '2012-09-12 12:00:00', '2012-09-12 18:00:00',\n",
       "               '2012-09-13 00:00:00', '2012-09-13 06:00:00',\n",
       "               '2012-09-13 12:00:00', '2012-09-13 18:00:00',\n",
       "               '2012-09-14 00:00:00', '2012-09-14 06:00:00',\n",
       "               '2012-09-14 12:00:00', '2012-09-14 18:00:00',\n",
       "               '2012-09-15 00:00:00', '2012-09-15 06:00:00',\n",
       "               '2012-09-15 12:00:00', '2012-09-15 18:00:00',\n",
       "               '2012-09-16 00:00:00', '2012-09-16 06:00:00',\n",
       "               '2012-09-16 12:00:00', '2012-09-16 18:00:00',\n",
       "               '2012-09-17 00:00:00', '2012-09-17 06:00:00',\n",
       "               '2012-09-17 12:00:00', '2012-09-17 18:00:00',\n",
       "               '2012-09-18 00:00:00', '2012-09-18 06:00:00',\n",
       "               '2012-09-18 12:00:00', '2012-09-18 18:00:00',\n",
       "               '2012-09-19 00:00:00', '2012-09-19 06:00:00',\n",
       "               '2012-09-19 12:00:00', '2012-09-19 18:00:00',\n",
       "               '2012-09-20 00:00:00', '2012-09-20 06:00:00',\n",
       "               '2012-09-20 12:00:00', '2012-09-20 18:00:00',\n",
       "               '2012-09-21 00:00:00', '2012-09-21 06:00:00'],\n",
       "              dtype='datetime64[ns]', freq='6H')"
      ]
     },
     "execution_count": 78,
     "metadata": {},
     "output_type": "execute_result"
    }
   ],
   "source": [
    "pd.date_range(start=\"2012-09-09\", periods=50, freq=\"6H\")"
   ]
  },
  {
   "cell_type": "markdown",
   "metadata": {},
   "source": [
    "### Create Range of Dates with pd.date_range() Method, Part 3"
   ]
  },
  {
   "cell_type": "code",
   "execution_count": 80,
   "metadata": {},
   "outputs": [
    {
     "data": {
      "text/plain": [
       "DatetimeIndex(['1999-11-22', '1999-11-23', '1999-11-24', '1999-11-25',\n",
       "               '1999-11-26', '1999-11-27', '1999-11-28', '1999-11-29',\n",
       "               '1999-11-30', '1999-12-01', '1999-12-02', '1999-12-03',\n",
       "               '1999-12-04', '1999-12-05', '1999-12-06', '1999-12-07',\n",
       "               '1999-12-08', '1999-12-09', '1999-12-10', '1999-12-11',\n",
       "               '1999-12-12', '1999-12-13', '1999-12-14', '1999-12-15',\n",
       "               '1999-12-16', '1999-12-17', '1999-12-18', '1999-12-19',\n",
       "               '1999-12-20', '1999-12-21', '1999-12-22', '1999-12-23',\n",
       "               '1999-12-24', '1999-12-25', '1999-12-26', '1999-12-27',\n",
       "               '1999-12-28', '1999-12-29', '1999-12-30', '1999-12-31'],\n",
       "              dtype='datetime64[ns]', freq='D')"
      ]
     },
     "execution_count": 80,
     "metadata": {},
     "output_type": "execute_result"
    }
   ],
   "source": [
    "pd.date_range(end=\"1999-12-31\", periods=40, freq=\"D\")"
   ]
  },
  {
   "cell_type": "markdown",
   "metadata": {},
   "source": [
    "### The .dt Accessor"
   ]
  },
  {
   "cell_type": "code",
   "execution_count": 82,
   "metadata": {},
   "outputs": [],
   "source": [
    "bunch_of_dates = pd.date_range(start=\"2000-01-01\", end=\"2010-12-31\", freq=\"24D\")"
   ]
  },
  {
   "cell_type": "code",
   "execution_count": 83,
   "metadata": {},
   "outputs": [
    {
     "data": {
      "text/plain": [
       "0   2000-01-01\n",
       "1   2000-01-25\n",
       "2   2000-02-18\n",
       "dtype: datetime64[ns]"
      ]
     },
     "execution_count": 83,
     "metadata": {},
     "output_type": "execute_result"
    }
   ],
   "source": [
    "s = pd.Series(bunch_of_dates)\n",
    "s.head(3)"
   ]
  },
  {
   "cell_type": "code",
   "execution_count": 84,
   "metadata": {},
   "outputs": [
    {
     "data": {
      "text/plain": [
       "0       1\n",
       "1      25\n",
       "2      18\n",
       "3      13\n",
       "4       6\n",
       "5      30\n",
       "6      24\n",
       "7      17\n",
       "8      11\n",
       "9       4\n",
       "10     28\n",
       "11     21\n",
       "12     15\n",
       "13      8\n",
       "14      2\n",
       "15     26\n",
       "16     19\n",
       "17     12\n",
       "18      8\n",
       "19      1\n",
       "20     25\n",
       "21     19\n",
       "22     12\n",
       "23      6\n",
       "24     30\n",
       "25     23\n",
       "26     16\n",
       "27     10\n",
       "28      3\n",
       "29     27\n",
       "       ..\n",
       "138    25\n",
       "139    18\n",
       "140    14\n",
       "141     7\n",
       "142     1\n",
       "143    25\n",
       "144    18\n",
       "145    12\n",
       "146     5\n",
       "147    29\n",
       "148    22\n",
       "149    16\n",
       "150     9\n",
       "151     3\n",
       "152    27\n",
       "153    20\n",
       "154    13\n",
       "155     9\n",
       "156     2\n",
       "157    26\n",
       "158    20\n",
       "159    13\n",
       "160     7\n",
       "161    31\n",
       "162    24\n",
       "163    17\n",
       "164    11\n",
       "165     4\n",
       "166    28\n",
       "167    22\n",
       "Length: 168, dtype: int64"
      ]
     },
     "execution_count": 84,
     "metadata": {},
     "output_type": "execute_result"
    }
   ],
   "source": [
    "s.dt.day"
   ]
  },
  {
   "cell_type": "code",
   "execution_count": 85,
   "metadata": {},
   "outputs": [
    {
     "data": {
      "text/plain": [
       "0       1\n",
       "1       1\n",
       "2       2\n",
       "3       3\n",
       "4       4\n",
       "5       4\n",
       "6       5\n",
       "7       6\n",
       "8       7\n",
       "9       8\n",
       "10      8\n",
       "11      9\n",
       "12     10\n",
       "13     11\n",
       "14     12\n",
       "15     12\n",
       "16      1\n",
       "17      2\n",
       "18      3\n",
       "19      4\n",
       "20      4\n",
       "21      5\n",
       "22      6\n",
       "23      7\n",
       "24      7\n",
       "25      8\n",
       "26      9\n",
       "27     10\n",
       "28     11\n",
       "29     11\n",
       "       ..\n",
       "138     1\n",
       "139     2\n",
       "140     3\n",
       "141     4\n",
       "142     5\n",
       "143     5\n",
       "144     6\n",
       "145     7\n",
       "146     8\n",
       "147     8\n",
       "148     9\n",
       "149    10\n",
       "150    11\n",
       "151    12\n",
       "152    12\n",
       "153     1\n",
       "154     2\n",
       "155     3\n",
       "156     4\n",
       "157     4\n",
       "158     5\n",
       "159     6\n",
       "160     7\n",
       "161     7\n",
       "162     8\n",
       "163     9\n",
       "164    10\n",
       "165    11\n",
       "166    11\n",
       "167    12\n",
       "Length: 168, dtype: int64"
      ]
     },
     "execution_count": 85,
     "metadata": {},
     "output_type": "execute_result"
    }
   ],
   "source": [
    "s.dt.month"
   ]
  },
  {
   "cell_type": "code",
   "execution_count": 86,
   "metadata": {},
   "outputs": [
    {
     "data": {
      "text/plain": [
       "0       Saturday\n",
       "1        Tuesday\n",
       "2         Friday\n",
       "3         Monday\n",
       "4       Thursday\n",
       "5         Sunday\n",
       "6      Wednesday\n",
       "7       Saturday\n",
       "8        Tuesday\n",
       "9         Friday\n",
       "10        Monday\n",
       "11      Thursday\n",
       "12        Sunday\n",
       "13     Wednesday\n",
       "14      Saturday\n",
       "15       Tuesday\n",
       "16        Friday\n",
       "17        Monday\n",
       "18      Thursday\n",
       "19        Sunday\n",
       "20     Wednesday\n",
       "21      Saturday\n",
       "22       Tuesday\n",
       "23        Friday\n",
       "24        Monday\n",
       "25      Thursday\n",
       "26        Sunday\n",
       "27     Wednesday\n",
       "28      Saturday\n",
       "29       Tuesday\n",
       "         ...    \n",
       "138       Sunday\n",
       "139    Wednesday\n",
       "140     Saturday\n",
       "141      Tuesday\n",
       "142       Friday\n",
       "143       Monday\n",
       "144     Thursday\n",
       "145       Sunday\n",
       "146    Wednesday\n",
       "147     Saturday\n",
       "148      Tuesday\n",
       "149       Friday\n",
       "150       Monday\n",
       "151     Thursday\n",
       "152       Sunday\n",
       "153    Wednesday\n",
       "154     Saturday\n",
       "155      Tuesday\n",
       "156       Friday\n",
       "157       Monday\n",
       "158     Thursday\n",
       "159       Sunday\n",
       "160    Wednesday\n",
       "161     Saturday\n",
       "162      Tuesday\n",
       "163       Friday\n",
       "164       Monday\n",
       "165     Thursday\n",
       "166       Sunday\n",
       "167    Wednesday\n",
       "Length: 168, dtype: object"
      ]
     },
     "execution_count": 86,
     "metadata": {},
     "output_type": "execute_result"
    }
   ],
   "source": [
    "s.dt.weekday_name"
   ]
  },
  {
   "cell_type": "code",
   "execution_count": 89,
   "metadata": {},
   "outputs": [
    {
     "data": {
      "text/plain": [
       "0     2000-01-01\n",
       "19    2001-04-01\n",
       "38    2002-07-01\n",
       "137   2009-01-01\n",
       "dtype: datetime64[ns]"
      ]
     },
     "execution_count": 89,
     "metadata": {},
     "output_type": "execute_result"
    }
   ],
   "source": [
    "s[s.dt.is_quarter_start]"
   ]
  },
  {
   "cell_type": "code",
   "execution_count": 91,
   "metadata": {},
   "outputs": [
    {
     "data": {
      "text/plain": [
       "5     2000-04-30\n",
       "57    2003-09-30\n",
       "71    2004-08-31\n",
       "90    2005-11-30\n",
       "123   2008-01-31\n",
       "161   2010-07-31\n",
       "dtype: datetime64[ns]"
      ]
     },
     "execution_count": 91,
     "metadata": {},
     "output_type": "execute_result"
    }
   ],
   "source": [
    "mask = s.dt.is_month_end\n",
    "s[mask]"
   ]
  },
  {
   "cell_type": "markdown",
   "metadata": {},
   "source": [
    "### Import Finanmcial Data Set with pandas_datareader Library"
   ]
  },
  {
   "cell_type": "code",
   "execution_count": 92,
   "metadata": {
    "collapsed": true
   },
   "outputs": [],
   "source": [
    "import pandas as pd\n",
    "import datetime as dt\n",
    "from pandas_datareader import data"
   ]
  },
  {
   "cell_type": "code",
   "execution_count": 97,
   "metadata": {},
   "outputs": [],
   "source": [
    "company = \"MSFT\"\n",
    "start = \"2016-01-01\"\n",
    "end = \"2018-01-01\"\n",
    "stocks =data.DataReader(name=company, data_source=\"yahoo\", start= start, end= end)"
   ]
  },
  {
   "cell_type": "code",
   "execution_count": 98,
   "metadata": {},
   "outputs": [
    {
     "data": {
      "text/html": [
       "<div>\n",
       "<style>\n",
       "    .dataframe thead tr:only-child th {\n",
       "        text-align: right;\n",
       "    }\n",
       "\n",
       "    .dataframe thead th {\n",
       "        text-align: left;\n",
       "    }\n",
       "\n",
       "    .dataframe tbody tr th {\n",
       "        vertical-align: top;\n",
       "    }\n",
       "</style>\n",
       "<table border=\"1\" class=\"dataframe\">\n",
       "  <thead>\n",
       "    <tr style=\"text-align: right;\">\n",
       "      <th></th>\n",
       "      <th>High</th>\n",
       "      <th>Low</th>\n",
       "      <th>Open</th>\n",
       "      <th>Close</th>\n",
       "      <th>Volume</th>\n",
       "      <th>Adj Close</th>\n",
       "    </tr>\n",
       "    <tr>\n",
       "      <th>Date</th>\n",
       "      <th></th>\n",
       "      <th></th>\n",
       "      <th></th>\n",
       "      <th></th>\n",
       "      <th></th>\n",
       "      <th></th>\n",
       "    </tr>\n",
       "  </thead>\n",
       "  <tbody>\n",
       "    <tr>\n",
       "      <th>2015-12-31</th>\n",
       "      <td>56.189999</td>\n",
       "      <td>55.419998</td>\n",
       "      <td>56.040001</td>\n",
       "      <td>55.480000</td>\n",
       "      <td>27334100.0</td>\n",
       "      <td>51.920101</td>\n",
       "    </tr>\n",
       "    <tr>\n",
       "      <th>2016-01-04</th>\n",
       "      <td>54.799999</td>\n",
       "      <td>53.389999</td>\n",
       "      <td>54.320000</td>\n",
       "      <td>54.799999</td>\n",
       "      <td>53778000.0</td>\n",
       "      <td>51.283730</td>\n",
       "    </tr>\n",
       "    <tr>\n",
       "      <th>2016-01-05</th>\n",
       "      <td>55.389999</td>\n",
       "      <td>54.540001</td>\n",
       "      <td>54.930000</td>\n",
       "      <td>55.049999</td>\n",
       "      <td>34079700.0</td>\n",
       "      <td>51.517689</td>\n",
       "    </tr>\n",
       "  </tbody>\n",
       "</table>\n",
       "</div>"
      ],
      "text/plain": [
       "                 High        Low       Open      Close      Volume  Adj Close\n",
       "Date                                                                         \n",
       "2015-12-31  56.189999  55.419998  56.040001  55.480000  27334100.0  51.920101\n",
       "2016-01-04  54.799999  53.389999  54.320000  54.799999  53778000.0  51.283730\n",
       "2016-01-05  55.389999  54.540001  54.930000  55.049999  34079700.0  51.517689"
      ]
     },
     "execution_count": 98,
     "metadata": {},
     "output_type": "execute_result"
    }
   ],
   "source": [
    "stocks.head(3)"
   ]
  },
  {
   "cell_type": "code",
   "execution_count": 99,
   "metadata": {},
   "outputs": [
    {
     "data": {
      "text/plain": [
       "Index(['High', 'Low', 'Open', 'Close', 'Volume', 'Adj Close'], dtype='object')"
      ]
     },
     "execution_count": 99,
     "metadata": {},
     "output_type": "execute_result"
    }
   ],
   "source": [
    "stocks.columns"
   ]
  },
  {
   "cell_type": "code",
   "execution_count": 100,
   "metadata": {},
   "outputs": [
    {
     "data": {
      "text/plain": [
       "DatetimeIndex(['2015-12-31', '2016-01-04', '2016-01-05', '2016-01-06',\n",
       "               '2016-01-07', '2016-01-08', '2016-01-11', '2016-01-12',\n",
       "               '2016-01-13', '2016-01-14',\n",
       "               ...\n",
       "               '2017-12-15', '2017-12-18', '2017-12-19', '2017-12-20',\n",
       "               '2017-12-21', '2017-12-22', '2017-12-26', '2017-12-27',\n",
       "               '2017-12-28', '2017-12-29'],\n",
       "              dtype='datetime64[ns]', name='Date', length=504, freq=None)"
      ]
     },
     "execution_count": 100,
     "metadata": {},
     "output_type": "execute_result"
    }
   ],
   "source": [
    "stocks.index"
   ]
  },
  {
   "cell_type": "code",
   "execution_count": 101,
   "metadata": {},
   "outputs": [
    {
     "data": {
      "text/plain": [
       "Timestamp('2015-12-31 00:00:00')"
      ]
     },
     "execution_count": 101,
     "metadata": {},
     "output_type": "execute_result"
    }
   ],
   "source": [
    "stocks.index[0]"
   ]
  },
  {
   "cell_type": "code",
   "execution_count": 102,
   "metadata": {},
   "outputs": [
    {
     "data": {
      "text/plain": [
       "[DatetimeIndex(['2015-12-31', '2016-01-04', '2016-01-05', '2016-01-06',\n",
       "                '2016-01-07', '2016-01-08', '2016-01-11', '2016-01-12',\n",
       "                '2016-01-13', '2016-01-14',\n",
       "                ...\n",
       "                '2017-12-15', '2017-12-18', '2017-12-19', '2017-12-20',\n",
       "                '2017-12-21', '2017-12-22', '2017-12-26', '2017-12-27',\n",
       "                '2017-12-28', '2017-12-29'],\n",
       "               dtype='datetime64[ns]', name='Date', length=504, freq=None),\n",
       " Index(['High', 'Low', 'Open', 'Close', 'Volume', 'Adj Close'], dtype='object')]"
      ]
     },
     "execution_count": 102,
     "metadata": {},
     "output_type": "execute_result"
    }
   ],
   "source": [
    "stocks.axes"
   ]
  },
  {
   "cell_type": "markdown",
   "metadata": {},
   "source": [
    "### Selecting from a DataFrame with DateTimeIndex"
   ]
  },
  {
   "cell_type": "code",
   "execution_count": 103,
   "metadata": {
    "collapsed": true
   },
   "outputs": [],
   "source": [
    "company = \"MSFT\"\n",
    "start = \"2010-01-01\"\n",
    "end = \"2018-01-01\"\n",
    "stocks =data.DataReader(name=company, data_source=\"yahoo\", start= start, end= end)"
   ]
  },
  {
   "cell_type": "code",
   "execution_count": 104,
   "metadata": {},
   "outputs": [
    {
     "data": {
      "text/html": [
       "<div>\n",
       "<style>\n",
       "    .dataframe thead tr:only-child th {\n",
       "        text-align: right;\n",
       "    }\n",
       "\n",
       "    .dataframe thead th {\n",
       "        text-align: left;\n",
       "    }\n",
       "\n",
       "    .dataframe tbody tr th {\n",
       "        vertical-align: top;\n",
       "    }\n",
       "</style>\n",
       "<table border=\"1\" class=\"dataframe\">\n",
       "  <thead>\n",
       "    <tr style=\"text-align: right;\">\n",
       "      <th></th>\n",
       "      <th>High</th>\n",
       "      <th>Low</th>\n",
       "      <th>Open</th>\n",
       "      <th>Close</th>\n",
       "      <th>Volume</th>\n",
       "      <th>Adj Close</th>\n",
       "    </tr>\n",
       "    <tr>\n",
       "      <th>Date</th>\n",
       "      <th></th>\n",
       "      <th></th>\n",
       "      <th></th>\n",
       "      <th></th>\n",
       "      <th></th>\n",
       "      <th></th>\n",
       "    </tr>\n",
       "  </thead>\n",
       "  <tbody>\n",
       "    <tr>\n",
       "      <th>2009-12-31</th>\n",
       "      <td>30.99</td>\n",
       "      <td>30.480000</td>\n",
       "      <td>30.980000</td>\n",
       "      <td>30.480000</td>\n",
       "      <td>31929700.0</td>\n",
       "      <td>24.345514</td>\n",
       "    </tr>\n",
       "    <tr>\n",
       "      <th>2010-01-04</th>\n",
       "      <td>31.10</td>\n",
       "      <td>30.590000</td>\n",
       "      <td>30.620001</td>\n",
       "      <td>30.950001</td>\n",
       "      <td>38409100.0</td>\n",
       "      <td>24.720928</td>\n",
       "    </tr>\n",
       "    <tr>\n",
       "      <th>2010-01-05</th>\n",
       "      <td>31.10</td>\n",
       "      <td>30.639999</td>\n",
       "      <td>30.850000</td>\n",
       "      <td>30.959999</td>\n",
       "      <td>49749600.0</td>\n",
       "      <td>24.728914</td>\n",
       "    </tr>\n",
       "  </tbody>\n",
       "</table>\n",
       "</div>"
      ],
      "text/plain": [
       "             High        Low       Open      Close      Volume  Adj Close\n",
       "Date                                                                     \n",
       "2009-12-31  30.99  30.480000  30.980000  30.480000  31929700.0  24.345514\n",
       "2010-01-04  31.10  30.590000  30.620001  30.950001  38409100.0  24.720928\n",
       "2010-01-05  31.10  30.639999  30.850000  30.959999  49749600.0  24.728914"
      ]
     },
     "execution_count": 104,
     "metadata": {},
     "output_type": "execute_result"
    }
   ],
   "source": [
    "stocks.head(3)"
   ]
  },
  {
   "cell_type": "code",
   "execution_count": 105,
   "metadata": {},
   "outputs": [
    {
     "data": {
      "text/plain": [
       "High         3.848000e+01\n",
       "Low          3.807000e+01\n",
       "Open         3.820000e+01\n",
       "Close        3.841000e+01\n",
       "Volume       2.680240e+07\n",
       "Adj Close    3.431552e+01\n",
       "Name: 2014-03-04 00:00:00, dtype: float64"
      ]
     },
     "execution_count": 105,
     "metadata": {},
     "output_type": "execute_result"
    }
   ],
   "source": [
    "stocks.loc[\"2014-03-04\"]"
   ]
  },
  {
   "cell_type": "code",
   "execution_count": 107,
   "metadata": {},
   "outputs": [
    {
     "data": {
      "text/plain": [
       "High         2.585000e+01\n",
       "Low          2.536000e+01\n",
       "Open         2.541000e+01\n",
       "Close        2.568000e+01\n",
       "Volume       4.990580e+07\n",
       "Adj Close    2.106254e+01\n",
       "Name: 2011-03-11 00:00:00, dtype: float64"
      ]
     },
     "execution_count": 107,
     "metadata": {},
     "output_type": "execute_result"
    }
   ],
   "source": [
    "stocks.iloc[300]"
   ]
  },
  {
   "cell_type": "code",
   "execution_count": 108,
   "metadata": {},
   "outputs": [
    {
     "data": {
      "text/plain": [
       "High         2.585000e+01\n",
       "Low          2.536000e+01\n",
       "Open         2.541000e+01\n",
       "Close        2.568000e+01\n",
       "Volume       4.990580e+07\n",
       "Adj Close    2.106254e+01\n",
       "Name: 2011-03-11 00:00:00, dtype: float64"
      ]
     },
     "execution_count": 108,
     "metadata": {},
     "output_type": "execute_result"
    }
   ],
   "source": [
    "stocks.ix[300]"
   ]
  },
  {
   "cell_type": "code",
   "execution_count": 112,
   "metadata": {
    "collapsed": true
   },
   "outputs": [
    {
     "ename": "KeyError",
     "evalue": "'2016-01-01'",
     "output_type": "error",
     "traceback": [
      "\u001b[1;31m---------------------------------------------------------------------------\u001b[0m",
      "\u001b[1;31mTypeError\u001b[0m                                 Traceback (most recent call last)",
      "\u001b[1;32mpandas\\_libs\\index.pyx\u001b[0m in \u001b[0;36mpandas._libs.index.DatetimeEngine.get_loc\u001b[1;34m()\u001b[0m\n",
      "\u001b[1;32mpandas\\_libs\\hashtable_class_helper.pxi\u001b[0m in \u001b[0;36mpandas._libs.hashtable.Int64HashTable.get_item\u001b[1;34m()\u001b[0m\n",
      "\u001b[1;31mTypeError\u001b[0m: an integer is required",
      "\nDuring handling of the above exception, another exception occurred:\n",
      "\u001b[1;31mKeyError\u001b[0m                                  Traceback (most recent call last)",
      "\u001b[1;32m~\\Anaconda3\\lib\\site-packages\\pandas\\core\\indexes\\base.py\u001b[0m in \u001b[0;36mget_loc\u001b[1;34m(self, key, method, tolerance)\u001b[0m\n\u001b[0;32m   2441\u001b[0m             \u001b[1;32mtry\u001b[0m\u001b[1;33m:\u001b[0m\u001b[1;33m\u001b[0m\u001b[0m\n\u001b[1;32m-> 2442\u001b[1;33m                 \u001b[1;32mreturn\u001b[0m \u001b[0mself\u001b[0m\u001b[1;33m.\u001b[0m\u001b[0m_engine\u001b[0m\u001b[1;33m.\u001b[0m\u001b[0mget_loc\u001b[0m\u001b[1;33m(\u001b[0m\u001b[0mkey\u001b[0m\u001b[1;33m)\u001b[0m\u001b[1;33m\u001b[0m\u001b[0m\n\u001b[0m\u001b[0;32m   2443\u001b[0m             \u001b[1;32mexcept\u001b[0m \u001b[0mKeyError\u001b[0m\u001b[1;33m:\u001b[0m\u001b[1;33m\u001b[0m\u001b[0m\n",
      "\u001b[1;32mpandas\\_libs\\index.pyx\u001b[0m in \u001b[0;36mpandas._libs.index.DatetimeEngine.get_loc\u001b[1;34m()\u001b[0m\n",
      "\u001b[1;32mpandas\\_libs\\index.pyx\u001b[0m in \u001b[0;36mpandas._libs.index.DatetimeEngine.get_loc\u001b[1;34m()\u001b[0m\n",
      "\u001b[1;32mpandas\\_libs\\index.pyx\u001b[0m in \u001b[0;36mpandas._libs.index.DatetimeEngine._date_check_type\u001b[1;34m()\u001b[0m\n",
      "\u001b[1;31mKeyError\u001b[0m: '2016-01-01'",
      "\nDuring handling of the above exception, another exception occurred:\n",
      "\u001b[1;31mTypeError\u001b[0m                                 Traceback (most recent call last)",
      "\u001b[1;32mpandas\\_libs\\index.pyx\u001b[0m in \u001b[0;36mpandas._libs.index.DatetimeEngine.get_loc\u001b[1;34m()\u001b[0m\n",
      "\u001b[1;32mpandas\\_libs\\hashtable_class_helper.pxi\u001b[0m in \u001b[0;36mpandas._libs.hashtable.Int64HashTable.get_item\u001b[1;34m()\u001b[0m\n",
      "\u001b[1;31mTypeError\u001b[0m: an integer is required",
      "\nDuring handling of the above exception, another exception occurred:\n",
      "\u001b[1;31mKeyError\u001b[0m                                  Traceback (most recent call last)",
      "\u001b[1;32m~\\Anaconda3\\lib\\site-packages\\pandas\\core\\indexes\\datetimes.py\u001b[0m in \u001b[0;36mget_loc\u001b[1;34m(self, key, method, tolerance)\u001b[0m\n\u001b[0;32m   1426\u001b[0m         \u001b[1;32mtry\u001b[0m\u001b[1;33m:\u001b[0m\u001b[1;33m\u001b[0m\u001b[0m\n\u001b[1;32m-> 1427\u001b[1;33m             \u001b[1;32mreturn\u001b[0m \u001b[0mIndex\u001b[0m\u001b[1;33m.\u001b[0m\u001b[0mget_loc\u001b[0m\u001b[1;33m(\u001b[0m\u001b[0mself\u001b[0m\u001b[1;33m,\u001b[0m \u001b[0mkey\u001b[0m\u001b[1;33m,\u001b[0m \u001b[0mmethod\u001b[0m\u001b[1;33m,\u001b[0m \u001b[0mtolerance\u001b[0m\u001b[1;33m)\u001b[0m\u001b[1;33m\u001b[0m\u001b[0m\n\u001b[0m\u001b[0;32m   1428\u001b[0m         \u001b[1;32mexcept\u001b[0m \u001b[1;33m(\u001b[0m\u001b[0mKeyError\u001b[0m\u001b[1;33m,\u001b[0m \u001b[0mValueError\u001b[0m\u001b[1;33m,\u001b[0m \u001b[0mTypeError\u001b[0m\u001b[1;33m)\u001b[0m\u001b[1;33m:\u001b[0m\u001b[1;33m\u001b[0m\u001b[0m\n",
      "\u001b[1;32m~\\Anaconda3\\lib\\site-packages\\pandas\\core\\indexes\\base.py\u001b[0m in \u001b[0;36mget_loc\u001b[1;34m(self, key, method, tolerance)\u001b[0m\n\u001b[0;32m   2443\u001b[0m             \u001b[1;32mexcept\u001b[0m \u001b[0mKeyError\u001b[0m\u001b[1;33m:\u001b[0m\u001b[1;33m\u001b[0m\u001b[0m\n\u001b[1;32m-> 2444\u001b[1;33m                 \u001b[1;32mreturn\u001b[0m \u001b[0mself\u001b[0m\u001b[1;33m.\u001b[0m\u001b[0m_engine\u001b[0m\u001b[1;33m.\u001b[0m\u001b[0mget_loc\u001b[0m\u001b[1;33m(\u001b[0m\u001b[0mself\u001b[0m\u001b[1;33m.\u001b[0m\u001b[0m_maybe_cast_indexer\u001b[0m\u001b[1;33m(\u001b[0m\u001b[0mkey\u001b[0m\u001b[1;33m)\u001b[0m\u001b[1;33m)\u001b[0m\u001b[1;33m\u001b[0m\u001b[0m\n\u001b[0m\u001b[0;32m   2445\u001b[0m \u001b[1;33m\u001b[0m\u001b[0m\n",
      "\u001b[1;32mpandas\\_libs\\index.pyx\u001b[0m in \u001b[0;36mpandas._libs.index.DatetimeEngine.get_loc\u001b[1;34m()\u001b[0m\n",
      "\u001b[1;32mpandas\\_libs\\index.pyx\u001b[0m in \u001b[0;36mpandas._libs.index.DatetimeEngine.get_loc\u001b[1;34m()\u001b[0m\n",
      "\u001b[1;32mpandas\\_libs\\index.pyx\u001b[0m in \u001b[0;36mpandas._libs.index.DatetimeEngine._date_check_type\u001b[1;34m()\u001b[0m\n",
      "\u001b[1;31mKeyError\u001b[0m: '2016-01-01'",
      "\nDuring handling of the above exception, another exception occurred:\n",
      "\u001b[1;31mKeyError\u001b[0m                                  Traceback (most recent call last)",
      "\u001b[1;32mpandas\\_libs\\index.pyx\u001b[0m in \u001b[0;36mpandas._libs.index.DatetimeEngine.get_loc\u001b[1;34m()\u001b[0m\n",
      "\u001b[1;32mpandas\\_libs\\hashtable_class_helper.pxi\u001b[0m in \u001b[0;36mpandas._libs.hashtable.Int64HashTable.get_item\u001b[1;34m()\u001b[0m\n",
      "\u001b[1;32mpandas\\_libs\\hashtable_class_helper.pxi\u001b[0m in \u001b[0;36mpandas._libs.hashtable.Int64HashTable.get_item\u001b[1;34m()\u001b[0m\n",
      "\u001b[1;31mKeyError\u001b[0m: 1451606400000000000",
      "\nDuring handling of the above exception, another exception occurred:\n",
      "\u001b[1;31mKeyError\u001b[0m                                  Traceback (most recent call last)",
      "\u001b[1;32m~\\Anaconda3\\lib\\site-packages\\pandas\\core\\indexes\\base.py\u001b[0m in \u001b[0;36mget_loc\u001b[1;34m(self, key, method, tolerance)\u001b[0m\n\u001b[0;32m   2441\u001b[0m             \u001b[1;32mtry\u001b[0m\u001b[1;33m:\u001b[0m\u001b[1;33m\u001b[0m\u001b[0m\n\u001b[1;32m-> 2442\u001b[1;33m                 \u001b[1;32mreturn\u001b[0m \u001b[0mself\u001b[0m\u001b[1;33m.\u001b[0m\u001b[0m_engine\u001b[0m\u001b[1;33m.\u001b[0m\u001b[0mget_loc\u001b[0m\u001b[1;33m(\u001b[0m\u001b[0mkey\u001b[0m\u001b[1;33m)\u001b[0m\u001b[1;33m\u001b[0m\u001b[0m\n\u001b[0m\u001b[0;32m   2443\u001b[0m             \u001b[1;32mexcept\u001b[0m \u001b[0mKeyError\u001b[0m\u001b[1;33m:\u001b[0m\u001b[1;33m\u001b[0m\u001b[0m\n",
      "\u001b[1;32mpandas\\_libs\\index.pyx\u001b[0m in \u001b[0;36mpandas._libs.index.DatetimeEngine.get_loc\u001b[1;34m()\u001b[0m\n",
      "\u001b[1;32mpandas\\_libs\\index.pyx\u001b[0m in \u001b[0;36mpandas._libs.index.DatetimeEngine.get_loc\u001b[1;34m()\u001b[0m\n",
      "\u001b[1;31mKeyError\u001b[0m: Timestamp('2016-01-01 00:00:00')",
      "\nDuring handling of the above exception, another exception occurred:\n",
      "\u001b[1;31mKeyError\u001b[0m                                  Traceback (most recent call last)",
      "\u001b[1;32mpandas\\_libs\\index.pyx\u001b[0m in \u001b[0;36mpandas._libs.index.DatetimeEngine.get_loc\u001b[1;34m()\u001b[0m\n",
      "\u001b[1;32mpandas\\_libs\\hashtable_class_helper.pxi\u001b[0m in \u001b[0;36mpandas._libs.hashtable.Int64HashTable.get_item\u001b[1;34m()\u001b[0m\n",
      "\u001b[1;32mpandas\\_libs\\hashtable_class_helper.pxi\u001b[0m in \u001b[0;36mpandas._libs.hashtable.Int64HashTable.get_item\u001b[1;34m()\u001b[0m\n",
      "\u001b[1;31mKeyError\u001b[0m: 1451606400000000000",
      "\nDuring handling of the above exception, another exception occurred:\n",
      "\u001b[1;31mKeyError\u001b[0m                                  Traceback (most recent call last)",
      "\u001b[1;32m~\\Anaconda3\\lib\\site-packages\\pandas\\core\\indexes\\datetimes.py\u001b[0m in \u001b[0;36mget_loc\u001b[1;34m(self, key, method, tolerance)\u001b[0m\n\u001b[0;32m   1435\u001b[0m                 \u001b[0mstamp\u001b[0m \u001b[1;33m=\u001b[0m \u001b[0mTimestamp\u001b[0m\u001b[1;33m(\u001b[0m\u001b[0mkey\u001b[0m\u001b[1;33m,\u001b[0m \u001b[0mtz\u001b[0m\u001b[1;33m=\u001b[0m\u001b[0mself\u001b[0m\u001b[1;33m.\u001b[0m\u001b[0mtz\u001b[0m\u001b[1;33m)\u001b[0m\u001b[1;33m\u001b[0m\u001b[0m\n\u001b[1;32m-> 1436\u001b[1;33m                 \u001b[1;32mreturn\u001b[0m \u001b[0mIndex\u001b[0m\u001b[1;33m.\u001b[0m\u001b[0mget_loc\u001b[0m\u001b[1;33m(\u001b[0m\u001b[0mself\u001b[0m\u001b[1;33m,\u001b[0m \u001b[0mstamp\u001b[0m\u001b[1;33m,\u001b[0m \u001b[0mmethod\u001b[0m\u001b[1;33m,\u001b[0m \u001b[0mtolerance\u001b[0m\u001b[1;33m)\u001b[0m\u001b[1;33m\u001b[0m\u001b[0m\n\u001b[0m\u001b[0;32m   1437\u001b[0m             \u001b[1;32mexcept\u001b[0m \u001b[1;33m(\u001b[0m\u001b[0mKeyError\u001b[0m\u001b[1;33m,\u001b[0m \u001b[0mValueError\u001b[0m\u001b[1;33m)\u001b[0m\u001b[1;33m:\u001b[0m\u001b[1;33m\u001b[0m\u001b[0m\n",
      "\u001b[1;32m~\\Anaconda3\\lib\\site-packages\\pandas\\core\\indexes\\base.py\u001b[0m in \u001b[0;36mget_loc\u001b[1;34m(self, key, method, tolerance)\u001b[0m\n\u001b[0;32m   2443\u001b[0m             \u001b[1;32mexcept\u001b[0m \u001b[0mKeyError\u001b[0m\u001b[1;33m:\u001b[0m\u001b[1;33m\u001b[0m\u001b[0m\n\u001b[1;32m-> 2444\u001b[1;33m                 \u001b[1;32mreturn\u001b[0m \u001b[0mself\u001b[0m\u001b[1;33m.\u001b[0m\u001b[0m_engine\u001b[0m\u001b[1;33m.\u001b[0m\u001b[0mget_loc\u001b[0m\u001b[1;33m(\u001b[0m\u001b[0mself\u001b[0m\u001b[1;33m.\u001b[0m\u001b[0m_maybe_cast_indexer\u001b[0m\u001b[1;33m(\u001b[0m\u001b[0mkey\u001b[0m\u001b[1;33m)\u001b[0m\u001b[1;33m)\u001b[0m\u001b[1;33m\u001b[0m\u001b[0m\n\u001b[0m\u001b[0;32m   2445\u001b[0m \u001b[1;33m\u001b[0m\u001b[0m\n",
      "\u001b[1;32mpandas\\_libs\\index.pyx\u001b[0m in \u001b[0;36mpandas._libs.index.DatetimeEngine.get_loc\u001b[1;34m()\u001b[0m\n",
      "\u001b[1;32mpandas\\_libs\\index.pyx\u001b[0m in \u001b[0;36mpandas._libs.index.DatetimeEngine.get_loc\u001b[1;34m()\u001b[0m\n",
      "\u001b[1;31mKeyError\u001b[0m: Timestamp('2016-01-01 00:00:00')",
      "\nDuring handling of the above exception, another exception occurred:\n",
      "\u001b[1;31mKeyError\u001b[0m                                  Traceback (most recent call last)",
      "\u001b[1;32m<ipython-input-112-7bfeb55d4b0b>\u001b[0m in \u001b[0;36m<module>\u001b[1;34m()\u001b[0m\n\u001b[1;32m----> 1\u001b[1;33m \u001b[0mstocks\u001b[0m\u001b[1;33m.\u001b[0m\u001b[0mix\u001b[0m\u001b[1;33m[\u001b[0m\u001b[1;34m\"2016-01-01\"\u001b[0m\u001b[1;33m]\u001b[0m\u001b[1;33m\u001b[0m\u001b[0m\n\u001b[0m",
      "\u001b[1;32m~\\Anaconda3\\lib\\site-packages\\pandas\\core\\indexing.py\u001b[0m in \u001b[0;36m__getitem__\u001b[1;34m(self, key)\u001b[0m\n\u001b[0;32m    119\u001b[0m         \u001b[1;32melse\u001b[0m\u001b[1;33m:\u001b[0m\u001b[1;33m\u001b[0m\u001b[0m\n\u001b[0;32m    120\u001b[0m             \u001b[0mkey\u001b[0m \u001b[1;33m=\u001b[0m \u001b[0mcom\u001b[0m\u001b[1;33m.\u001b[0m\u001b[0m_apply_if_callable\u001b[0m\u001b[1;33m(\u001b[0m\u001b[0mkey\u001b[0m\u001b[1;33m,\u001b[0m \u001b[0mself\u001b[0m\u001b[1;33m.\u001b[0m\u001b[0mobj\u001b[0m\u001b[1;33m)\u001b[0m\u001b[1;33m\u001b[0m\u001b[0m\n\u001b[1;32m--> 121\u001b[1;33m             \u001b[1;32mreturn\u001b[0m \u001b[0mself\u001b[0m\u001b[1;33m.\u001b[0m\u001b[0m_getitem_axis\u001b[0m\u001b[1;33m(\u001b[0m\u001b[0mkey\u001b[0m\u001b[1;33m,\u001b[0m \u001b[0maxis\u001b[0m\u001b[1;33m=\u001b[0m\u001b[1;36m0\u001b[0m\u001b[1;33m)\u001b[0m\u001b[1;33m\u001b[0m\u001b[0m\n\u001b[0m\u001b[0;32m    122\u001b[0m \u001b[1;33m\u001b[0m\u001b[0m\n\u001b[0;32m    123\u001b[0m     \u001b[1;32mdef\u001b[0m \u001b[0m_get_label\u001b[0m\u001b[1;33m(\u001b[0m\u001b[0mself\u001b[0m\u001b[1;33m,\u001b[0m \u001b[0mlabel\u001b[0m\u001b[1;33m,\u001b[0m \u001b[0maxis\u001b[0m\u001b[1;33m=\u001b[0m\u001b[1;36m0\u001b[0m\u001b[1;33m)\u001b[0m\u001b[1;33m:\u001b[0m\u001b[1;33m\u001b[0m\u001b[0m\n",
      "\u001b[1;32m~\\Anaconda3\\lib\\site-packages\\pandas\\core\\indexing.py\u001b[0m in \u001b[0;36m_getitem_axis\u001b[1;34m(self, key, axis)\u001b[0m\n\u001b[0;32m   1075\u001b[0m                     \u001b[1;32mreturn\u001b[0m \u001b[0mself\u001b[0m\u001b[1;33m.\u001b[0m\u001b[0m_get_loc\u001b[0m\u001b[1;33m(\u001b[0m\u001b[0mkey\u001b[0m\u001b[1;33m,\u001b[0m \u001b[0maxis\u001b[0m\u001b[1;33m=\u001b[0m\u001b[0maxis\u001b[0m\u001b[1;33m)\u001b[0m\u001b[1;33m\u001b[0m\u001b[0m\n\u001b[0;32m   1076\u001b[0m \u001b[1;33m\u001b[0m\u001b[0m\n\u001b[1;32m-> 1077\u001b[1;33m             \u001b[1;32mreturn\u001b[0m \u001b[0mself\u001b[0m\u001b[1;33m.\u001b[0m\u001b[0m_get_label\u001b[0m\u001b[1;33m(\u001b[0m\u001b[0mkey\u001b[0m\u001b[1;33m,\u001b[0m \u001b[0maxis\u001b[0m\u001b[1;33m=\u001b[0m\u001b[0maxis\u001b[0m\u001b[1;33m)\u001b[0m\u001b[1;33m\u001b[0m\u001b[0m\n\u001b[0m\u001b[0;32m   1078\u001b[0m \u001b[1;33m\u001b[0m\u001b[0m\n\u001b[0;32m   1079\u001b[0m     \u001b[1;32mdef\u001b[0m \u001b[0m_getitem_iterable\u001b[0m\u001b[1;33m(\u001b[0m\u001b[0mself\u001b[0m\u001b[1;33m,\u001b[0m \u001b[0mkey\u001b[0m\u001b[1;33m,\u001b[0m \u001b[0maxis\u001b[0m\u001b[1;33m=\u001b[0m\u001b[1;36m0\u001b[0m\u001b[1;33m)\u001b[0m\u001b[1;33m:\u001b[0m\u001b[1;33m\u001b[0m\u001b[0m\n",
      "\u001b[1;32m~\\Anaconda3\\lib\\site-packages\\pandas\\core\\indexing.py\u001b[0m in \u001b[0;36m_get_label\u001b[1;34m(self, label, axis)\u001b[0m\n\u001b[0;32m    134\u001b[0m             \u001b[1;32mraise\u001b[0m \u001b[0mIndexingError\u001b[0m\u001b[1;33m(\u001b[0m\u001b[1;34m'no slices here, handle elsewhere'\u001b[0m\u001b[1;33m)\u001b[0m\u001b[1;33m\u001b[0m\u001b[0m\n\u001b[0;32m    135\u001b[0m \u001b[1;33m\u001b[0m\u001b[0m\n\u001b[1;32m--> 136\u001b[1;33m         \u001b[1;32mreturn\u001b[0m \u001b[0mself\u001b[0m\u001b[1;33m.\u001b[0m\u001b[0mobj\u001b[0m\u001b[1;33m.\u001b[0m\u001b[0m_xs\u001b[0m\u001b[1;33m(\u001b[0m\u001b[0mlabel\u001b[0m\u001b[1;33m,\u001b[0m \u001b[0maxis\u001b[0m\u001b[1;33m=\u001b[0m\u001b[0maxis\u001b[0m\u001b[1;33m)\u001b[0m\u001b[1;33m\u001b[0m\u001b[0m\n\u001b[0m\u001b[0;32m    137\u001b[0m \u001b[1;33m\u001b[0m\u001b[0m\n\u001b[0;32m    138\u001b[0m     \u001b[1;32mdef\u001b[0m \u001b[0m_get_loc\u001b[0m\u001b[1;33m(\u001b[0m\u001b[0mself\u001b[0m\u001b[1;33m,\u001b[0m \u001b[0mkey\u001b[0m\u001b[1;33m,\u001b[0m \u001b[0maxis\u001b[0m\u001b[1;33m=\u001b[0m\u001b[1;36m0\u001b[0m\u001b[1;33m)\u001b[0m\u001b[1;33m:\u001b[0m\u001b[1;33m\u001b[0m\u001b[0m\n",
      "\u001b[1;32m~\\Anaconda3\\lib\\site-packages\\pandas\\core\\generic.py\u001b[0m in \u001b[0;36mxs\u001b[1;34m(self, key, axis, level, drop_level)\u001b[0m\n\u001b[0;32m   2030\u001b[0m                                                       drop_level=drop_level)\n\u001b[0;32m   2031\u001b[0m         \u001b[1;32melse\u001b[0m\u001b[1;33m:\u001b[0m\u001b[1;33m\u001b[0m\u001b[0m\n\u001b[1;32m-> 2032\u001b[1;33m             \u001b[0mloc\u001b[0m \u001b[1;33m=\u001b[0m \u001b[0mself\u001b[0m\u001b[1;33m.\u001b[0m\u001b[0mindex\u001b[0m\u001b[1;33m.\u001b[0m\u001b[0mget_loc\u001b[0m\u001b[1;33m(\u001b[0m\u001b[0mkey\u001b[0m\u001b[1;33m)\u001b[0m\u001b[1;33m\u001b[0m\u001b[0m\n\u001b[0m\u001b[0;32m   2033\u001b[0m \u001b[1;33m\u001b[0m\u001b[0m\n\u001b[0;32m   2034\u001b[0m             \u001b[1;32mif\u001b[0m \u001b[0misinstance\u001b[0m\u001b[1;33m(\u001b[0m\u001b[0mloc\u001b[0m\u001b[1;33m,\u001b[0m \u001b[0mnp\u001b[0m\u001b[1;33m.\u001b[0m\u001b[0mndarray\u001b[0m\u001b[1;33m)\u001b[0m\u001b[1;33m:\u001b[0m\u001b[1;33m\u001b[0m\u001b[0m\n",
      "\u001b[1;32m~\\Anaconda3\\lib\\site-packages\\pandas\\core\\indexes\\datetimes.py\u001b[0m in \u001b[0;36mget_loc\u001b[1;34m(self, key, method, tolerance)\u001b[0m\n\u001b[0;32m   1436\u001b[0m                 \u001b[1;32mreturn\u001b[0m \u001b[0mIndex\u001b[0m\u001b[1;33m.\u001b[0m\u001b[0mget_loc\u001b[0m\u001b[1;33m(\u001b[0m\u001b[0mself\u001b[0m\u001b[1;33m,\u001b[0m \u001b[0mstamp\u001b[0m\u001b[1;33m,\u001b[0m \u001b[0mmethod\u001b[0m\u001b[1;33m,\u001b[0m \u001b[0mtolerance\u001b[0m\u001b[1;33m)\u001b[0m\u001b[1;33m\u001b[0m\u001b[0m\n\u001b[0;32m   1437\u001b[0m             \u001b[1;32mexcept\u001b[0m \u001b[1;33m(\u001b[0m\u001b[0mKeyError\u001b[0m\u001b[1;33m,\u001b[0m \u001b[0mValueError\u001b[0m\u001b[1;33m)\u001b[0m\u001b[1;33m:\u001b[0m\u001b[1;33m\u001b[0m\u001b[0m\n\u001b[1;32m-> 1438\u001b[1;33m                 \u001b[1;32mraise\u001b[0m \u001b[0mKeyError\u001b[0m\u001b[1;33m(\u001b[0m\u001b[0mkey\u001b[0m\u001b[1;33m)\u001b[0m\u001b[1;33m\u001b[0m\u001b[0m\n\u001b[0m\u001b[0;32m   1439\u001b[0m \u001b[1;33m\u001b[0m\u001b[0m\n\u001b[0;32m   1440\u001b[0m     \u001b[1;32mdef\u001b[0m \u001b[0m_maybe_cast_slice_bound\u001b[0m\u001b[1;33m(\u001b[0m\u001b[0mself\u001b[0m\u001b[1;33m,\u001b[0m \u001b[0mlabel\u001b[0m\u001b[1;33m,\u001b[0m \u001b[0mside\u001b[0m\u001b[1;33m,\u001b[0m \u001b[0mkind\u001b[0m\u001b[1;33m)\u001b[0m\u001b[1;33m:\u001b[0m\u001b[1;33m\u001b[0m\u001b[0m\n",
      "\u001b[1;31mKeyError\u001b[0m: '2016-01-01'"
     ]
    }
   ],
   "source": [
    "stocks.ix[\"2016-01-01\"]"
   ]
  },
  {
   "cell_type": "code",
   "execution_count": 114,
   "metadata": {},
   "outputs": [
    {
     "data": {
      "text/html": [
       "<div>\n",
       "<style>\n",
       "    .dataframe thead tr:only-child th {\n",
       "        text-align: right;\n",
       "    }\n",
       "\n",
       "    .dataframe thead th {\n",
       "        text-align: left;\n",
       "    }\n",
       "\n",
       "    .dataframe tbody tr th {\n",
       "        vertical-align: top;\n",
       "    }\n",
       "</style>\n",
       "<table border=\"1\" class=\"dataframe\">\n",
       "  <thead>\n",
       "    <tr style=\"text-align: right;\">\n",
       "      <th></th>\n",
       "      <th>High</th>\n",
       "      <th>Low</th>\n",
       "      <th>Open</th>\n",
       "      <th>Close</th>\n",
       "      <th>Volume</th>\n",
       "      <th>Adj Close</th>\n",
       "    </tr>\n",
       "    <tr>\n",
       "      <th>Date</th>\n",
       "      <th></th>\n",
       "      <th></th>\n",
       "      <th></th>\n",
       "      <th></th>\n",
       "      <th></th>\n",
       "      <th></th>\n",
       "    </tr>\n",
       "  </thead>\n",
       "  <tbody>\n",
       "    <tr>\n",
       "      <th>2013-10-01</th>\n",
       "      <td>33.610001</td>\n",
       "      <td>33.299999</td>\n",
       "      <td>33.349998</td>\n",
       "      <td>33.580002</td>\n",
       "      <td>36718700.0</td>\n",
       "      <td>29.552982</td>\n",
       "    </tr>\n",
       "    <tr>\n",
       "      <th>2013-10-02</th>\n",
       "      <td>34.029999</td>\n",
       "      <td>33.290001</td>\n",
       "      <td>33.360001</td>\n",
       "      <td>33.919998</td>\n",
       "      <td>46946800.0</td>\n",
       "      <td>29.852201</td>\n",
       "    </tr>\n",
       "    <tr>\n",
       "      <th>2013-10-03</th>\n",
       "      <td>34.000000</td>\n",
       "      <td>33.419998</td>\n",
       "      <td>33.880001</td>\n",
       "      <td>33.860001</td>\n",
       "      <td>38703800.0</td>\n",
       "      <td>29.799406</td>\n",
       "    </tr>\n",
       "    <tr>\n",
       "      <th>2013-10-04</th>\n",
       "      <td>33.990002</td>\n",
       "      <td>33.619999</td>\n",
       "      <td>33.689999</td>\n",
       "      <td>33.880001</td>\n",
       "      <td>33008100.0</td>\n",
       "      <td>29.816998</td>\n",
       "    </tr>\n",
       "    <tr>\n",
       "      <th>2013-10-07</th>\n",
       "      <td>33.709999</td>\n",
       "      <td>33.200001</td>\n",
       "      <td>33.599998</td>\n",
       "      <td>33.299999</td>\n",
       "      <td>35069300.0</td>\n",
       "      <td>29.306562</td>\n",
       "    </tr>\n",
       "  </tbody>\n",
       "</table>\n",
       "</div>"
      ],
      "text/plain": [
       "                 High        Low       Open      Close      Volume  Adj Close\n",
       "Date                                                                         \n",
       "2013-10-01  33.610001  33.299999  33.349998  33.580002  36718700.0  29.552982\n",
       "2013-10-02  34.029999  33.290001  33.360001  33.919998  46946800.0  29.852201\n",
       "2013-10-03  34.000000  33.419998  33.880001  33.860001  38703800.0  29.799406\n",
       "2013-10-04  33.990002  33.619999  33.689999  33.880001  33008100.0  29.816998\n",
       "2013-10-07  33.709999  33.200001  33.599998  33.299999  35069300.0  29.306562"
      ]
     },
     "execution_count": 114,
     "metadata": {},
     "output_type": "execute_result"
    }
   ],
   "source": [
    "stocks.loc[\"2013-10-01\" :\"2013-10-07\"]\n",
    "stocks.ix[\"2013-10-01\" :\"2013-10-07\"]"
   ]
  },
  {
   "cell_type": "code",
   "execution_count": 116,
   "metadata": {},
   "outputs": [
    {
     "data": {
      "text/plain": [
       "DatetimeIndex(['1993-02-28', '1994-02-28', '1995-02-28', '1996-02-28',\n",
       "               '1997-02-28', '1998-02-28', '1999-02-28', '2000-02-28',\n",
       "               '2001-02-28', '2002-02-28', '2003-02-28', '2004-02-28',\n",
       "               '2005-02-28', '2006-02-28', '2007-02-28', '2008-02-28',\n",
       "               '2009-02-28', '2010-02-28', '2011-02-28', '2012-02-28',\n",
       "               '2013-02-28', '2014-02-28', '2015-02-28', '2016-02-28',\n",
       "               '2017-02-28', '2018-02-28'],\n",
       "              dtype='datetime64[ns]', freq='<DateOffset: kwds={'years': 1}>')"
      ]
     },
     "execution_count": 116,
     "metadata": {},
     "output_type": "execute_result"
    }
   ],
   "source": [
    "pd.date_range(start=\"1993-02-28\", end=\"2018-02-28\", freq=pd.DateOffset(years=1))"
   ]
  },
  {
   "cell_type": "code",
   "execution_count": 117,
   "metadata": {
    "collapsed": true
   },
   "outputs": [],
   "source": [
    "birthdays = pd.date_range(start=\"1993-02-28\", end=\"2018-02-28\", freq=pd.DateOffset(years=1))"
   ]
  },
  {
   "cell_type": "code",
   "execution_count": 119,
   "metadata": {},
   "outputs": [],
   "source": [
    "mask = stocks.index.isin(birthdays)"
   ]
  },
  {
   "cell_type": "code",
   "execution_count": 120,
   "metadata": {},
   "outputs": [
    {
     "data": {
      "text/html": [
       "<div>\n",
       "<style>\n",
       "    .dataframe thead tr:only-child th {\n",
       "        text-align: right;\n",
       "    }\n",
       "\n",
       "    .dataframe thead th {\n",
       "        text-align: left;\n",
       "    }\n",
       "\n",
       "    .dataframe tbody tr th {\n",
       "        vertical-align: top;\n",
       "    }\n",
       "</style>\n",
       "<table border=\"1\" class=\"dataframe\">\n",
       "  <thead>\n",
       "    <tr style=\"text-align: right;\">\n",
       "      <th></th>\n",
       "      <th>High</th>\n",
       "      <th>Low</th>\n",
       "      <th>Open</th>\n",
       "      <th>Close</th>\n",
       "      <th>Volume</th>\n",
       "      <th>Adj Close</th>\n",
       "    </tr>\n",
       "    <tr>\n",
       "      <th>Date</th>\n",
       "      <th></th>\n",
       "      <th></th>\n",
       "      <th></th>\n",
       "      <th></th>\n",
       "      <th></th>\n",
       "      <th></th>\n",
       "    </tr>\n",
       "  </thead>\n",
       "  <tbody>\n",
       "    <tr>\n",
       "      <th>2011-02-28</th>\n",
       "      <td>26.860001</td>\n",
       "      <td>26.510000</td>\n",
       "      <td>26.690001</td>\n",
       "      <td>26.580000</td>\n",
       "      <td>51379900.0</td>\n",
       "      <td>21.800714</td>\n",
       "    </tr>\n",
       "    <tr>\n",
       "      <th>2012-02-28</th>\n",
       "      <td>31.930000</td>\n",
       "      <td>31.379999</td>\n",
       "      <td>31.410000</td>\n",
       "      <td>31.870001</td>\n",
       "      <td>45230600.0</td>\n",
       "      <td>26.851923</td>\n",
       "    </tr>\n",
       "    <tr>\n",
       "      <th>2013-02-28</th>\n",
       "      <td>27.969999</td>\n",
       "      <td>27.740000</td>\n",
       "      <td>27.879999</td>\n",
       "      <td>27.799999</td>\n",
       "      <td>35840200.0</td>\n",
       "      <td>24.125763</td>\n",
       "    </tr>\n",
       "    <tr>\n",
       "      <th>2014-02-28</th>\n",
       "      <td>38.459999</td>\n",
       "      <td>37.820000</td>\n",
       "      <td>37.980000</td>\n",
       "      <td>38.310001</td>\n",
       "      <td>41215000.0</td>\n",
       "      <td>34.226189</td>\n",
       "    </tr>\n",
       "    <tr>\n",
       "      <th>2017-02-28</th>\n",
       "      <td>64.199997</td>\n",
       "      <td>63.759998</td>\n",
       "      <td>64.080002</td>\n",
       "      <td>63.980000</td>\n",
       "      <td>23239800.0</td>\n",
       "      <td>61.890614</td>\n",
       "    </tr>\n",
       "  </tbody>\n",
       "</table>\n",
       "</div>"
      ],
      "text/plain": [
       "                 High        Low       Open      Close      Volume  Adj Close\n",
       "Date                                                                         \n",
       "2011-02-28  26.860001  26.510000  26.690001  26.580000  51379900.0  21.800714\n",
       "2012-02-28  31.930000  31.379999  31.410000  31.870001  45230600.0  26.851923\n",
       "2013-02-28  27.969999  27.740000  27.879999  27.799999  35840200.0  24.125763\n",
       "2014-02-28  38.459999  37.820000  37.980000  38.310001  41215000.0  34.226189\n",
       "2017-02-28  64.199997  63.759998  64.080002  63.980000  23239800.0  61.890614"
      ]
     },
     "execution_count": 120,
     "metadata": {},
     "output_type": "execute_result"
    }
   ],
   "source": [
    "stocks[mask]"
   ]
  },
  {
   "cell_type": "markdown",
   "metadata": {},
   "source": [
    "### Timestamp Object Attributes "
   ]
  },
  {
   "cell_type": "code",
   "execution_count": 121,
   "metadata": {},
   "outputs": [
    {
     "data": {
      "text/html": [
       "<div>\n",
       "<style>\n",
       "    .dataframe thead tr:only-child th {\n",
       "        text-align: right;\n",
       "    }\n",
       "\n",
       "    .dataframe thead th {\n",
       "        text-align: left;\n",
       "    }\n",
       "\n",
       "    .dataframe tbody tr th {\n",
       "        vertical-align: top;\n",
       "    }\n",
       "</style>\n",
       "<table border=\"1\" class=\"dataframe\">\n",
       "  <thead>\n",
       "    <tr style=\"text-align: right;\">\n",
       "      <th></th>\n",
       "      <th>High</th>\n",
       "      <th>Low</th>\n",
       "      <th>Open</th>\n",
       "      <th>Close</th>\n",
       "      <th>Volume</th>\n",
       "      <th>Adj Close</th>\n",
       "    </tr>\n",
       "    <tr>\n",
       "      <th>Date</th>\n",
       "      <th></th>\n",
       "      <th></th>\n",
       "      <th></th>\n",
       "      <th></th>\n",
       "      <th></th>\n",
       "      <th></th>\n",
       "    </tr>\n",
       "  </thead>\n",
       "  <tbody>\n",
       "    <tr>\n",
       "      <th>2009-12-31</th>\n",
       "      <td>30.99</td>\n",
       "      <td>30.480000</td>\n",
       "      <td>30.980000</td>\n",
       "      <td>30.480000</td>\n",
       "      <td>31929700.0</td>\n",
       "      <td>24.345514</td>\n",
       "    </tr>\n",
       "    <tr>\n",
       "      <th>2010-01-04</th>\n",
       "      <td>31.10</td>\n",
       "      <td>30.590000</td>\n",
       "      <td>30.620001</td>\n",
       "      <td>30.950001</td>\n",
       "      <td>38409100.0</td>\n",
       "      <td>24.720928</td>\n",
       "    </tr>\n",
       "    <tr>\n",
       "      <th>2010-01-05</th>\n",
       "      <td>31.10</td>\n",
       "      <td>30.639999</td>\n",
       "      <td>30.850000</td>\n",
       "      <td>30.959999</td>\n",
       "      <td>49749600.0</td>\n",
       "      <td>24.728914</td>\n",
       "    </tr>\n",
       "  </tbody>\n",
       "</table>\n",
       "</div>"
      ],
      "text/plain": [
       "             High        Low       Open      Close      Volume  Adj Close\n",
       "Date                                                                     \n",
       "2009-12-31  30.99  30.480000  30.980000  30.480000  31929700.0  24.345514\n",
       "2010-01-04  31.10  30.590000  30.620001  30.950001  38409100.0  24.720928\n",
       "2010-01-05  31.10  30.639999  30.850000  30.959999  49749600.0  24.728914"
      ]
     },
     "execution_count": 121,
     "metadata": {},
     "output_type": "execute_result"
    }
   ],
   "source": [
    "stocks =data.DataReader(name=company, data_source=\"yahoo\", start= start, end= end)\n",
    "stocks.head(3)"
   ]
  },
  {
   "cell_type": "code",
   "execution_count": 123,
   "metadata": {},
   "outputs": [],
   "source": [
    "somedays = stocks.index[500]"
   ]
  },
  {
   "cell_type": "code",
   "execution_count": 125,
   "metadata": {},
   "outputs": [
    {
     "data": {
      "text/plain": [
       "False"
      ]
     },
     "execution_count": 125,
     "metadata": {},
     "output_type": "execute_result"
    }
   ],
   "source": [
    "somedays.day\n",
    "somedays.month\n",
    "somedays.year\n",
    "somedays.weekday_name\n",
    "somedays.is_month_end\n",
    "somedays.is_month_end"
   ]
  },
  {
   "cell_type": "code",
   "execution_count": 126,
   "metadata": {},
   "outputs": [
    {
     "data": {
      "text/plain": [
       "Timestamp('2011-12-23 00:00:00')"
      ]
     },
     "execution_count": 126,
     "metadata": {},
     "output_type": "execute_result"
    }
   ],
   "source": [
    "somedays"
   ]
  },
  {
   "cell_type": "code",
   "execution_count": 127,
   "metadata": {
    "collapsed": true
   },
   "outputs": [],
   "source": [
    "stocks.insert(0, 'Day of Week', stocks.index.weekday_name)"
   ]
  },
  {
   "cell_type": "code",
   "execution_count": 128,
   "metadata": {},
   "outputs": [
    {
     "data": {
      "text/html": [
       "<div>\n",
       "<style>\n",
       "    .dataframe thead tr:only-child th {\n",
       "        text-align: right;\n",
       "    }\n",
       "\n",
       "    .dataframe thead th {\n",
       "        text-align: left;\n",
       "    }\n",
       "\n",
       "    .dataframe tbody tr th {\n",
       "        vertical-align: top;\n",
       "    }\n",
       "</style>\n",
       "<table border=\"1\" class=\"dataframe\">\n",
       "  <thead>\n",
       "    <tr style=\"text-align: right;\">\n",
       "      <th></th>\n",
       "      <th>Day of Week</th>\n",
       "      <th>High</th>\n",
       "      <th>Low</th>\n",
       "      <th>Open</th>\n",
       "      <th>Close</th>\n",
       "      <th>Volume</th>\n",
       "      <th>Adj Close</th>\n",
       "    </tr>\n",
       "    <tr>\n",
       "      <th>Date</th>\n",
       "      <th></th>\n",
       "      <th></th>\n",
       "      <th></th>\n",
       "      <th></th>\n",
       "      <th></th>\n",
       "      <th></th>\n",
       "      <th></th>\n",
       "    </tr>\n",
       "  </thead>\n",
       "  <tbody>\n",
       "    <tr>\n",
       "      <th>2009-12-31</th>\n",
       "      <td>Thursday</td>\n",
       "      <td>30.990000</td>\n",
       "      <td>30.480000</td>\n",
       "      <td>30.980000</td>\n",
       "      <td>30.480000</td>\n",
       "      <td>31929700.0</td>\n",
       "      <td>24.345514</td>\n",
       "    </tr>\n",
       "    <tr>\n",
       "      <th>2010-01-04</th>\n",
       "      <td>Monday</td>\n",
       "      <td>31.100000</td>\n",
       "      <td>30.590000</td>\n",
       "      <td>30.620001</td>\n",
       "      <td>30.950001</td>\n",
       "      <td>38409100.0</td>\n",
       "      <td>24.720928</td>\n",
       "    </tr>\n",
       "    <tr>\n",
       "      <th>2010-01-05</th>\n",
       "      <td>Tuesday</td>\n",
       "      <td>31.100000</td>\n",
       "      <td>30.639999</td>\n",
       "      <td>30.850000</td>\n",
       "      <td>30.959999</td>\n",
       "      <td>49749600.0</td>\n",
       "      <td>24.728914</td>\n",
       "    </tr>\n",
       "    <tr>\n",
       "      <th>2010-01-06</th>\n",
       "      <td>Wednesday</td>\n",
       "      <td>31.080000</td>\n",
       "      <td>30.520000</td>\n",
       "      <td>30.879999</td>\n",
       "      <td>30.770000</td>\n",
       "      <td>58182400.0</td>\n",
       "      <td>24.577150</td>\n",
       "    </tr>\n",
       "    <tr>\n",
       "      <th>2010-01-07</th>\n",
       "      <td>Thursday</td>\n",
       "      <td>30.700001</td>\n",
       "      <td>30.190001</td>\n",
       "      <td>30.629999</td>\n",
       "      <td>30.450001</td>\n",
       "      <td>50559700.0</td>\n",
       "      <td>24.321552</td>\n",
       "    </tr>\n",
       "  </tbody>\n",
       "</table>\n",
       "</div>"
      ],
      "text/plain": [
       "           Day of Week       High        Low       Open      Close  \\\n",
       "Date                                                                 \n",
       "2009-12-31    Thursday  30.990000  30.480000  30.980000  30.480000   \n",
       "2010-01-04      Monday  31.100000  30.590000  30.620001  30.950001   \n",
       "2010-01-05     Tuesday  31.100000  30.639999  30.850000  30.959999   \n",
       "2010-01-06   Wednesday  31.080000  30.520000  30.879999  30.770000   \n",
       "2010-01-07    Thursday  30.700001  30.190001  30.629999  30.450001   \n",
       "\n",
       "                Volume  Adj Close  \n",
       "Date                               \n",
       "2009-12-31  31929700.0  24.345514  \n",
       "2010-01-04  38409100.0  24.720928  \n",
       "2010-01-05  49749600.0  24.728914  \n",
       "2010-01-06  58182400.0  24.577150  \n",
       "2010-01-07  50559700.0  24.321552  "
      ]
     },
     "execution_count": 128,
     "metadata": {},
     "output_type": "execute_result"
    }
   ],
   "source": [
    "stocks.head()"
   ]
  },
  {
   "cell_type": "code",
   "execution_count": 129,
   "metadata": {
    "collapsed": true
   },
   "outputs": [],
   "source": [
    "stocks.insert(1, \"Is Start of Month\", stocks.index.is_month_start)"
   ]
  },
  {
   "cell_type": "code",
   "execution_count": 130,
   "metadata": {},
   "outputs": [
    {
     "data": {
      "text/html": [
       "<div>\n",
       "<style>\n",
       "    .dataframe thead tr:only-child th {\n",
       "        text-align: right;\n",
       "    }\n",
       "\n",
       "    .dataframe thead th {\n",
       "        text-align: left;\n",
       "    }\n",
       "\n",
       "    .dataframe tbody tr th {\n",
       "        vertical-align: top;\n",
       "    }\n",
       "</style>\n",
       "<table border=\"1\" class=\"dataframe\">\n",
       "  <thead>\n",
       "    <tr style=\"text-align: right;\">\n",
       "      <th></th>\n",
       "      <th>Day of Week</th>\n",
       "      <th>Is Start of Month</th>\n",
       "      <th>High</th>\n",
       "      <th>Low</th>\n",
       "      <th>Open</th>\n",
       "      <th>Close</th>\n",
       "      <th>Volume</th>\n",
       "      <th>Adj Close</th>\n",
       "    </tr>\n",
       "    <tr>\n",
       "      <th>Date</th>\n",
       "      <th></th>\n",
       "      <th></th>\n",
       "      <th></th>\n",
       "      <th></th>\n",
       "      <th></th>\n",
       "      <th></th>\n",
       "      <th></th>\n",
       "      <th></th>\n",
       "    </tr>\n",
       "  </thead>\n",
       "  <tbody>\n",
       "    <tr>\n",
       "      <th>2009-12-31</th>\n",
       "      <td>Thursday</td>\n",
       "      <td>False</td>\n",
       "      <td>30.990000</td>\n",
       "      <td>30.480000</td>\n",
       "      <td>30.980000</td>\n",
       "      <td>30.480000</td>\n",
       "      <td>31929700.0</td>\n",
       "      <td>24.345514</td>\n",
       "    </tr>\n",
       "    <tr>\n",
       "      <th>2010-01-04</th>\n",
       "      <td>Monday</td>\n",
       "      <td>False</td>\n",
       "      <td>31.100000</td>\n",
       "      <td>30.590000</td>\n",
       "      <td>30.620001</td>\n",
       "      <td>30.950001</td>\n",
       "      <td>38409100.0</td>\n",
       "      <td>24.720928</td>\n",
       "    </tr>\n",
       "    <tr>\n",
       "      <th>2010-01-05</th>\n",
       "      <td>Tuesday</td>\n",
       "      <td>False</td>\n",
       "      <td>31.100000</td>\n",
       "      <td>30.639999</td>\n",
       "      <td>30.850000</td>\n",
       "      <td>30.959999</td>\n",
       "      <td>49749600.0</td>\n",
       "      <td>24.728914</td>\n",
       "    </tr>\n",
       "    <tr>\n",
       "      <th>2010-01-06</th>\n",
       "      <td>Wednesday</td>\n",
       "      <td>False</td>\n",
       "      <td>31.080000</td>\n",
       "      <td>30.520000</td>\n",
       "      <td>30.879999</td>\n",
       "      <td>30.770000</td>\n",
       "      <td>58182400.0</td>\n",
       "      <td>24.577150</td>\n",
       "    </tr>\n",
       "    <tr>\n",
       "      <th>2010-01-07</th>\n",
       "      <td>Thursday</td>\n",
       "      <td>False</td>\n",
       "      <td>30.700001</td>\n",
       "      <td>30.190001</td>\n",
       "      <td>30.629999</td>\n",
       "      <td>30.450001</td>\n",
       "      <td>50559700.0</td>\n",
       "      <td>24.321552</td>\n",
       "    </tr>\n",
       "    <tr>\n",
       "      <th>2010-01-08</th>\n",
       "      <td>Friday</td>\n",
       "      <td>False</td>\n",
       "      <td>30.879999</td>\n",
       "      <td>30.240000</td>\n",
       "      <td>30.280001</td>\n",
       "      <td>30.660000</td>\n",
       "      <td>51197400.0</td>\n",
       "      <td>24.489288</td>\n",
       "    </tr>\n",
       "    <tr>\n",
       "      <th>2010-01-11</th>\n",
       "      <td>Monday</td>\n",
       "      <td>False</td>\n",
       "      <td>30.760000</td>\n",
       "      <td>30.120001</td>\n",
       "      <td>30.709999</td>\n",
       "      <td>30.270000</td>\n",
       "      <td>68754700.0</td>\n",
       "      <td>24.177786</td>\n",
       "    </tr>\n",
       "    <tr>\n",
       "      <th>2010-01-12</th>\n",
       "      <td>Tuesday</td>\n",
       "      <td>False</td>\n",
       "      <td>30.400000</td>\n",
       "      <td>29.910000</td>\n",
       "      <td>30.150000</td>\n",
       "      <td>30.070000</td>\n",
       "      <td>65912100.0</td>\n",
       "      <td>24.018032</td>\n",
       "    </tr>\n",
       "    <tr>\n",
       "      <th>2010-01-13</th>\n",
       "      <td>Wednesday</td>\n",
       "      <td>False</td>\n",
       "      <td>30.520000</td>\n",
       "      <td>30.010000</td>\n",
       "      <td>30.260000</td>\n",
       "      <td>30.350000</td>\n",
       "      <td>51863500.0</td>\n",
       "      <td>24.241684</td>\n",
       "    </tr>\n",
       "    <tr>\n",
       "      <th>2010-01-14</th>\n",
       "      <td>Thursday</td>\n",
       "      <td>False</td>\n",
       "      <td>31.100000</td>\n",
       "      <td>30.260000</td>\n",
       "      <td>30.309999</td>\n",
       "      <td>30.959999</td>\n",
       "      <td>63228100.0</td>\n",
       "      <td>24.728914</td>\n",
       "    </tr>\n",
       "    <tr>\n",
       "      <th>2010-01-15</th>\n",
       "      <td>Friday</td>\n",
       "      <td>False</td>\n",
       "      <td>31.240000</td>\n",
       "      <td>30.709999</td>\n",
       "      <td>31.080000</td>\n",
       "      <td>30.860001</td>\n",
       "      <td>79913200.0</td>\n",
       "      <td>24.649038</td>\n",
       "    </tr>\n",
       "    <tr>\n",
       "      <th>2010-01-19</th>\n",
       "      <td>Tuesday</td>\n",
       "      <td>False</td>\n",
       "      <td>31.240000</td>\n",
       "      <td>30.680000</td>\n",
       "      <td>30.750000</td>\n",
       "      <td>31.100000</td>\n",
       "      <td>46575700.0</td>\n",
       "      <td>24.840738</td>\n",
       "    </tr>\n",
       "    <tr>\n",
       "      <th>2010-01-20</th>\n",
       "      <td>Wednesday</td>\n",
       "      <td>False</td>\n",
       "      <td>30.940001</td>\n",
       "      <td>30.309999</td>\n",
       "      <td>30.809999</td>\n",
       "      <td>30.590000</td>\n",
       "      <td>54849500.0</td>\n",
       "      <td>24.433378</td>\n",
       "    </tr>\n",
       "    <tr>\n",
       "      <th>2010-01-21</th>\n",
       "      <td>Thursday</td>\n",
       "      <td>False</td>\n",
       "      <td>30.719999</td>\n",
       "      <td>30.000000</td>\n",
       "      <td>30.610001</td>\n",
       "      <td>30.010000</td>\n",
       "      <td>73086700.0</td>\n",
       "      <td>23.970112</td>\n",
       "    </tr>\n",
       "    <tr>\n",
       "      <th>2010-01-22</th>\n",
       "      <td>Friday</td>\n",
       "      <td>False</td>\n",
       "      <td>30.200001</td>\n",
       "      <td>28.840000</td>\n",
       "      <td>30.000000</td>\n",
       "      <td>28.959999</td>\n",
       "      <td>102004600.0</td>\n",
       "      <td>23.131437</td>\n",
       "    </tr>\n",
       "    <tr>\n",
       "      <th>2010-01-25</th>\n",
       "      <td>Monday</td>\n",
       "      <td>False</td>\n",
       "      <td>29.660000</td>\n",
       "      <td>29.100000</td>\n",
       "      <td>29.240000</td>\n",
       "      <td>29.320000</td>\n",
       "      <td>63373000.0</td>\n",
       "      <td>23.418983</td>\n",
       "    </tr>\n",
       "    <tr>\n",
       "      <th>2010-01-26</th>\n",
       "      <td>Tuesday</td>\n",
       "      <td>False</td>\n",
       "      <td>29.850000</td>\n",
       "      <td>29.090000</td>\n",
       "      <td>29.200001</td>\n",
       "      <td>29.500000</td>\n",
       "      <td>66639900.0</td>\n",
       "      <td>23.562756</td>\n",
       "    </tr>\n",
       "    <tr>\n",
       "      <th>2010-01-27</th>\n",
       "      <td>Wednesday</td>\n",
       "      <td>False</td>\n",
       "      <td>29.820000</td>\n",
       "      <td>29.020000</td>\n",
       "      <td>29.350000</td>\n",
       "      <td>29.670000</td>\n",
       "      <td>63949500.0</td>\n",
       "      <td>23.698549</td>\n",
       "    </tr>\n",
       "    <tr>\n",
       "      <th>2010-01-28</th>\n",
       "      <td>Thursday</td>\n",
       "      <td>False</td>\n",
       "      <td>29.870001</td>\n",
       "      <td>28.889999</td>\n",
       "      <td>29.840000</td>\n",
       "      <td>29.160000</td>\n",
       "      <td>117513700.0</td>\n",
       "      <td>23.291180</td>\n",
       "    </tr>\n",
       "    <tr>\n",
       "      <th>2010-01-29</th>\n",
       "      <td>Friday</td>\n",
       "      <td>False</td>\n",
       "      <td>29.920000</td>\n",
       "      <td>27.660000</td>\n",
       "      <td>29.900000</td>\n",
       "      <td>28.180000</td>\n",
       "      <td>193888500.0</td>\n",
       "      <td>22.508421</td>\n",
       "    </tr>\n",
       "    <tr>\n",
       "      <th>2010-02-01</th>\n",
       "      <td>Monday</td>\n",
       "      <td>True</td>\n",
       "      <td>28.480000</td>\n",
       "      <td>27.920000</td>\n",
       "      <td>28.389999</td>\n",
       "      <td>28.410000</td>\n",
       "      <td>85931100.0</td>\n",
       "      <td>22.692129</td>\n",
       "    </tr>\n",
       "    <tr>\n",
       "      <th>2010-02-02</th>\n",
       "      <td>Tuesday</td>\n",
       "      <td>False</td>\n",
       "      <td>28.500000</td>\n",
       "      <td>28.139999</td>\n",
       "      <td>28.370001</td>\n",
       "      <td>28.459999</td>\n",
       "      <td>54413700.0</td>\n",
       "      <td>22.732069</td>\n",
       "    </tr>\n",
       "    <tr>\n",
       "      <th>2010-02-03</th>\n",
       "      <td>Wednesday</td>\n",
       "      <td>False</td>\n",
       "      <td>28.790001</td>\n",
       "      <td>28.120001</td>\n",
       "      <td>28.260000</td>\n",
       "      <td>28.629999</td>\n",
       "      <td>61397900.0</td>\n",
       "      <td>22.867855</td>\n",
       "    </tr>\n",
       "    <tr>\n",
       "      <th>2010-02-04</th>\n",
       "      <td>Thursday</td>\n",
       "      <td>False</td>\n",
       "      <td>28.500000</td>\n",
       "      <td>27.809999</td>\n",
       "      <td>28.379999</td>\n",
       "      <td>27.840000</td>\n",
       "      <td>77850000.0</td>\n",
       "      <td>22.236853</td>\n",
       "    </tr>\n",
       "    <tr>\n",
       "      <th>2010-02-05</th>\n",
       "      <td>Friday</td>\n",
       "      <td>False</td>\n",
       "      <td>28.280001</td>\n",
       "      <td>27.570000</td>\n",
       "      <td>28.000000</td>\n",
       "      <td>28.020000</td>\n",
       "      <td>80960100.0</td>\n",
       "      <td>22.380629</td>\n",
       "    </tr>\n",
       "    <tr>\n",
       "      <th>2010-02-08</th>\n",
       "      <td>Monday</td>\n",
       "      <td>False</td>\n",
       "      <td>28.080000</td>\n",
       "      <td>27.570000</td>\n",
       "      <td>28.010000</td>\n",
       "      <td>27.719999</td>\n",
       "      <td>52820600.0</td>\n",
       "      <td>22.141001</td>\n",
       "    </tr>\n",
       "    <tr>\n",
       "      <th>2010-02-09</th>\n",
       "      <td>Tuesday</td>\n",
       "      <td>False</td>\n",
       "      <td>28.340000</td>\n",
       "      <td>27.750000</td>\n",
       "      <td>27.969999</td>\n",
       "      <td>28.010000</td>\n",
       "      <td>59195800.0</td>\n",
       "      <td>22.372641</td>\n",
       "    </tr>\n",
       "    <tr>\n",
       "      <th>2010-02-10</th>\n",
       "      <td>Wednesday</td>\n",
       "      <td>False</td>\n",
       "      <td>28.240000</td>\n",
       "      <td>27.840000</td>\n",
       "      <td>28.030001</td>\n",
       "      <td>27.990000</td>\n",
       "      <td>48591300.0</td>\n",
       "      <td>22.356657</td>\n",
       "    </tr>\n",
       "    <tr>\n",
       "      <th>2010-02-11</th>\n",
       "      <td>Thursday</td>\n",
       "      <td>False</td>\n",
       "      <td>28.400000</td>\n",
       "      <td>27.700001</td>\n",
       "      <td>27.930000</td>\n",
       "      <td>28.120001</td>\n",
       "      <td>65993700.0</td>\n",
       "      <td>22.460506</td>\n",
       "    </tr>\n",
       "    <tr>\n",
       "      <th>2010-02-12</th>\n",
       "      <td>Friday</td>\n",
       "      <td>False</td>\n",
       "      <td>28.059999</td>\n",
       "      <td>27.580000</td>\n",
       "      <td>27.809999</td>\n",
       "      <td>27.930000</td>\n",
       "      <td>81117200.0</td>\n",
       "      <td>22.308741</td>\n",
       "    </tr>\n",
       "    <tr>\n",
       "      <th>...</th>\n",
       "      <td>...</td>\n",
       "      <td>...</td>\n",
       "      <td>...</td>\n",
       "      <td>...</td>\n",
       "      <td>...</td>\n",
       "      <td>...</td>\n",
       "      <td>...</td>\n",
       "      <td>...</td>\n",
       "    </tr>\n",
       "    <tr>\n",
       "      <th>2017-11-16</th>\n",
       "      <td>Thursday</td>\n",
       "      <td>False</td>\n",
       "      <td>83.419998</td>\n",
       "      <td>82.940002</td>\n",
       "      <td>83.099998</td>\n",
       "      <td>83.199997</td>\n",
       "      <td>20962800.0</td>\n",
       "      <td>81.784210</td>\n",
       "    </tr>\n",
       "    <tr>\n",
       "      <th>2017-11-17</th>\n",
       "      <td>Friday</td>\n",
       "      <td>False</td>\n",
       "      <td>83.120003</td>\n",
       "      <td>82.239998</td>\n",
       "      <td>83.120003</td>\n",
       "      <td>82.400002</td>\n",
       "      <td>22079000.0</td>\n",
       "      <td>80.997826</td>\n",
       "    </tr>\n",
       "    <tr>\n",
       "      <th>2017-11-20</th>\n",
       "      <td>Monday</td>\n",
       "      <td>False</td>\n",
       "      <td>82.589996</td>\n",
       "      <td>82.250000</td>\n",
       "      <td>82.400002</td>\n",
       "      <td>82.529999</td>\n",
       "      <td>16315000.0</td>\n",
       "      <td>81.125610</td>\n",
       "    </tr>\n",
       "    <tr>\n",
       "      <th>2017-11-21</th>\n",
       "      <td>Tuesday</td>\n",
       "      <td>False</td>\n",
       "      <td>83.839996</td>\n",
       "      <td>82.739998</td>\n",
       "      <td>82.739998</td>\n",
       "      <td>83.720001</td>\n",
       "      <td>21237500.0</td>\n",
       "      <td>82.295364</td>\n",
       "    </tr>\n",
       "    <tr>\n",
       "      <th>2017-11-22</th>\n",
       "      <td>Wednesday</td>\n",
       "      <td>False</td>\n",
       "      <td>83.900002</td>\n",
       "      <td>83.040001</td>\n",
       "      <td>83.830002</td>\n",
       "      <td>83.110001</td>\n",
       "      <td>20553100.0</td>\n",
       "      <td>81.695747</td>\n",
       "    </tr>\n",
       "    <tr>\n",
       "      <th>2017-11-24</th>\n",
       "      <td>Friday</td>\n",
       "      <td>False</td>\n",
       "      <td>83.430000</td>\n",
       "      <td>82.779999</td>\n",
       "      <td>83.010002</td>\n",
       "      <td>83.260002</td>\n",
       "      <td>7425600.0</td>\n",
       "      <td>81.843193</td>\n",
       "    </tr>\n",
       "    <tr>\n",
       "      <th>2017-11-27</th>\n",
       "      <td>Monday</td>\n",
       "      <td>False</td>\n",
       "      <td>83.980003</td>\n",
       "      <td>83.300003</td>\n",
       "      <td>83.309998</td>\n",
       "      <td>83.870003</td>\n",
       "      <td>18265200.0</td>\n",
       "      <td>82.442818</td>\n",
       "    </tr>\n",
       "    <tr>\n",
       "      <th>2017-11-28</th>\n",
       "      <td>Tuesday</td>\n",
       "      <td>False</td>\n",
       "      <td>85.059998</td>\n",
       "      <td>84.019997</td>\n",
       "      <td>84.070000</td>\n",
       "      <td>84.879997</td>\n",
       "      <td>21926000.0</td>\n",
       "      <td>83.435616</td>\n",
       "    </tr>\n",
       "    <tr>\n",
       "      <th>2017-11-29</th>\n",
       "      <td>Wednesday</td>\n",
       "      <td>False</td>\n",
       "      <td>84.919998</td>\n",
       "      <td>83.180000</td>\n",
       "      <td>84.709999</td>\n",
       "      <td>83.339996</td>\n",
       "      <td>27381100.0</td>\n",
       "      <td>81.921829</td>\n",
       "    </tr>\n",
       "    <tr>\n",
       "      <th>2017-11-30</th>\n",
       "      <td>Thursday</td>\n",
       "      <td>False</td>\n",
       "      <td>84.519997</td>\n",
       "      <td>83.339996</td>\n",
       "      <td>83.510002</td>\n",
       "      <td>84.169998</td>\n",
       "      <td>33054600.0</td>\n",
       "      <td>82.737709</td>\n",
       "    </tr>\n",
       "    <tr>\n",
       "      <th>2017-12-01</th>\n",
       "      <td>Friday</td>\n",
       "      <td>True</td>\n",
       "      <td>84.809998</td>\n",
       "      <td>83.220001</td>\n",
       "      <td>83.599998</td>\n",
       "      <td>84.260002</td>\n",
       "      <td>29532100.0</td>\n",
       "      <td>82.826172</td>\n",
       "    </tr>\n",
       "    <tr>\n",
       "      <th>2017-12-04</th>\n",
       "      <td>Monday</td>\n",
       "      <td>False</td>\n",
       "      <td>84.430000</td>\n",
       "      <td>80.699997</td>\n",
       "      <td>84.419998</td>\n",
       "      <td>81.080002</td>\n",
       "      <td>39094900.0</td>\n",
       "      <td>79.700279</td>\n",
       "    </tr>\n",
       "    <tr>\n",
       "      <th>2017-12-05</th>\n",
       "      <td>Tuesday</td>\n",
       "      <td>False</td>\n",
       "      <td>82.680000</td>\n",
       "      <td>80.980003</td>\n",
       "      <td>81.339996</td>\n",
       "      <td>81.589996</td>\n",
       "      <td>26152300.0</td>\n",
       "      <td>80.201599</td>\n",
       "    </tr>\n",
       "    <tr>\n",
       "      <th>2017-12-06</th>\n",
       "      <td>Wednesday</td>\n",
       "      <td>False</td>\n",
       "      <td>83.139999</td>\n",
       "      <td>81.430000</td>\n",
       "      <td>81.550003</td>\n",
       "      <td>82.779999</td>\n",
       "      <td>26162100.0</td>\n",
       "      <td>81.371353</td>\n",
       "    </tr>\n",
       "    <tr>\n",
       "      <th>2017-12-07</th>\n",
       "      <td>Thursday</td>\n",
       "      <td>False</td>\n",
       "      <td>82.800003</td>\n",
       "      <td>82.000000</td>\n",
       "      <td>82.540001</td>\n",
       "      <td>82.489998</td>\n",
       "      <td>23184500.0</td>\n",
       "      <td>81.086288</td>\n",
       "    </tr>\n",
       "    <tr>\n",
       "      <th>2017-12-08</th>\n",
       "      <td>Friday</td>\n",
       "      <td>False</td>\n",
       "      <td>84.580002</td>\n",
       "      <td>83.330002</td>\n",
       "      <td>83.629997</td>\n",
       "      <td>84.160004</td>\n",
       "      <td>24489100.0</td>\n",
       "      <td>82.727882</td>\n",
       "    </tr>\n",
       "    <tr>\n",
       "      <th>2017-12-11</th>\n",
       "      <td>Monday</td>\n",
       "      <td>False</td>\n",
       "      <td>85.370003</td>\n",
       "      <td>84.120003</td>\n",
       "      <td>84.290001</td>\n",
       "      <td>85.230003</td>\n",
       "      <td>22857900.0</td>\n",
       "      <td>83.779671</td>\n",
       "    </tr>\n",
       "    <tr>\n",
       "      <th>2017-12-12</th>\n",
       "      <td>Tuesday</td>\n",
       "      <td>False</td>\n",
       "      <td>86.050003</td>\n",
       "      <td>85.080002</td>\n",
       "      <td>85.309998</td>\n",
       "      <td>85.580002</td>\n",
       "      <td>23924100.0</td>\n",
       "      <td>84.123711</td>\n",
       "    </tr>\n",
       "    <tr>\n",
       "      <th>2017-12-13</th>\n",
       "      <td>Wednesday</td>\n",
       "      <td>False</td>\n",
       "      <td>86.000000</td>\n",
       "      <td>85.169998</td>\n",
       "      <td>85.739998</td>\n",
       "      <td>85.349998</td>\n",
       "      <td>22062700.0</td>\n",
       "      <td>83.897629</td>\n",
       "    </tr>\n",
       "    <tr>\n",
       "      <th>2017-12-14</th>\n",
       "      <td>Thursday</td>\n",
       "      <td>False</td>\n",
       "      <td>85.870003</td>\n",
       "      <td>84.529999</td>\n",
       "      <td>85.430000</td>\n",
       "      <td>84.690002</td>\n",
       "      <td>19306000.0</td>\n",
       "      <td>83.248863</td>\n",
       "    </tr>\n",
       "    <tr>\n",
       "      <th>2017-12-15</th>\n",
       "      <td>Friday</td>\n",
       "      <td>False</td>\n",
       "      <td>87.089996</td>\n",
       "      <td>84.879997</td>\n",
       "      <td>85.260002</td>\n",
       "      <td>86.849998</td>\n",
       "      <td>53936700.0</td>\n",
       "      <td>85.372101</td>\n",
       "    </tr>\n",
       "    <tr>\n",
       "      <th>2017-12-18</th>\n",
       "      <td>Monday</td>\n",
       "      <td>False</td>\n",
       "      <td>87.500000</td>\n",
       "      <td>86.230003</td>\n",
       "      <td>87.120003</td>\n",
       "      <td>86.379997</td>\n",
       "      <td>22283800.0</td>\n",
       "      <td>84.910088</td>\n",
       "    </tr>\n",
       "    <tr>\n",
       "      <th>2017-12-19</th>\n",
       "      <td>Tuesday</td>\n",
       "      <td>False</td>\n",
       "      <td>86.349998</td>\n",
       "      <td>85.269997</td>\n",
       "      <td>86.349998</td>\n",
       "      <td>85.830002</td>\n",
       "      <td>23524800.0</td>\n",
       "      <td>84.369461</td>\n",
       "    </tr>\n",
       "    <tr>\n",
       "      <th>2017-12-20</th>\n",
       "      <td>Wednesday</td>\n",
       "      <td>False</td>\n",
       "      <td>86.300003</td>\n",
       "      <td>84.709999</td>\n",
       "      <td>86.199997</td>\n",
       "      <td>85.519997</td>\n",
       "      <td>23674900.0</td>\n",
       "      <td>84.064720</td>\n",
       "    </tr>\n",
       "    <tr>\n",
       "      <th>2017-12-21</th>\n",
       "      <td>Thursday</td>\n",
       "      <td>False</td>\n",
       "      <td>86.099998</td>\n",
       "      <td>85.400002</td>\n",
       "      <td>86.050003</td>\n",
       "      <td>85.500000</td>\n",
       "      <td>17990700.0</td>\n",
       "      <td>84.045067</td>\n",
       "    </tr>\n",
       "    <tr>\n",
       "      <th>2017-12-22</th>\n",
       "      <td>Friday</td>\n",
       "      <td>False</td>\n",
       "      <td>85.629997</td>\n",
       "      <td>84.919998</td>\n",
       "      <td>85.400002</td>\n",
       "      <td>85.510002</td>\n",
       "      <td>14145800.0</td>\n",
       "      <td>84.054901</td>\n",
       "    </tr>\n",
       "    <tr>\n",
       "      <th>2017-12-26</th>\n",
       "      <td>Tuesday</td>\n",
       "      <td>False</td>\n",
       "      <td>85.529999</td>\n",
       "      <td>85.029999</td>\n",
       "      <td>85.309998</td>\n",
       "      <td>85.400002</td>\n",
       "      <td>9891200.0</td>\n",
       "      <td>83.946770</td>\n",
       "    </tr>\n",
       "    <tr>\n",
       "      <th>2017-12-27</th>\n",
       "      <td>Wednesday</td>\n",
       "      <td>False</td>\n",
       "      <td>85.980003</td>\n",
       "      <td>85.220001</td>\n",
       "      <td>85.650002</td>\n",
       "      <td>85.709999</td>\n",
       "      <td>14678000.0</td>\n",
       "      <td>84.251495</td>\n",
       "    </tr>\n",
       "    <tr>\n",
       "      <th>2017-12-28</th>\n",
       "      <td>Thursday</td>\n",
       "      <td>False</td>\n",
       "      <td>85.930000</td>\n",
       "      <td>85.550003</td>\n",
       "      <td>85.900002</td>\n",
       "      <td>85.720001</td>\n",
       "      <td>10594300.0</td>\n",
       "      <td>84.261330</td>\n",
       "    </tr>\n",
       "    <tr>\n",
       "      <th>2017-12-29</th>\n",
       "      <td>Friday</td>\n",
       "      <td>False</td>\n",
       "      <td>86.050003</td>\n",
       "      <td>85.500000</td>\n",
       "      <td>85.629997</td>\n",
       "      <td>85.540001</td>\n",
       "      <td>18717400.0</td>\n",
       "      <td>84.084389</td>\n",
       "    </tr>\n",
       "  </tbody>\n",
       "</table>\n",
       "<p>2014 rows × 8 columns</p>\n",
       "</div>"
      ],
      "text/plain": [
       "           Day of Week  Is Start of Month       High        Low       Open  \\\n",
       "Date                                                                         \n",
       "2009-12-31    Thursday              False  30.990000  30.480000  30.980000   \n",
       "2010-01-04      Monday              False  31.100000  30.590000  30.620001   \n",
       "2010-01-05     Tuesday              False  31.100000  30.639999  30.850000   \n",
       "2010-01-06   Wednesday              False  31.080000  30.520000  30.879999   \n",
       "2010-01-07    Thursday              False  30.700001  30.190001  30.629999   \n",
       "2010-01-08      Friday              False  30.879999  30.240000  30.280001   \n",
       "2010-01-11      Monday              False  30.760000  30.120001  30.709999   \n",
       "2010-01-12     Tuesday              False  30.400000  29.910000  30.150000   \n",
       "2010-01-13   Wednesday              False  30.520000  30.010000  30.260000   \n",
       "2010-01-14    Thursday              False  31.100000  30.260000  30.309999   \n",
       "2010-01-15      Friday              False  31.240000  30.709999  31.080000   \n",
       "2010-01-19     Tuesday              False  31.240000  30.680000  30.750000   \n",
       "2010-01-20   Wednesday              False  30.940001  30.309999  30.809999   \n",
       "2010-01-21    Thursday              False  30.719999  30.000000  30.610001   \n",
       "2010-01-22      Friday              False  30.200001  28.840000  30.000000   \n",
       "2010-01-25      Monday              False  29.660000  29.100000  29.240000   \n",
       "2010-01-26     Tuesday              False  29.850000  29.090000  29.200001   \n",
       "2010-01-27   Wednesday              False  29.820000  29.020000  29.350000   \n",
       "2010-01-28    Thursday              False  29.870001  28.889999  29.840000   \n",
       "2010-01-29      Friday              False  29.920000  27.660000  29.900000   \n",
       "2010-02-01      Monday               True  28.480000  27.920000  28.389999   \n",
       "2010-02-02     Tuesday              False  28.500000  28.139999  28.370001   \n",
       "2010-02-03   Wednesday              False  28.790001  28.120001  28.260000   \n",
       "2010-02-04    Thursday              False  28.500000  27.809999  28.379999   \n",
       "2010-02-05      Friday              False  28.280001  27.570000  28.000000   \n",
       "2010-02-08      Monday              False  28.080000  27.570000  28.010000   \n",
       "2010-02-09     Tuesday              False  28.340000  27.750000  27.969999   \n",
       "2010-02-10   Wednesday              False  28.240000  27.840000  28.030001   \n",
       "2010-02-11    Thursday              False  28.400000  27.700001  27.930000   \n",
       "2010-02-12      Friday              False  28.059999  27.580000  27.809999   \n",
       "...                ...                ...        ...        ...        ...   \n",
       "2017-11-16    Thursday              False  83.419998  82.940002  83.099998   \n",
       "2017-11-17      Friday              False  83.120003  82.239998  83.120003   \n",
       "2017-11-20      Monday              False  82.589996  82.250000  82.400002   \n",
       "2017-11-21     Tuesday              False  83.839996  82.739998  82.739998   \n",
       "2017-11-22   Wednesday              False  83.900002  83.040001  83.830002   \n",
       "2017-11-24      Friday              False  83.430000  82.779999  83.010002   \n",
       "2017-11-27      Monday              False  83.980003  83.300003  83.309998   \n",
       "2017-11-28     Tuesday              False  85.059998  84.019997  84.070000   \n",
       "2017-11-29   Wednesday              False  84.919998  83.180000  84.709999   \n",
       "2017-11-30    Thursday              False  84.519997  83.339996  83.510002   \n",
       "2017-12-01      Friday               True  84.809998  83.220001  83.599998   \n",
       "2017-12-04      Monday              False  84.430000  80.699997  84.419998   \n",
       "2017-12-05     Tuesday              False  82.680000  80.980003  81.339996   \n",
       "2017-12-06   Wednesday              False  83.139999  81.430000  81.550003   \n",
       "2017-12-07    Thursday              False  82.800003  82.000000  82.540001   \n",
       "2017-12-08      Friday              False  84.580002  83.330002  83.629997   \n",
       "2017-12-11      Monday              False  85.370003  84.120003  84.290001   \n",
       "2017-12-12     Tuesday              False  86.050003  85.080002  85.309998   \n",
       "2017-12-13   Wednesday              False  86.000000  85.169998  85.739998   \n",
       "2017-12-14    Thursday              False  85.870003  84.529999  85.430000   \n",
       "2017-12-15      Friday              False  87.089996  84.879997  85.260002   \n",
       "2017-12-18      Monday              False  87.500000  86.230003  87.120003   \n",
       "2017-12-19     Tuesday              False  86.349998  85.269997  86.349998   \n",
       "2017-12-20   Wednesday              False  86.300003  84.709999  86.199997   \n",
       "2017-12-21    Thursday              False  86.099998  85.400002  86.050003   \n",
       "2017-12-22      Friday              False  85.629997  84.919998  85.400002   \n",
       "2017-12-26     Tuesday              False  85.529999  85.029999  85.309998   \n",
       "2017-12-27   Wednesday              False  85.980003  85.220001  85.650002   \n",
       "2017-12-28    Thursday              False  85.930000  85.550003  85.900002   \n",
       "2017-12-29      Friday              False  86.050003  85.500000  85.629997   \n",
       "\n",
       "                Close       Volume  Adj Close  \n",
       "Date                                           \n",
       "2009-12-31  30.480000   31929700.0  24.345514  \n",
       "2010-01-04  30.950001   38409100.0  24.720928  \n",
       "2010-01-05  30.959999   49749600.0  24.728914  \n",
       "2010-01-06  30.770000   58182400.0  24.577150  \n",
       "2010-01-07  30.450001   50559700.0  24.321552  \n",
       "2010-01-08  30.660000   51197400.0  24.489288  \n",
       "2010-01-11  30.270000   68754700.0  24.177786  \n",
       "2010-01-12  30.070000   65912100.0  24.018032  \n",
       "2010-01-13  30.350000   51863500.0  24.241684  \n",
       "2010-01-14  30.959999   63228100.0  24.728914  \n",
       "2010-01-15  30.860001   79913200.0  24.649038  \n",
       "2010-01-19  31.100000   46575700.0  24.840738  \n",
       "2010-01-20  30.590000   54849500.0  24.433378  \n",
       "2010-01-21  30.010000   73086700.0  23.970112  \n",
       "2010-01-22  28.959999  102004600.0  23.131437  \n",
       "2010-01-25  29.320000   63373000.0  23.418983  \n",
       "2010-01-26  29.500000   66639900.0  23.562756  \n",
       "2010-01-27  29.670000   63949500.0  23.698549  \n",
       "2010-01-28  29.160000  117513700.0  23.291180  \n",
       "2010-01-29  28.180000  193888500.0  22.508421  \n",
       "2010-02-01  28.410000   85931100.0  22.692129  \n",
       "2010-02-02  28.459999   54413700.0  22.732069  \n",
       "2010-02-03  28.629999   61397900.0  22.867855  \n",
       "2010-02-04  27.840000   77850000.0  22.236853  \n",
       "2010-02-05  28.020000   80960100.0  22.380629  \n",
       "2010-02-08  27.719999   52820600.0  22.141001  \n",
       "2010-02-09  28.010000   59195800.0  22.372641  \n",
       "2010-02-10  27.990000   48591300.0  22.356657  \n",
       "2010-02-11  28.120001   65993700.0  22.460506  \n",
       "2010-02-12  27.930000   81117200.0  22.308741  \n",
       "...               ...          ...        ...  \n",
       "2017-11-16  83.199997   20962800.0  81.784210  \n",
       "2017-11-17  82.400002   22079000.0  80.997826  \n",
       "2017-11-20  82.529999   16315000.0  81.125610  \n",
       "2017-11-21  83.720001   21237500.0  82.295364  \n",
       "2017-11-22  83.110001   20553100.0  81.695747  \n",
       "2017-11-24  83.260002    7425600.0  81.843193  \n",
       "2017-11-27  83.870003   18265200.0  82.442818  \n",
       "2017-11-28  84.879997   21926000.0  83.435616  \n",
       "2017-11-29  83.339996   27381100.0  81.921829  \n",
       "2017-11-30  84.169998   33054600.0  82.737709  \n",
       "2017-12-01  84.260002   29532100.0  82.826172  \n",
       "2017-12-04  81.080002   39094900.0  79.700279  \n",
       "2017-12-05  81.589996   26152300.0  80.201599  \n",
       "2017-12-06  82.779999   26162100.0  81.371353  \n",
       "2017-12-07  82.489998   23184500.0  81.086288  \n",
       "2017-12-08  84.160004   24489100.0  82.727882  \n",
       "2017-12-11  85.230003   22857900.0  83.779671  \n",
       "2017-12-12  85.580002   23924100.0  84.123711  \n",
       "2017-12-13  85.349998   22062700.0  83.897629  \n",
       "2017-12-14  84.690002   19306000.0  83.248863  \n",
       "2017-12-15  86.849998   53936700.0  85.372101  \n",
       "2017-12-18  86.379997   22283800.0  84.910088  \n",
       "2017-12-19  85.830002   23524800.0  84.369461  \n",
       "2017-12-20  85.519997   23674900.0  84.064720  \n",
       "2017-12-21  85.500000   17990700.0  84.045067  \n",
       "2017-12-22  85.510002   14145800.0  84.054901  \n",
       "2017-12-26  85.400002    9891200.0  83.946770  \n",
       "2017-12-27  85.709999   14678000.0  84.251495  \n",
       "2017-12-28  85.720001   10594300.0  84.261330  \n",
       "2017-12-29  85.540001   18717400.0  84.084389  \n",
       "\n",
       "[2014 rows x 8 columns]"
      ]
     },
     "execution_count": 130,
     "metadata": {},
     "output_type": "execute_result"
    }
   ],
   "source": [
    "stocks"
   ]
  },
  {
   "cell_type": "code",
   "execution_count": 131,
   "metadata": {},
   "outputs": [
    {
     "data": {
      "text/html": [
       "<div>\n",
       "<style>\n",
       "    .dataframe thead tr:only-child th {\n",
       "        text-align: right;\n",
       "    }\n",
       "\n",
       "    .dataframe thead th {\n",
       "        text-align: left;\n",
       "    }\n",
       "\n",
       "    .dataframe tbody tr th {\n",
       "        vertical-align: top;\n",
       "    }\n",
       "</style>\n",
       "<table border=\"1\" class=\"dataframe\">\n",
       "  <thead>\n",
       "    <tr style=\"text-align: right;\">\n",
       "      <th></th>\n",
       "      <th>Day of Week</th>\n",
       "      <th>Is Start of Month</th>\n",
       "      <th>High</th>\n",
       "      <th>Low</th>\n",
       "      <th>Open</th>\n",
       "      <th>Close</th>\n",
       "      <th>Volume</th>\n",
       "      <th>Adj Close</th>\n",
       "    </tr>\n",
       "    <tr>\n",
       "      <th>Date</th>\n",
       "      <th></th>\n",
       "      <th></th>\n",
       "      <th></th>\n",
       "      <th></th>\n",
       "      <th></th>\n",
       "      <th></th>\n",
       "      <th></th>\n",
       "      <th></th>\n",
       "    </tr>\n",
       "  </thead>\n",
       "  <tbody>\n",
       "    <tr>\n",
       "      <th>2010-02-01</th>\n",
       "      <td>Monday</td>\n",
       "      <td>True</td>\n",
       "      <td>28.480000</td>\n",
       "      <td>27.920000</td>\n",
       "      <td>28.389999</td>\n",
       "      <td>28.410000</td>\n",
       "      <td>85931100.0</td>\n",
       "      <td>22.692129</td>\n",
       "    </tr>\n",
       "    <tr>\n",
       "      <th>2010-03-01</th>\n",
       "      <td>Monday</td>\n",
       "      <td>True</td>\n",
       "      <td>29.049999</td>\n",
       "      <td>28.530001</td>\n",
       "      <td>28.770000</td>\n",
       "      <td>29.020000</td>\n",
       "      <td>43805400.0</td>\n",
       "      <td>23.287754</td>\n",
       "    </tr>\n",
       "    <tr>\n",
       "      <th>2010-04-01</th>\n",
       "      <td>Thursday</td>\n",
       "      <td>True</td>\n",
       "      <td>29.540001</td>\n",
       "      <td>28.620001</td>\n",
       "      <td>29.350000</td>\n",
       "      <td>29.160000</td>\n",
       "      <td>74768100.0</td>\n",
       "      <td>23.400095</td>\n",
       "    </tr>\n",
       "    <tr>\n",
       "      <th>2010-06-01</th>\n",
       "      <td>Tuesday</td>\n",
       "      <td>True</td>\n",
       "      <td>26.309999</td>\n",
       "      <td>25.520000</td>\n",
       "      <td>25.530001</td>\n",
       "      <td>25.889999</td>\n",
       "      <td>76152400.0</td>\n",
       "      <td>20.869761</td>\n",
       "    </tr>\n",
       "    <tr>\n",
       "      <th>2010-07-01</th>\n",
       "      <td>Thursday</td>\n",
       "      <td>True</td>\n",
       "      <td>23.320000</td>\n",
       "      <td>22.730000</td>\n",
       "      <td>23.090000</td>\n",
       "      <td>23.160000</td>\n",
       "      <td>92239400.0</td>\n",
       "      <td>18.669130</td>\n",
       "    </tr>\n",
       "    <tr>\n",
       "      <th>2010-09-01</th>\n",
       "      <td>Wednesday</td>\n",
       "      <td>True</td>\n",
       "      <td>23.950001</td>\n",
       "      <td>23.540001</td>\n",
       "      <td>23.670000</td>\n",
       "      <td>23.900000</td>\n",
       "      <td>65235900.0</td>\n",
       "      <td>19.368408</td>\n",
       "    </tr>\n",
       "    <tr>\n",
       "      <th>2010-10-01</th>\n",
       "      <td>Friday</td>\n",
       "      <td>True</td>\n",
       "      <td>24.820000</td>\n",
       "      <td>24.299999</td>\n",
       "      <td>24.770000</td>\n",
       "      <td>24.379999</td>\n",
       "      <td>62672300.0</td>\n",
       "      <td>19.757391</td>\n",
       "    </tr>\n",
       "    <tr>\n",
       "      <th>2010-11-01</th>\n",
       "      <td>Monday</td>\n",
       "      <td>True</td>\n",
       "      <td>27.219999</td>\n",
       "      <td>26.700001</td>\n",
       "      <td>26.879999</td>\n",
       "      <td>26.950001</td>\n",
       "      <td>61912100.0</td>\n",
       "      <td>21.840105</td>\n",
       "    </tr>\n",
       "    <tr>\n",
       "      <th>2010-12-01</th>\n",
       "      <td>Wednesday</td>\n",
       "      <td>True</td>\n",
       "      <td>26.250000</td>\n",
       "      <td>25.559999</td>\n",
       "      <td>25.570000</td>\n",
       "      <td>26.040001</td>\n",
       "      <td>74123500.0</td>\n",
       "      <td>21.232306</td>\n",
       "    </tr>\n",
       "    <tr>\n",
       "      <th>2011-02-01</th>\n",
       "      <td>Tuesday</td>\n",
       "      <td>True</td>\n",
       "      <td>28.059999</td>\n",
       "      <td>27.610001</td>\n",
       "      <td>27.799999</td>\n",
       "      <td>27.990000</td>\n",
       "      <td>62810700.0</td>\n",
       "      <td>22.822296</td>\n",
       "    </tr>\n",
       "    <tr>\n",
       "      <th>2011-03-01</th>\n",
       "      <td>Tuesday</td>\n",
       "      <td>True</td>\n",
       "      <td>26.780001</td>\n",
       "      <td>26.150000</td>\n",
       "      <td>26.600000</td>\n",
       "      <td>26.160000</td>\n",
       "      <td>60055000.0</td>\n",
       "      <td>21.456236</td>\n",
       "    </tr>\n",
       "    <tr>\n",
       "      <th>2011-04-01</th>\n",
       "      <td>Friday</td>\n",
       "      <td>True</td>\n",
       "      <td>25.530001</td>\n",
       "      <td>25.309999</td>\n",
       "      <td>25.530001</td>\n",
       "      <td>25.480000</td>\n",
       "      <td>63114200.0</td>\n",
       "      <td>20.898499</td>\n",
       "    </tr>\n",
       "    <tr>\n",
       "      <th>2011-06-01</th>\n",
       "      <td>Wednesday</td>\n",
       "      <td>True</td>\n",
       "      <td>25.100000</td>\n",
       "      <td>24.370001</td>\n",
       "      <td>24.990000</td>\n",
       "      <td>24.430000</td>\n",
       "      <td>74033500.0</td>\n",
       "      <td>20.168638</td>\n",
       "    </tr>\n",
       "    <tr>\n",
       "      <th>2011-07-01</th>\n",
       "      <td>Friday</td>\n",
       "      <td>True</td>\n",
       "      <td>26.170000</td>\n",
       "      <td>25.840000</td>\n",
       "      <td>25.930000</td>\n",
       "      <td>26.020000</td>\n",
       "      <td>52906200.0</td>\n",
       "      <td>21.481289</td>\n",
       "    </tr>\n",
       "    <tr>\n",
       "      <th>2011-08-01</th>\n",
       "      <td>Monday</td>\n",
       "      <td>True</td>\n",
       "      <td>27.690001</td>\n",
       "      <td>26.750000</td>\n",
       "      <td>27.510000</td>\n",
       "      <td>27.270000</td>\n",
       "      <td>61838400.0</td>\n",
       "      <td>22.513250</td>\n",
       "    </tr>\n",
       "    <tr>\n",
       "      <th>2011-09-01</th>\n",
       "      <td>Thursday</td>\n",
       "      <td>True</td>\n",
       "      <td>26.860001</td>\n",
       "      <td>26.209999</td>\n",
       "      <td>26.459999</td>\n",
       "      <td>26.209999</td>\n",
       "      <td>60510800.0</td>\n",
       "      <td>21.774723</td>\n",
       "    </tr>\n",
       "    <tr>\n",
       "      <th>2011-11-01</th>\n",
       "      <td>Tuesday</td>\n",
       "      <td>True</td>\n",
       "      <td>26.320000</td>\n",
       "      <td>25.860001</td>\n",
       "      <td>26.190001</td>\n",
       "      <td>25.990000</td>\n",
       "      <td>61182600.0</td>\n",
       "      <td>21.591948</td>\n",
       "    </tr>\n",
       "    <tr>\n",
       "      <th>2011-12-01</th>\n",
       "      <td>Thursday</td>\n",
       "      <td>True</td>\n",
       "      <td>25.629999</td>\n",
       "      <td>25.200001</td>\n",
       "      <td>25.559999</td>\n",
       "      <td>25.280001</td>\n",
       "      <td>48545400.0</td>\n",
       "      <td>21.160242</td>\n",
       "    </tr>\n",
       "    <tr>\n",
       "      <th>2012-02-01</th>\n",
       "      <td>Wednesday</td>\n",
       "      <td>True</td>\n",
       "      <td>30.049999</td>\n",
       "      <td>29.760000</td>\n",
       "      <td>29.790001</td>\n",
       "      <td>29.889999</td>\n",
       "      <td>67409900.0</td>\n",
       "      <td>25.018976</td>\n",
       "    </tr>\n",
       "    <tr>\n",
       "      <th>2012-03-01</th>\n",
       "      <td>Thursday</td>\n",
       "      <td>True</td>\n",
       "      <td>32.389999</td>\n",
       "      <td>31.850000</td>\n",
       "      <td>31.930000</td>\n",
       "      <td>32.290001</td>\n",
       "      <td>77344100.0</td>\n",
       "      <td>27.205793</td>\n",
       "    </tr>\n",
       "    <tr>\n",
       "      <th>2012-05-01</th>\n",
       "      <td>Tuesday</td>\n",
       "      <td>True</td>\n",
       "      <td>32.340000</td>\n",
       "      <td>31.950001</td>\n",
       "      <td>32.049999</td>\n",
       "      <td>32.009998</td>\n",
       "      <td>43832300.0</td>\n",
       "      <td>26.969879</td>\n",
       "    </tr>\n",
       "    <tr>\n",
       "      <th>2012-06-01</th>\n",
       "      <td>Friday</td>\n",
       "      <td>True</td>\n",
       "      <td>28.959999</td>\n",
       "      <td>28.440001</td>\n",
       "      <td>28.760000</td>\n",
       "      <td>28.450001</td>\n",
       "      <td>56634300.0</td>\n",
       "      <td>24.127708</td>\n",
       "    </tr>\n",
       "    <tr>\n",
       "      <th>2012-08-01</th>\n",
       "      <td>Wednesday</td>\n",
       "      <td>True</td>\n",
       "      <td>29.650000</td>\n",
       "      <td>29.209999</td>\n",
       "      <td>29.590000</td>\n",
       "      <td>29.410000</td>\n",
       "      <td>31721800.0</td>\n",
       "      <td>24.941854</td>\n",
       "    </tr>\n",
       "    <tr>\n",
       "      <th>2012-10-01</th>\n",
       "      <td>Monday</td>\n",
       "      <td>True</td>\n",
       "      <td>29.980000</td>\n",
       "      <td>29.420000</td>\n",
       "      <td>29.809999</td>\n",
       "      <td>29.490000</td>\n",
       "      <td>54042700.0</td>\n",
       "      <td>25.175381</td>\n",
       "    </tr>\n",
       "    <tr>\n",
       "      <th>2012-11-01</th>\n",
       "      <td>Thursday</td>\n",
       "      <td>True</td>\n",
       "      <td>29.559999</td>\n",
       "      <td>28.820000</td>\n",
       "      <td>28.840000</td>\n",
       "      <td>29.520000</td>\n",
       "      <td>72047900.0</td>\n",
       "      <td>25.200994</td>\n",
       "    </tr>\n",
       "    <tr>\n",
       "      <th>2013-02-01</th>\n",
       "      <td>Friday</td>\n",
       "      <td>True</td>\n",
       "      <td>28.049999</td>\n",
       "      <td>27.549999</td>\n",
       "      <td>27.670000</td>\n",
       "      <td>27.930000</td>\n",
       "      <td>55565900.0</td>\n",
       "      <td>24.039555</td>\n",
       "    </tr>\n",
       "    <tr>\n",
       "      <th>2013-03-01</th>\n",
       "      <td>Friday</td>\n",
       "      <td>True</td>\n",
       "      <td>27.980000</td>\n",
       "      <td>27.520000</td>\n",
       "      <td>27.719999</td>\n",
       "      <td>27.950001</td>\n",
       "      <td>34849700.0</td>\n",
       "      <td>24.255941</td>\n",
       "    </tr>\n",
       "    <tr>\n",
       "      <th>2013-04-01</th>\n",
       "      <td>Monday</td>\n",
       "      <td>True</td>\n",
       "      <td>28.660000</td>\n",
       "      <td>28.360001</td>\n",
       "      <td>28.639999</td>\n",
       "      <td>28.610001</td>\n",
       "      <td>29201100.0</td>\n",
       "      <td>24.828709</td>\n",
       "    </tr>\n",
       "    <tr>\n",
       "      <th>2013-05-01</th>\n",
       "      <td>Wednesday</td>\n",
       "      <td>True</td>\n",
       "      <td>33.080002</td>\n",
       "      <td>32.599998</td>\n",
       "      <td>32.930000</td>\n",
       "      <td>32.720001</td>\n",
       "      <td>54330900.0</td>\n",
       "      <td>28.395504</td>\n",
       "    </tr>\n",
       "    <tr>\n",
       "      <th>2013-07-01</th>\n",
       "      <td>Monday</td>\n",
       "      <td>True</td>\n",
       "      <td>34.990002</td>\n",
       "      <td>34.330002</td>\n",
       "      <td>34.750000</td>\n",
       "      <td>34.360001</td>\n",
       "      <td>31055400.0</td>\n",
       "      <td>30.027849</td>\n",
       "    </tr>\n",
       "    <tr>\n",
       "      <th>...</th>\n",
       "      <td>...</td>\n",
       "      <td>...</td>\n",
       "      <td>...</td>\n",
       "      <td>...</td>\n",
       "      <td>...</td>\n",
       "      <td>...</td>\n",
       "      <td>...</td>\n",
       "      <td>...</td>\n",
       "    </tr>\n",
       "    <tr>\n",
       "      <th>2014-04-01</th>\n",
       "      <td>Tuesday</td>\n",
       "      <td>True</td>\n",
       "      <td>41.590000</td>\n",
       "      <td>41.070000</td>\n",
       "      <td>41.150002</td>\n",
       "      <td>41.419998</td>\n",
       "      <td>32605000.0</td>\n",
       "      <td>37.004662</td>\n",
       "    </tr>\n",
       "    <tr>\n",
       "      <th>2014-05-01</th>\n",
       "      <td>Thursday</td>\n",
       "      <td>True</td>\n",
       "      <td>40.360001</td>\n",
       "      <td>39.950001</td>\n",
       "      <td>40.240002</td>\n",
       "      <td>40.000000</td>\n",
       "      <td>28787400.0</td>\n",
       "      <td>35.736023</td>\n",
       "    </tr>\n",
       "    <tr>\n",
       "      <th>2014-07-01</th>\n",
       "      <td>Tuesday</td>\n",
       "      <td>True</td>\n",
       "      <td>42.150002</td>\n",
       "      <td>41.689999</td>\n",
       "      <td>41.860001</td>\n",
       "      <td>41.869999</td>\n",
       "      <td>26917000.0</td>\n",
       "      <td>37.670586</td>\n",
       "    </tr>\n",
       "    <tr>\n",
       "      <th>2014-08-01</th>\n",
       "      <td>Friday</td>\n",
       "      <td>True</td>\n",
       "      <td>43.250000</td>\n",
       "      <td>42.599998</td>\n",
       "      <td>43.209999</td>\n",
       "      <td>42.860001</td>\n",
       "      <td>31170300.0</td>\n",
       "      <td>38.561287</td>\n",
       "    </tr>\n",
       "    <tr>\n",
       "      <th>2014-10-01</th>\n",
       "      <td>Wednesday</td>\n",
       "      <td>True</td>\n",
       "      <td>46.529999</td>\n",
       "      <td>45.849998</td>\n",
       "      <td>46.270000</td>\n",
       "      <td>45.900002</td>\n",
       "      <td>38088400.0</td>\n",
       "      <td>41.554317</td>\n",
       "    </tr>\n",
       "    <tr>\n",
       "      <th>2014-12-01</th>\n",
       "      <td>Monday</td>\n",
       "      <td>True</td>\n",
       "      <td>48.779999</td>\n",
       "      <td>47.709999</td>\n",
       "      <td>47.880001</td>\n",
       "      <td>48.619999</td>\n",
       "      <td>31191600.0</td>\n",
       "      <td>44.294411</td>\n",
       "    </tr>\n",
       "    <tr>\n",
       "      <th>2015-04-01</th>\n",
       "      <td>Wednesday</td>\n",
       "      <td>True</td>\n",
       "      <td>40.759998</td>\n",
       "      <td>40.310001</td>\n",
       "      <td>40.599998</td>\n",
       "      <td>40.720001</td>\n",
       "      <td>36752000.0</td>\n",
       "      <td>37.361267</td>\n",
       "    </tr>\n",
       "    <tr>\n",
       "      <th>2015-05-01</th>\n",
       "      <td>Friday</td>\n",
       "      <td>True</td>\n",
       "      <td>48.880001</td>\n",
       "      <td>48.400002</td>\n",
       "      <td>48.580002</td>\n",
       "      <td>48.660000</td>\n",
       "      <td>38937300.0</td>\n",
       "      <td>44.646336</td>\n",
       "    </tr>\n",
       "    <tr>\n",
       "      <th>2015-06-01</th>\n",
       "      <td>Monday</td>\n",
       "      <td>True</td>\n",
       "      <td>47.770000</td>\n",
       "      <td>46.619999</td>\n",
       "      <td>47.060001</td>\n",
       "      <td>47.230000</td>\n",
       "      <td>28837300.0</td>\n",
       "      <td>43.615913</td>\n",
       "    </tr>\n",
       "    <tr>\n",
       "      <th>2015-07-01</th>\n",
       "      <td>Wednesday</td>\n",
       "      <td>True</td>\n",
       "      <td>45.230000</td>\n",
       "      <td>44.099998</td>\n",
       "      <td>44.459999</td>\n",
       "      <td>44.450001</td>\n",
       "      <td>28343900.0</td>\n",
       "      <td>41.048645</td>\n",
       "    </tr>\n",
       "    <tr>\n",
       "      <th>2015-09-01</th>\n",
       "      <td>Tuesday</td>\n",
       "      <td>True</td>\n",
       "      <td>42.590000</td>\n",
       "      <td>41.660000</td>\n",
       "      <td>42.169998</td>\n",
       "      <td>41.820000</td>\n",
       "      <td>49688900.0</td>\n",
       "      <td>38.874573</td>\n",
       "    </tr>\n",
       "    <tr>\n",
       "      <th>2015-10-01</th>\n",
       "      <td>Thursday</td>\n",
       "      <td>True</td>\n",
       "      <td>44.750000</td>\n",
       "      <td>43.750000</td>\n",
       "      <td>44.750000</td>\n",
       "      <td>44.610001</td>\n",
       "      <td>28657900.0</td>\n",
       "      <td>41.468067</td>\n",
       "    </tr>\n",
       "    <tr>\n",
       "      <th>2015-12-01</th>\n",
       "      <td>Tuesday</td>\n",
       "      <td>True</td>\n",
       "      <td>55.230000</td>\n",
       "      <td>54.299999</td>\n",
       "      <td>54.410000</td>\n",
       "      <td>55.220001</td>\n",
       "      <td>39952800.0</td>\n",
       "      <td>51.676788</td>\n",
       "    </tr>\n",
       "    <tr>\n",
       "      <th>2016-02-01</th>\n",
       "      <td>Monday</td>\n",
       "      <td>True</td>\n",
       "      <td>55.090000</td>\n",
       "      <td>54.500000</td>\n",
       "      <td>54.880001</td>\n",
       "      <td>54.709999</td>\n",
       "      <td>44208500.0</td>\n",
       "      <td>51.199497</td>\n",
       "    </tr>\n",
       "    <tr>\n",
       "      <th>2016-03-01</th>\n",
       "      <td>Tuesday</td>\n",
       "      <td>True</td>\n",
       "      <td>52.590000</td>\n",
       "      <td>50.919998</td>\n",
       "      <td>50.970001</td>\n",
       "      <td>52.580002</td>\n",
       "      <td>33024500.0</td>\n",
       "      <td>49.559475</td>\n",
       "    </tr>\n",
       "    <tr>\n",
       "      <th>2016-04-01</th>\n",
       "      <td>Friday</td>\n",
       "      <td>True</td>\n",
       "      <td>55.610001</td>\n",
       "      <td>54.570000</td>\n",
       "      <td>55.049999</td>\n",
       "      <td>55.570000</td>\n",
       "      <td>24399200.0</td>\n",
       "      <td>52.377712</td>\n",
       "    </tr>\n",
       "    <tr>\n",
       "      <th>2016-06-01</th>\n",
       "      <td>Wednesday</td>\n",
       "      <td>True</td>\n",
       "      <td>52.950001</td>\n",
       "      <td>52.439999</td>\n",
       "      <td>52.439999</td>\n",
       "      <td>52.849998</td>\n",
       "      <td>25324800.0</td>\n",
       "      <td>50.162380</td>\n",
       "    </tr>\n",
       "    <tr>\n",
       "      <th>2016-07-01</th>\n",
       "      <td>Friday</td>\n",
       "      <td>True</td>\n",
       "      <td>51.720001</td>\n",
       "      <td>51.070000</td>\n",
       "      <td>51.130001</td>\n",
       "      <td>51.160000</td>\n",
       "      <td>21400400.0</td>\n",
       "      <td>48.558327</td>\n",
       "    </tr>\n",
       "    <tr>\n",
       "      <th>2016-08-01</th>\n",
       "      <td>Monday</td>\n",
       "      <td>True</td>\n",
       "      <td>56.750000</td>\n",
       "      <td>56.139999</td>\n",
       "      <td>56.599998</td>\n",
       "      <td>56.580002</td>\n",
       "      <td>26003400.0</td>\n",
       "      <td>53.702694</td>\n",
       "    </tr>\n",
       "    <tr>\n",
       "      <th>2016-09-01</th>\n",
       "      <td>Thursday</td>\n",
       "      <td>True</td>\n",
       "      <td>57.820000</td>\n",
       "      <td>57.009998</td>\n",
       "      <td>57.009998</td>\n",
       "      <td>57.590000</td>\n",
       "      <td>26075400.0</td>\n",
       "      <td>55.002018</td>\n",
       "    </tr>\n",
       "    <tr>\n",
       "      <th>2016-11-01</th>\n",
       "      <td>Tuesday</td>\n",
       "      <td>True</td>\n",
       "      <td>60.020000</td>\n",
       "      <td>59.250000</td>\n",
       "      <td>59.970001</td>\n",
       "      <td>59.799999</td>\n",
       "      <td>24533000.0</td>\n",
       "      <td>57.112709</td>\n",
       "    </tr>\n",
       "    <tr>\n",
       "      <th>2016-12-01</th>\n",
       "      <td>Thursday</td>\n",
       "      <td>True</td>\n",
       "      <td>60.150002</td>\n",
       "      <td>58.939999</td>\n",
       "      <td>60.110001</td>\n",
       "      <td>59.200001</td>\n",
       "      <td>34542100.0</td>\n",
       "      <td>56.921623</td>\n",
       "    </tr>\n",
       "    <tr>\n",
       "      <th>2017-02-01</th>\n",
       "      <td>Wednesday</td>\n",
       "      <td>True</td>\n",
       "      <td>64.620003</td>\n",
       "      <td>63.470001</td>\n",
       "      <td>64.360001</td>\n",
       "      <td>63.580002</td>\n",
       "      <td>39671500.0</td>\n",
       "      <td>61.133057</td>\n",
       "    </tr>\n",
       "    <tr>\n",
       "      <th>2017-03-01</th>\n",
       "      <td>Wednesday</td>\n",
       "      <td>True</td>\n",
       "      <td>64.989998</td>\n",
       "      <td>64.019997</td>\n",
       "      <td>64.129997</td>\n",
       "      <td>64.940002</td>\n",
       "      <td>26937500.0</td>\n",
       "      <td>62.819267</td>\n",
       "    </tr>\n",
       "    <tr>\n",
       "      <th>2017-05-01</th>\n",
       "      <td>Monday</td>\n",
       "      <td>True</td>\n",
       "      <td>69.550003</td>\n",
       "      <td>68.500000</td>\n",
       "      <td>68.680000</td>\n",
       "      <td>69.410004</td>\n",
       "      <td>31954400.0</td>\n",
       "      <td>67.143295</td>\n",
       "    </tr>\n",
       "    <tr>\n",
       "      <th>2017-06-01</th>\n",
       "      <td>Thursday</td>\n",
       "      <td>True</td>\n",
       "      <td>70.610001</td>\n",
       "      <td>69.449997</td>\n",
       "      <td>70.239998</td>\n",
       "      <td>70.099998</td>\n",
       "      <td>21603600.0</td>\n",
       "      <td>68.199440</td>\n",
       "    </tr>\n",
       "    <tr>\n",
       "      <th>2017-08-01</th>\n",
       "      <td>Tuesday</td>\n",
       "      <td>True</td>\n",
       "      <td>73.419998</td>\n",
       "      <td>72.489998</td>\n",
       "      <td>73.099998</td>\n",
       "      <td>72.580002</td>\n",
       "      <td>22132300.0</td>\n",
       "      <td>70.612221</td>\n",
       "    </tr>\n",
       "    <tr>\n",
       "      <th>2017-09-01</th>\n",
       "      <td>Friday</td>\n",
       "      <td>True</td>\n",
       "      <td>74.739998</td>\n",
       "      <td>73.639999</td>\n",
       "      <td>74.709999</td>\n",
       "      <td>73.940002</td>\n",
       "      <td>21736200.0</td>\n",
       "      <td>72.318604</td>\n",
       "    </tr>\n",
       "    <tr>\n",
       "      <th>2017-11-01</th>\n",
       "      <td>Wednesday</td>\n",
       "      <td>True</td>\n",
       "      <td>83.760002</td>\n",
       "      <td>82.879997</td>\n",
       "      <td>83.680000</td>\n",
       "      <td>83.180000</td>\n",
       "      <td>22307400.0</td>\n",
       "      <td>81.355980</td>\n",
       "    </tr>\n",
       "    <tr>\n",
       "      <th>2017-12-01</th>\n",
       "      <td>Friday</td>\n",
       "      <td>True</td>\n",
       "      <td>84.809998</td>\n",
       "      <td>83.220001</td>\n",
       "      <td>83.599998</td>\n",
       "      <td>84.260002</td>\n",
       "      <td>29532100.0</td>\n",
       "      <td>82.826172</td>\n",
       "    </tr>\n",
       "  </tbody>\n",
       "</table>\n",
       "<p>63 rows × 8 columns</p>\n",
       "</div>"
      ],
      "text/plain": [
       "           Day of Week  Is Start of Month       High        Low       Open  \\\n",
       "Date                                                                         \n",
       "2010-02-01      Monday               True  28.480000  27.920000  28.389999   \n",
       "2010-03-01      Monday               True  29.049999  28.530001  28.770000   \n",
       "2010-04-01    Thursday               True  29.540001  28.620001  29.350000   \n",
       "2010-06-01     Tuesday               True  26.309999  25.520000  25.530001   \n",
       "2010-07-01    Thursday               True  23.320000  22.730000  23.090000   \n",
       "2010-09-01   Wednesday               True  23.950001  23.540001  23.670000   \n",
       "2010-10-01      Friday               True  24.820000  24.299999  24.770000   \n",
       "2010-11-01      Monday               True  27.219999  26.700001  26.879999   \n",
       "2010-12-01   Wednesday               True  26.250000  25.559999  25.570000   \n",
       "2011-02-01     Tuesday               True  28.059999  27.610001  27.799999   \n",
       "2011-03-01     Tuesday               True  26.780001  26.150000  26.600000   \n",
       "2011-04-01      Friday               True  25.530001  25.309999  25.530001   \n",
       "2011-06-01   Wednesday               True  25.100000  24.370001  24.990000   \n",
       "2011-07-01      Friday               True  26.170000  25.840000  25.930000   \n",
       "2011-08-01      Monday               True  27.690001  26.750000  27.510000   \n",
       "2011-09-01    Thursday               True  26.860001  26.209999  26.459999   \n",
       "2011-11-01     Tuesday               True  26.320000  25.860001  26.190001   \n",
       "2011-12-01    Thursday               True  25.629999  25.200001  25.559999   \n",
       "2012-02-01   Wednesday               True  30.049999  29.760000  29.790001   \n",
       "2012-03-01    Thursday               True  32.389999  31.850000  31.930000   \n",
       "2012-05-01     Tuesday               True  32.340000  31.950001  32.049999   \n",
       "2012-06-01      Friday               True  28.959999  28.440001  28.760000   \n",
       "2012-08-01   Wednesday               True  29.650000  29.209999  29.590000   \n",
       "2012-10-01      Monday               True  29.980000  29.420000  29.809999   \n",
       "2012-11-01    Thursday               True  29.559999  28.820000  28.840000   \n",
       "2013-02-01      Friday               True  28.049999  27.549999  27.670000   \n",
       "2013-03-01      Friday               True  27.980000  27.520000  27.719999   \n",
       "2013-04-01      Monday               True  28.660000  28.360001  28.639999   \n",
       "2013-05-01   Wednesday               True  33.080002  32.599998  32.930000   \n",
       "2013-07-01      Monday               True  34.990002  34.330002  34.750000   \n",
       "...                ...                ...        ...        ...        ...   \n",
       "2014-04-01     Tuesday               True  41.590000  41.070000  41.150002   \n",
       "2014-05-01    Thursday               True  40.360001  39.950001  40.240002   \n",
       "2014-07-01     Tuesday               True  42.150002  41.689999  41.860001   \n",
       "2014-08-01      Friday               True  43.250000  42.599998  43.209999   \n",
       "2014-10-01   Wednesday               True  46.529999  45.849998  46.270000   \n",
       "2014-12-01      Monday               True  48.779999  47.709999  47.880001   \n",
       "2015-04-01   Wednesday               True  40.759998  40.310001  40.599998   \n",
       "2015-05-01      Friday               True  48.880001  48.400002  48.580002   \n",
       "2015-06-01      Monday               True  47.770000  46.619999  47.060001   \n",
       "2015-07-01   Wednesday               True  45.230000  44.099998  44.459999   \n",
       "2015-09-01     Tuesday               True  42.590000  41.660000  42.169998   \n",
       "2015-10-01    Thursday               True  44.750000  43.750000  44.750000   \n",
       "2015-12-01     Tuesday               True  55.230000  54.299999  54.410000   \n",
       "2016-02-01      Monday               True  55.090000  54.500000  54.880001   \n",
       "2016-03-01     Tuesday               True  52.590000  50.919998  50.970001   \n",
       "2016-04-01      Friday               True  55.610001  54.570000  55.049999   \n",
       "2016-06-01   Wednesday               True  52.950001  52.439999  52.439999   \n",
       "2016-07-01      Friday               True  51.720001  51.070000  51.130001   \n",
       "2016-08-01      Monday               True  56.750000  56.139999  56.599998   \n",
       "2016-09-01    Thursday               True  57.820000  57.009998  57.009998   \n",
       "2016-11-01     Tuesday               True  60.020000  59.250000  59.970001   \n",
       "2016-12-01    Thursday               True  60.150002  58.939999  60.110001   \n",
       "2017-02-01   Wednesday               True  64.620003  63.470001  64.360001   \n",
       "2017-03-01   Wednesday               True  64.989998  64.019997  64.129997   \n",
       "2017-05-01      Monday               True  69.550003  68.500000  68.680000   \n",
       "2017-06-01    Thursday               True  70.610001  69.449997  70.239998   \n",
       "2017-08-01     Tuesday               True  73.419998  72.489998  73.099998   \n",
       "2017-09-01      Friday               True  74.739998  73.639999  74.709999   \n",
       "2017-11-01   Wednesday               True  83.760002  82.879997  83.680000   \n",
       "2017-12-01      Friday               True  84.809998  83.220001  83.599998   \n",
       "\n",
       "                Close      Volume  Adj Close  \n",
       "Date                                          \n",
       "2010-02-01  28.410000  85931100.0  22.692129  \n",
       "2010-03-01  29.020000  43805400.0  23.287754  \n",
       "2010-04-01  29.160000  74768100.0  23.400095  \n",
       "2010-06-01  25.889999  76152400.0  20.869761  \n",
       "2010-07-01  23.160000  92239400.0  18.669130  \n",
       "2010-09-01  23.900000  65235900.0  19.368408  \n",
       "2010-10-01  24.379999  62672300.0  19.757391  \n",
       "2010-11-01  26.950001  61912100.0  21.840105  \n",
       "2010-12-01  26.040001  74123500.0  21.232306  \n",
       "2011-02-01  27.990000  62810700.0  22.822296  \n",
       "2011-03-01  26.160000  60055000.0  21.456236  \n",
       "2011-04-01  25.480000  63114200.0  20.898499  \n",
       "2011-06-01  24.430000  74033500.0  20.168638  \n",
       "2011-07-01  26.020000  52906200.0  21.481289  \n",
       "2011-08-01  27.270000  61838400.0  22.513250  \n",
       "2011-09-01  26.209999  60510800.0  21.774723  \n",
       "2011-11-01  25.990000  61182600.0  21.591948  \n",
       "2011-12-01  25.280001  48545400.0  21.160242  \n",
       "2012-02-01  29.889999  67409900.0  25.018976  \n",
       "2012-03-01  32.290001  77344100.0  27.205793  \n",
       "2012-05-01  32.009998  43832300.0  26.969879  \n",
       "2012-06-01  28.450001  56634300.0  24.127708  \n",
       "2012-08-01  29.410000  31721800.0  24.941854  \n",
       "2012-10-01  29.490000  54042700.0  25.175381  \n",
       "2012-11-01  29.520000  72047900.0  25.200994  \n",
       "2013-02-01  27.930000  55565900.0  24.039555  \n",
       "2013-03-01  27.950001  34849700.0  24.255941  \n",
       "2013-04-01  28.610001  29201100.0  24.828709  \n",
       "2013-05-01  32.720001  54330900.0  28.395504  \n",
       "2013-07-01  34.360001  31055400.0  30.027849  \n",
       "...               ...         ...        ...  \n",
       "2014-04-01  41.419998  32605000.0  37.004662  \n",
       "2014-05-01  40.000000  28787400.0  35.736023  \n",
       "2014-07-01  41.869999  26917000.0  37.670586  \n",
       "2014-08-01  42.860001  31170300.0  38.561287  \n",
       "2014-10-01  45.900002  38088400.0  41.554317  \n",
       "2014-12-01  48.619999  31191600.0  44.294411  \n",
       "2015-04-01  40.720001  36752000.0  37.361267  \n",
       "2015-05-01  48.660000  38937300.0  44.646336  \n",
       "2015-06-01  47.230000  28837300.0  43.615913  \n",
       "2015-07-01  44.450001  28343900.0  41.048645  \n",
       "2015-09-01  41.820000  49688900.0  38.874573  \n",
       "2015-10-01  44.610001  28657900.0  41.468067  \n",
       "2015-12-01  55.220001  39952800.0  51.676788  \n",
       "2016-02-01  54.709999  44208500.0  51.199497  \n",
       "2016-03-01  52.580002  33024500.0  49.559475  \n",
       "2016-04-01  55.570000  24399200.0  52.377712  \n",
       "2016-06-01  52.849998  25324800.0  50.162380  \n",
       "2016-07-01  51.160000  21400400.0  48.558327  \n",
       "2016-08-01  56.580002  26003400.0  53.702694  \n",
       "2016-09-01  57.590000  26075400.0  55.002018  \n",
       "2016-11-01  59.799999  24533000.0  57.112709  \n",
       "2016-12-01  59.200001  34542100.0  56.921623  \n",
       "2017-02-01  63.580002  39671500.0  61.133057  \n",
       "2017-03-01  64.940002  26937500.0  62.819267  \n",
       "2017-05-01  69.410004  31954400.0  67.143295  \n",
       "2017-06-01  70.099998  21603600.0  68.199440  \n",
       "2017-08-01  72.580002  22132300.0  70.612221  \n",
       "2017-09-01  73.940002  21736200.0  72.318604  \n",
       "2017-11-01  83.180000  22307400.0  81.355980  \n",
       "2017-12-01  84.260002  29532100.0  82.826172  \n",
       "\n",
       "[63 rows x 8 columns]"
      ]
     },
     "execution_count": 131,
     "metadata": {},
     "output_type": "execute_result"
    }
   ],
   "source": [
    "stocks[stocks[\"Is Start of Month\"]]"
   ]
  },
  {
   "cell_type": "markdown",
   "metadata": {},
   "source": [
    "### The truncate()"
   ]
  },
  {
   "cell_type": "code",
   "execution_count": 132,
   "metadata": {},
   "outputs": [
    {
     "data": {
      "text/html": [
       "<div>\n",
       "<style>\n",
       "    .dataframe thead tr:only-child th {\n",
       "        text-align: right;\n",
       "    }\n",
       "\n",
       "    .dataframe thead th {\n",
       "        text-align: left;\n",
       "    }\n",
       "\n",
       "    .dataframe tbody tr th {\n",
       "        vertical-align: top;\n",
       "    }\n",
       "</style>\n",
       "<table border=\"1\" class=\"dataframe\">\n",
       "  <thead>\n",
       "    <tr style=\"text-align: right;\">\n",
       "      <th></th>\n",
       "      <th>High</th>\n",
       "      <th>Low</th>\n",
       "      <th>Open</th>\n",
       "      <th>Close</th>\n",
       "      <th>Volume</th>\n",
       "      <th>Adj Close</th>\n",
       "    </tr>\n",
       "    <tr>\n",
       "      <th>Date</th>\n",
       "      <th></th>\n",
       "      <th></th>\n",
       "      <th></th>\n",
       "      <th></th>\n",
       "      <th></th>\n",
       "      <th></th>\n",
       "    </tr>\n",
       "  </thead>\n",
       "  <tbody>\n",
       "    <tr>\n",
       "      <th>2009-12-31</th>\n",
       "      <td>30.99</td>\n",
       "      <td>30.480000</td>\n",
       "      <td>30.980000</td>\n",
       "      <td>30.480000</td>\n",
       "      <td>31929700.0</td>\n",
       "      <td>24.345514</td>\n",
       "    </tr>\n",
       "    <tr>\n",
       "      <th>2010-01-04</th>\n",
       "      <td>31.10</td>\n",
       "      <td>30.590000</td>\n",
       "      <td>30.620001</td>\n",
       "      <td>30.950001</td>\n",
       "      <td>38409100.0</td>\n",
       "      <td>24.720928</td>\n",
       "    </tr>\n",
       "    <tr>\n",
       "      <th>2010-01-05</th>\n",
       "      <td>31.10</td>\n",
       "      <td>30.639999</td>\n",
       "      <td>30.850000</td>\n",
       "      <td>30.959999</td>\n",
       "      <td>49749600.0</td>\n",
       "      <td>24.728914</td>\n",
       "    </tr>\n",
       "  </tbody>\n",
       "</table>\n",
       "</div>"
      ],
      "text/plain": [
       "             High        Low       Open      Close      Volume  Adj Close\n",
       "Date                                                                     \n",
       "2009-12-31  30.99  30.480000  30.980000  30.480000  31929700.0  24.345514\n",
       "2010-01-04  31.10  30.590000  30.620001  30.950001  38409100.0  24.720928\n",
       "2010-01-05  31.10  30.639999  30.850000  30.959999  49749600.0  24.728914"
      ]
     },
     "execution_count": 132,
     "metadata": {},
     "output_type": "execute_result"
    }
   ],
   "source": [
    "stocks =data.DataReader(name=company, data_source=\"yahoo\", start= start, end= end)\n",
    "stocks.head(3)"
   ]
  },
  {
   "cell_type": "code",
   "execution_count": 133,
   "metadata": {},
   "outputs": [
    {
     "data": {
      "text/html": [
       "<div>\n",
       "<style>\n",
       "    .dataframe thead tr:only-child th {\n",
       "        text-align: right;\n",
       "    }\n",
       "\n",
       "    .dataframe thead th {\n",
       "        text-align: left;\n",
       "    }\n",
       "\n",
       "    .dataframe tbody tr th {\n",
       "        vertical-align: top;\n",
       "    }\n",
       "</style>\n",
       "<table border=\"1\" class=\"dataframe\">\n",
       "  <thead>\n",
       "    <tr style=\"text-align: right;\">\n",
       "      <th></th>\n",
       "      <th>High</th>\n",
       "      <th>Low</th>\n",
       "      <th>Open</th>\n",
       "      <th>Close</th>\n",
       "      <th>Volume</th>\n",
       "      <th>Adj Close</th>\n",
       "    </tr>\n",
       "    <tr>\n",
       "      <th>Date</th>\n",
       "      <th></th>\n",
       "      <th></th>\n",
       "      <th></th>\n",
       "      <th></th>\n",
       "      <th></th>\n",
       "      <th></th>\n",
       "    </tr>\n",
       "  </thead>\n",
       "  <tbody>\n",
       "    <tr>\n",
       "      <th>2011-02-07</th>\n",
       "      <td>28.340000</td>\n",
       "      <td>27.790001</td>\n",
       "      <td>27.799999</td>\n",
       "      <td>28.200001</td>\n",
       "      <td>68980900.0</td>\n",
       "      <td>22.993515</td>\n",
       "    </tr>\n",
       "    <tr>\n",
       "      <th>2011-02-08</th>\n",
       "      <td>28.340000</td>\n",
       "      <td>28.049999</td>\n",
       "      <td>28.100000</td>\n",
       "      <td>28.280001</td>\n",
       "      <td>34904200.0</td>\n",
       "      <td>23.058744</td>\n",
       "    </tr>\n",
       "    <tr>\n",
       "      <th>2011-02-09</th>\n",
       "      <td>28.260000</td>\n",
       "      <td>27.910000</td>\n",
       "      <td>28.190001</td>\n",
       "      <td>27.969999</td>\n",
       "      <td>52905100.0</td>\n",
       "      <td>22.805983</td>\n",
       "    </tr>\n",
       "    <tr>\n",
       "      <th>2011-02-10</th>\n",
       "      <td>27.940001</td>\n",
       "      <td>27.290001</td>\n",
       "      <td>27.930000</td>\n",
       "      <td>27.500000</td>\n",
       "      <td>76672400.0</td>\n",
       "      <td>22.422758</td>\n",
       "    </tr>\n",
       "    <tr>\n",
       "      <th>2011-02-11</th>\n",
       "      <td>27.809999</td>\n",
       "      <td>27.070000</td>\n",
       "      <td>27.760000</td>\n",
       "      <td>27.250000</td>\n",
       "      <td>83939700.0</td>\n",
       "      <td>22.218910</td>\n",
       "    </tr>\n",
       "    <tr>\n",
       "      <th>2011-02-14</th>\n",
       "      <td>27.270000</td>\n",
       "      <td>26.950001</td>\n",
       "      <td>27.209999</td>\n",
       "      <td>27.230000</td>\n",
       "      <td>56766200.0</td>\n",
       "      <td>22.202610</td>\n",
       "    </tr>\n",
       "    <tr>\n",
       "      <th>2011-02-15</th>\n",
       "      <td>27.330000</td>\n",
       "      <td>26.950001</td>\n",
       "      <td>27.040001</td>\n",
       "      <td>26.959999</td>\n",
       "      <td>44116500.0</td>\n",
       "      <td>22.112381</td>\n",
       "    </tr>\n",
       "    <tr>\n",
       "      <th>2011-02-16</th>\n",
       "      <td>27.070000</td>\n",
       "      <td>26.600000</td>\n",
       "      <td>27.049999</td>\n",
       "      <td>27.020000</td>\n",
       "      <td>70817900.0</td>\n",
       "      <td>22.161594</td>\n",
       "    </tr>\n",
       "    <tr>\n",
       "      <th>2011-02-17</th>\n",
       "      <td>27.370001</td>\n",
       "      <td>26.910000</td>\n",
       "      <td>26.969999</td>\n",
       "      <td>27.209999</td>\n",
       "      <td>57207300.0</td>\n",
       "      <td>22.317432</td>\n",
       "    </tr>\n",
       "    <tr>\n",
       "      <th>2011-02-18</th>\n",
       "      <td>27.209999</td>\n",
       "      <td>26.990000</td>\n",
       "      <td>27.129999</td>\n",
       "      <td>27.059999</td>\n",
       "      <td>68667800.0</td>\n",
       "      <td>22.194401</td>\n",
       "    </tr>\n",
       "    <tr>\n",
       "      <th>2011-02-22</th>\n",
       "      <td>27.100000</td>\n",
       "      <td>26.520000</td>\n",
       "      <td>26.780001</td>\n",
       "      <td>26.590000</td>\n",
       "      <td>60889000.0</td>\n",
       "      <td>21.808912</td>\n",
       "    </tr>\n",
       "    <tr>\n",
       "      <th>2011-02-23</th>\n",
       "      <td>26.860001</td>\n",
       "      <td>26.430000</td>\n",
       "      <td>26.530001</td>\n",
       "      <td>26.590000</td>\n",
       "      <td>60234100.0</td>\n",
       "      <td>21.808912</td>\n",
       "    </tr>\n",
       "    <tr>\n",
       "      <th>2011-02-24</th>\n",
       "      <td>27.059999</td>\n",
       "      <td>26.500000</td>\n",
       "      <td>26.639999</td>\n",
       "      <td>26.770000</td>\n",
       "      <td>64494200.0</td>\n",
       "      <td>21.956551</td>\n",
       "    </tr>\n",
       "    <tr>\n",
       "      <th>2011-02-25</th>\n",
       "      <td>26.950001</td>\n",
       "      <td>26.500000</td>\n",
       "      <td>26.910000</td>\n",
       "      <td>26.549999</td>\n",
       "      <td>53006300.0</td>\n",
       "      <td>21.776106</td>\n",
       "    </tr>\n",
       "    <tr>\n",
       "      <th>2011-02-28</th>\n",
       "      <td>26.860001</td>\n",
       "      <td>26.510000</td>\n",
       "      <td>26.690001</td>\n",
       "      <td>26.580000</td>\n",
       "      <td>51379900.0</td>\n",
       "      <td>21.800714</td>\n",
       "    </tr>\n",
       "  </tbody>\n",
       "</table>\n",
       "</div>"
      ],
      "text/plain": [
       "                 High        Low       Open      Close      Volume  Adj Close\n",
       "Date                                                                         \n",
       "2011-02-07  28.340000  27.790001  27.799999  28.200001  68980900.0  22.993515\n",
       "2011-02-08  28.340000  28.049999  28.100000  28.280001  34904200.0  23.058744\n",
       "2011-02-09  28.260000  27.910000  28.190001  27.969999  52905100.0  22.805983\n",
       "2011-02-10  27.940001  27.290001  27.930000  27.500000  76672400.0  22.422758\n",
       "2011-02-11  27.809999  27.070000  27.760000  27.250000  83939700.0  22.218910\n",
       "2011-02-14  27.270000  26.950001  27.209999  27.230000  56766200.0  22.202610\n",
       "2011-02-15  27.330000  26.950001  27.040001  26.959999  44116500.0  22.112381\n",
       "2011-02-16  27.070000  26.600000  27.049999  27.020000  70817900.0  22.161594\n",
       "2011-02-17  27.370001  26.910000  26.969999  27.209999  57207300.0  22.317432\n",
       "2011-02-18  27.209999  26.990000  27.129999  27.059999  68667800.0  22.194401\n",
       "2011-02-22  27.100000  26.520000  26.780001  26.590000  60889000.0  21.808912\n",
       "2011-02-23  26.860001  26.430000  26.530001  26.590000  60234100.0  21.808912\n",
       "2011-02-24  27.059999  26.500000  26.639999  26.770000  64494200.0  21.956551\n",
       "2011-02-25  26.950001  26.500000  26.910000  26.549999  53006300.0  21.776106\n",
       "2011-02-28  26.860001  26.510000  26.690001  26.580000  51379900.0  21.800714"
      ]
     },
     "execution_count": 133,
     "metadata": {},
     "output_type": "execute_result"
    }
   ],
   "source": [
    "stocks.truncate(before=\"2011-02-05\", after=\"2011-02-28\")"
   ]
  },
  {
   "cell_type": "markdown",
   "metadata": {},
   "source": [
    "#### pd.DateOffset Object"
   ]
  },
  {
   "cell_type": "code",
   "execution_count": 135,
   "metadata": {
    "collapsed": true
   },
   "outputs": [
    {
     "data": {
      "text/html": [
       "<div>\n",
       "<style>\n",
       "    .dataframe thead tr:only-child th {\n",
       "        text-align: right;\n",
       "    }\n",
       "\n",
       "    .dataframe thead th {\n",
       "        text-align: left;\n",
       "    }\n",
       "\n",
       "    .dataframe tbody tr th {\n",
       "        vertical-align: top;\n",
       "    }\n",
       "</style>\n",
       "<table border=\"1\" class=\"dataframe\">\n",
       "  <thead>\n",
       "    <tr style=\"text-align: right;\">\n",
       "      <th></th>\n",
       "      <th>High</th>\n",
       "      <th>Low</th>\n",
       "      <th>Open</th>\n",
       "      <th>Close</th>\n",
       "      <th>Volume</th>\n",
       "      <th>Adj Close</th>\n",
       "    </tr>\n",
       "    <tr>\n",
       "      <th>Date</th>\n",
       "      <th></th>\n",
       "      <th></th>\n",
       "      <th></th>\n",
       "      <th></th>\n",
       "      <th></th>\n",
       "      <th></th>\n",
       "    </tr>\n",
       "  </thead>\n",
       "  <tbody>\n",
       "    <tr>\n",
       "      <th>2004-08-19</th>\n",
       "      <td>51.693783</td>\n",
       "      <td>47.669952</td>\n",
       "      <td>49.676899</td>\n",
       "      <td>49.845802</td>\n",
       "      <td>44994500.0</td>\n",
       "      <td>49.845802</td>\n",
       "    </tr>\n",
       "    <tr>\n",
       "      <th>2004-08-20</th>\n",
       "      <td>54.187561</td>\n",
       "      <td>49.925285</td>\n",
       "      <td>50.178635</td>\n",
       "      <td>53.805050</td>\n",
       "      <td>23005800.0</td>\n",
       "      <td>53.805050</td>\n",
       "    </tr>\n",
       "    <tr>\n",
       "      <th>2004-08-23</th>\n",
       "      <td>56.373344</td>\n",
       "      <td>54.172661</td>\n",
       "      <td>55.017166</td>\n",
       "      <td>54.346527</td>\n",
       "      <td>18393200.0</td>\n",
       "      <td>54.346527</td>\n",
       "    </tr>\n",
       "    <tr>\n",
       "      <th>2004-08-24</th>\n",
       "      <td>55.439419</td>\n",
       "      <td>51.450363</td>\n",
       "      <td>55.260582</td>\n",
       "      <td>52.096165</td>\n",
       "      <td>15361800.0</td>\n",
       "      <td>52.096165</td>\n",
       "    </tr>\n",
       "    <tr>\n",
       "      <th>2004-08-25</th>\n",
       "      <td>53.651051</td>\n",
       "      <td>51.604362</td>\n",
       "      <td>52.140873</td>\n",
       "      <td>52.657513</td>\n",
       "      <td>9257400.0</td>\n",
       "      <td>52.657513</td>\n",
       "    </tr>\n",
       "    <tr>\n",
       "      <th>2004-08-26</th>\n",
       "      <td>53.626213</td>\n",
       "      <td>51.991844</td>\n",
       "      <td>52.135906</td>\n",
       "      <td>53.606342</td>\n",
       "      <td>7148200.0</td>\n",
       "      <td>53.606342</td>\n",
       "    </tr>\n",
       "    <tr>\n",
       "      <th>2004-08-27</th>\n",
       "      <td>53.959049</td>\n",
       "      <td>52.503513</td>\n",
       "      <td>53.700729</td>\n",
       "      <td>52.732029</td>\n",
       "      <td>6258300.0</td>\n",
       "      <td>52.732029</td>\n",
       "    </tr>\n",
       "    <tr>\n",
       "      <th>2004-08-30</th>\n",
       "      <td>52.404160</td>\n",
       "      <td>50.675404</td>\n",
       "      <td>52.299839</td>\n",
       "      <td>50.675404</td>\n",
       "      <td>5235700.0</td>\n",
       "      <td>50.675404</td>\n",
       "    </tr>\n",
       "    <tr>\n",
       "      <th>2004-08-31</th>\n",
       "      <td>51.519913</td>\n",
       "      <td>50.749920</td>\n",
       "      <td>50.819469</td>\n",
       "      <td>50.854240</td>\n",
       "      <td>4954800.0</td>\n",
       "      <td>50.854240</td>\n",
       "    </tr>\n",
       "    <tr>\n",
       "      <th>2004-09-01</th>\n",
       "      <td>51.152302</td>\n",
       "      <td>49.512966</td>\n",
       "      <td>51.018177</td>\n",
       "      <td>49.801090</td>\n",
       "      <td>9206800.0</td>\n",
       "      <td>49.801090</td>\n",
       "    </tr>\n",
       "    <tr>\n",
       "      <th>2004-09-02</th>\n",
       "      <td>50.854240</td>\n",
       "      <td>49.150326</td>\n",
       "      <td>49.274517</td>\n",
       "      <td>50.427021</td>\n",
       "      <td>15232100.0</td>\n",
       "      <td>50.427021</td>\n",
       "    </tr>\n",
       "    <tr>\n",
       "      <th>2004-09-03</th>\n",
       "      <td>50.541279</td>\n",
       "      <td>49.339096</td>\n",
       "      <td>50.148830</td>\n",
       "      <td>49.681866</td>\n",
       "      <td>5191000.0</td>\n",
       "      <td>49.681866</td>\n",
       "    </tr>\n",
       "    <tr>\n",
       "      <th>2004-09-07</th>\n",
       "      <td>50.670437</td>\n",
       "      <td>49.483158</td>\n",
       "      <td>50.178635</td>\n",
       "      <td>50.461796</td>\n",
       "      <td>5891300.0</td>\n",
       "      <td>50.461796</td>\n",
       "    </tr>\n",
       "    <tr>\n",
       "      <th>2004-09-08</th>\n",
       "      <td>51.182110</td>\n",
       "      <td>49.925285</td>\n",
       "      <td>50.044510</td>\n",
       "      <td>50.819469</td>\n",
       "      <td>5023000.0</td>\n",
       "      <td>50.819469</td>\n",
       "    </tr>\n",
       "    <tr>\n",
       "      <th>2004-09-09</th>\n",
       "      <td>51.023144</td>\n",
       "      <td>50.173668</td>\n",
       "      <td>50.933723</td>\n",
       "      <td>50.824436</td>\n",
       "      <td>4092100.0</td>\n",
       "      <td>50.824436</td>\n",
       "    </tr>\n",
       "    <tr>\n",
       "      <th>2004-09-10</th>\n",
       "      <td>52.935703</td>\n",
       "      <td>50.322701</td>\n",
       "      <td>50.471729</td>\n",
       "      <td>52.324677</td>\n",
       "      <td>8764200.0</td>\n",
       "      <td>52.324677</td>\n",
       "    </tr>\n",
       "    <tr>\n",
       "      <th>2004-09-13</th>\n",
       "      <td>53.854729</td>\n",
       "      <td>52.886028</td>\n",
       "      <td>52.970478</td>\n",
       "      <td>53.402668</td>\n",
       "      <td>7902900.0</td>\n",
       "      <td>53.402668</td>\n",
       "    </tr>\n",
       "    <tr>\n",
       "      <th>2004-09-14</th>\n",
       "      <td>55.638126</td>\n",
       "      <td>53.049961</td>\n",
       "      <td>53.377831</td>\n",
       "      <td>55.384777</td>\n",
       "      <td>10910200.0</td>\n",
       "      <td>55.384777</td>\n",
       "    </tr>\n",
       "    <tr>\n",
       "      <th>2004-09-15</th>\n",
       "      <td>56.745922</td>\n",
       "      <td>54.743942</td>\n",
       "      <td>54.922779</td>\n",
       "      <td>55.638126</td>\n",
       "      <td>10793500.0</td>\n",
       "      <td>55.638126</td>\n",
       "    </tr>\n",
       "    <tr>\n",
       "      <th>2004-09-16</th>\n",
       "      <td>57.525848</td>\n",
       "      <td>55.464260</td>\n",
       "      <td>55.807030</td>\n",
       "      <td>56.616764</td>\n",
       "      <td>9335800.0</td>\n",
       "      <td>56.616764</td>\n",
       "    </tr>\n",
       "    <tr>\n",
       "      <th>2004-09-17</th>\n",
       "      <td>58.365391</td>\n",
       "      <td>56.408119</td>\n",
       "      <td>56.840309</td>\n",
       "      <td>58.365391</td>\n",
       "      <td>9543500.0</td>\n",
       "      <td>58.365391</td>\n",
       "    </tr>\n",
       "    <tr>\n",
       "      <th>2004-09-20</th>\n",
       "      <td>60.407108</td>\n",
       "      <td>58.007717</td>\n",
       "      <td>58.097134</td>\n",
       "      <td>59.294346</td>\n",
       "      <td>10708500.0</td>\n",
       "      <td>59.294346</td>\n",
       "    </tr>\n",
       "    <tr>\n",
       "      <th>2004-09-21</th>\n",
       "      <td>59.820923</td>\n",
       "      <td>58.375324</td>\n",
       "      <td>59.517895</td>\n",
       "      <td>58.539257</td>\n",
       "      <td>7282900.0</td>\n",
       "      <td>58.539257</td>\n",
       "    </tr>\n",
       "    <tr>\n",
       "      <th>2004-09-22</th>\n",
       "      <td>59.448345</td>\n",
       "      <td>58.027588</td>\n",
       "      <td>58.320679</td>\n",
       "      <td>58.807514</td>\n",
       "      <td>7638000.0</td>\n",
       "      <td>58.807514</td>\n",
       "    </tr>\n",
       "    <tr>\n",
       "      <th>2004-09-23</th>\n",
       "      <td>60.918781</td>\n",
       "      <td>58.131908</td>\n",
       "      <td>59.036026</td>\n",
       "      <td>60.019630</td>\n",
       "      <td>8599600.0</td>\n",
       "      <td>60.019630</td>\n",
       "    </tr>\n",
       "    <tr>\n",
       "      <th>2004-09-24</th>\n",
       "      <td>61.649033</td>\n",
       "      <td>59.493053</td>\n",
       "      <td>60.079243</td>\n",
       "      <td>59.527828</td>\n",
       "      <td>9191900.0</td>\n",
       "      <td>59.527828</td>\n",
       "    </tr>\n",
       "    <tr>\n",
       "      <th>2004-09-27</th>\n",
       "      <td>60.049435</td>\n",
       "      <td>58.519386</td>\n",
       "      <td>59.393700</td>\n",
       "      <td>58.747902</td>\n",
       "      <td>7119100.0</td>\n",
       "      <td>58.747902</td>\n",
       "    </tr>\n",
       "    <tr>\n",
       "      <th>2004-09-28</th>\n",
       "      <td>63.288372</td>\n",
       "      <td>59.716602</td>\n",
       "      <td>60.258080</td>\n",
       "      <td>63.020115</td>\n",
       "      <td>17056100.0</td>\n",
       "      <td>63.020115</td>\n",
       "    </tr>\n",
       "    <tr>\n",
       "      <th>2004-09-29</th>\n",
       "      <td>67.073753</td>\n",
       "      <td>62.707150</td>\n",
       "      <td>62.940632</td>\n",
       "      <td>65.116478</td>\n",
       "      <td>30745600.0</td>\n",
       "      <td>65.116478</td>\n",
       "    </tr>\n",
       "    <tr>\n",
       "      <th>2004-09-30</th>\n",
       "      <td>65.722542</td>\n",
       "      <td>64.083199</td>\n",
       "      <td>64.530296</td>\n",
       "      <td>64.381264</td>\n",
       "      <td>13861300.0</td>\n",
       "      <td>64.381264</td>\n",
       "    </tr>\n",
       "    <tr>\n",
       "      <th>...</th>\n",
       "      <td>...</td>\n",
       "      <td>...</td>\n",
       "      <td>...</td>\n",
       "      <td>...</td>\n",
       "      <td>...</td>\n",
       "      <td>...</td>\n",
       "    </tr>\n",
       "    <tr>\n",
       "      <th>2018-11-08</th>\n",
       "      <td>1093.270020</td>\n",
       "      <td>1072.204956</td>\n",
       "      <td>1091.380005</td>\n",
       "      <td>1082.400024</td>\n",
       "      <td>1488200.0</td>\n",
       "      <td>1082.400024</td>\n",
       "    </tr>\n",
       "    <tr>\n",
       "      <th>2018-11-09</th>\n",
       "      <td>1075.560059</td>\n",
       "      <td>1053.109985</td>\n",
       "      <td>1073.989990</td>\n",
       "      <td>1066.150024</td>\n",
       "      <td>1343200.0</td>\n",
       "      <td>1066.150024</td>\n",
       "    </tr>\n",
       "    <tr>\n",
       "      <th>2018-11-12</th>\n",
       "      <td>1062.119995</td>\n",
       "      <td>1031.000000</td>\n",
       "      <td>1061.390015</td>\n",
       "      <td>1038.630005</td>\n",
       "      <td>1471800.0</td>\n",
       "      <td>1038.630005</td>\n",
       "    </tr>\n",
       "    <tr>\n",
       "      <th>2018-11-13</th>\n",
       "      <td>1056.604980</td>\n",
       "      <td>1031.150024</td>\n",
       "      <td>1043.290039</td>\n",
       "      <td>1036.050049</td>\n",
       "      <td>1513700.0</td>\n",
       "      <td>1036.050049</td>\n",
       "    </tr>\n",
       "    <tr>\n",
       "      <th>2018-11-14</th>\n",
       "      <td>1054.563965</td>\n",
       "      <td>1031.000000</td>\n",
       "      <td>1050.000000</td>\n",
       "      <td>1043.660034</td>\n",
       "      <td>1565900.0</td>\n",
       "      <td>1043.660034</td>\n",
       "    </tr>\n",
       "    <tr>\n",
       "      <th>2018-11-15</th>\n",
       "      <td>1071.849976</td>\n",
       "      <td>1031.780029</td>\n",
       "      <td>1044.709961</td>\n",
       "      <td>1064.709961</td>\n",
       "      <td>1836100.0</td>\n",
       "      <td>1064.709961</td>\n",
       "    </tr>\n",
       "    <tr>\n",
       "      <th>2018-11-16</th>\n",
       "      <td>1067.000000</td>\n",
       "      <td>1048.979980</td>\n",
       "      <td>1059.410034</td>\n",
       "      <td>1061.489990</td>\n",
       "      <td>1658100.0</td>\n",
       "      <td>1061.489990</td>\n",
       "    </tr>\n",
       "    <tr>\n",
       "      <th>2018-11-19</th>\n",
       "      <td>1060.790039</td>\n",
       "      <td>1016.260010</td>\n",
       "      <td>1057.199951</td>\n",
       "      <td>1020.000000</td>\n",
       "      <td>1858600.0</td>\n",
       "      <td>1020.000000</td>\n",
       "    </tr>\n",
       "    <tr>\n",
       "      <th>2018-11-20</th>\n",
       "      <td>1031.739990</td>\n",
       "      <td>996.020020</td>\n",
       "      <td>1000.000000</td>\n",
       "      <td>1025.760010</td>\n",
       "      <td>2449100.0</td>\n",
       "      <td>1025.760010</td>\n",
       "    </tr>\n",
       "    <tr>\n",
       "      <th>2018-11-21</th>\n",
       "      <td>1048.560059</td>\n",
       "      <td>1033.469971</td>\n",
       "      <td>1036.760010</td>\n",
       "      <td>1037.609985</td>\n",
       "      <td>1534300.0</td>\n",
       "      <td>1037.609985</td>\n",
       "    </tr>\n",
       "    <tr>\n",
       "      <th>2018-11-23</th>\n",
       "      <td>1037.589966</td>\n",
       "      <td>1022.398987</td>\n",
       "      <td>1030.000000</td>\n",
       "      <td>1023.880005</td>\n",
       "      <td>691500.0</td>\n",
       "      <td>1023.880005</td>\n",
       "    </tr>\n",
       "    <tr>\n",
       "      <th>2018-11-26</th>\n",
       "      <td>1049.310059</td>\n",
       "      <td>1033.910034</td>\n",
       "      <td>1038.349976</td>\n",
       "      <td>1048.619995</td>\n",
       "      <td>1942800.0</td>\n",
       "      <td>1048.619995</td>\n",
       "    </tr>\n",
       "    <tr>\n",
       "      <th>2018-11-27</th>\n",
       "      <td>1057.579956</td>\n",
       "      <td>1038.489990</td>\n",
       "      <td>1041.000000</td>\n",
       "      <td>1044.410034</td>\n",
       "      <td>1803200.0</td>\n",
       "      <td>1044.410034</td>\n",
       "    </tr>\n",
       "    <tr>\n",
       "      <th>2018-11-28</th>\n",
       "      <td>1086.839966</td>\n",
       "      <td>1035.760010</td>\n",
       "      <td>1048.760010</td>\n",
       "      <td>1086.229980</td>\n",
       "      <td>2475400.0</td>\n",
       "      <td>1086.229980</td>\n",
       "    </tr>\n",
       "    <tr>\n",
       "      <th>2018-11-29</th>\n",
       "      <td>1094.244995</td>\n",
       "      <td>1076.000000</td>\n",
       "      <td>1076.079956</td>\n",
       "      <td>1088.300049</td>\n",
       "      <td>1468900.0</td>\n",
       "      <td>1088.300049</td>\n",
       "    </tr>\n",
       "    <tr>\n",
       "      <th>2018-11-30</th>\n",
       "      <td>1095.569946</td>\n",
       "      <td>1077.880005</td>\n",
       "      <td>1089.069946</td>\n",
       "      <td>1094.430054</td>\n",
       "      <td>2580200.0</td>\n",
       "      <td>1094.430054</td>\n",
       "    </tr>\n",
       "    <tr>\n",
       "      <th>2018-12-03</th>\n",
       "      <td>1124.650024</td>\n",
       "      <td>1103.665039</td>\n",
       "      <td>1123.140015</td>\n",
       "      <td>1106.430054</td>\n",
       "      <td>1991200.0</td>\n",
       "      <td>1106.430054</td>\n",
       "    </tr>\n",
       "    <tr>\n",
       "      <th>2018-12-04</th>\n",
       "      <td>1104.420044</td>\n",
       "      <td>1049.979980</td>\n",
       "      <td>1103.119995</td>\n",
       "      <td>1050.819946</td>\n",
       "      <td>2345200.0</td>\n",
       "      <td>1050.819946</td>\n",
       "    </tr>\n",
       "    <tr>\n",
       "      <th>2018-12-06</th>\n",
       "      <td>1071.199951</td>\n",
       "      <td>1030.770020</td>\n",
       "      <td>1034.260010</td>\n",
       "      <td>1068.729980</td>\n",
       "      <td>2769200.0</td>\n",
       "      <td>1068.729980</td>\n",
       "    </tr>\n",
       "    <tr>\n",
       "      <th>2018-12-07</th>\n",
       "      <td>1075.260010</td>\n",
       "      <td>1028.500000</td>\n",
       "      <td>1060.010010</td>\n",
       "      <td>1036.579956</td>\n",
       "      <td>2101200.0</td>\n",
       "      <td>1036.579956</td>\n",
       "    </tr>\n",
       "    <tr>\n",
       "      <th>2018-12-10</th>\n",
       "      <td>1048.449951</td>\n",
       "      <td>1023.289978</td>\n",
       "      <td>1035.050049</td>\n",
       "      <td>1039.550049</td>\n",
       "      <td>1807700.0</td>\n",
       "      <td>1039.550049</td>\n",
       "    </tr>\n",
       "    <tr>\n",
       "      <th>2018-12-11</th>\n",
       "      <td>1060.599976</td>\n",
       "      <td>1039.839966</td>\n",
       "      <td>1056.489990</td>\n",
       "      <td>1051.750000</td>\n",
       "      <td>1394700.0</td>\n",
       "      <td>1051.750000</td>\n",
       "    </tr>\n",
       "    <tr>\n",
       "      <th>2018-12-12</th>\n",
       "      <td>1081.650024</td>\n",
       "      <td>1062.790039</td>\n",
       "      <td>1068.000000</td>\n",
       "      <td>1063.680054</td>\n",
       "      <td>1523800.0</td>\n",
       "      <td>1063.680054</td>\n",
       "    </tr>\n",
       "    <tr>\n",
       "      <th>2018-12-13</th>\n",
       "      <td>1079.760010</td>\n",
       "      <td>1053.930054</td>\n",
       "      <td>1068.069946</td>\n",
       "      <td>1061.900024</td>\n",
       "      <td>1329800.0</td>\n",
       "      <td>1061.900024</td>\n",
       "    </tr>\n",
       "    <tr>\n",
       "      <th>2018-12-14</th>\n",
       "      <td>1062.599976</td>\n",
       "      <td>1040.790039</td>\n",
       "      <td>1049.979980</td>\n",
       "      <td>1042.099976</td>\n",
       "      <td>1686600.0</td>\n",
       "      <td>1042.099976</td>\n",
       "    </tr>\n",
       "    <tr>\n",
       "      <th>2018-12-17</th>\n",
       "      <td>1053.150024</td>\n",
       "      <td>1007.900024</td>\n",
       "      <td>1037.510010</td>\n",
       "      <td>1016.530029</td>\n",
       "      <td>2385400.0</td>\n",
       "      <td>1016.530029</td>\n",
       "    </tr>\n",
       "    <tr>\n",
       "      <th>2018-12-18</th>\n",
       "      <td>1049.479980</td>\n",
       "      <td>1021.440002</td>\n",
       "      <td>1026.089966</td>\n",
       "      <td>1028.709961</td>\n",
       "      <td>2192500.0</td>\n",
       "      <td>1028.709961</td>\n",
       "    </tr>\n",
       "    <tr>\n",
       "      <th>2018-12-19</th>\n",
       "      <td>1062.000000</td>\n",
       "      <td>1008.049988</td>\n",
       "      <td>1033.989990</td>\n",
       "      <td>1023.010010</td>\n",
       "      <td>2479300.0</td>\n",
       "      <td>1023.010010</td>\n",
       "    </tr>\n",
       "    <tr>\n",
       "      <th>2018-12-20</th>\n",
       "      <td>1034.219971</td>\n",
       "      <td>996.359985</td>\n",
       "      <td>1018.130005</td>\n",
       "      <td>1009.409973</td>\n",
       "      <td>2673500.0</td>\n",
       "      <td>1009.409973</td>\n",
       "    </tr>\n",
       "    <tr>\n",
       "      <th>2018-12-21</th>\n",
       "      <td>1024.020020</td>\n",
       "      <td>973.690002</td>\n",
       "      <td>1015.299988</td>\n",
       "      <td>979.539978</td>\n",
       "      <td>4562700.0</td>\n",
       "      <td>979.539978</td>\n",
       "    </tr>\n",
       "  </tbody>\n",
       "</table>\n",
       "<p>3612 rows × 6 columns</p>\n",
       "</div>"
      ],
      "text/plain": [
       "                   High          Low         Open        Close      Volume  \\\n",
       "Date                                                                         \n",
       "2004-08-19    51.693783    47.669952    49.676899    49.845802  44994500.0   \n",
       "2004-08-20    54.187561    49.925285    50.178635    53.805050  23005800.0   \n",
       "2004-08-23    56.373344    54.172661    55.017166    54.346527  18393200.0   \n",
       "2004-08-24    55.439419    51.450363    55.260582    52.096165  15361800.0   \n",
       "2004-08-25    53.651051    51.604362    52.140873    52.657513   9257400.0   \n",
       "2004-08-26    53.626213    51.991844    52.135906    53.606342   7148200.0   \n",
       "2004-08-27    53.959049    52.503513    53.700729    52.732029   6258300.0   \n",
       "2004-08-30    52.404160    50.675404    52.299839    50.675404   5235700.0   \n",
       "2004-08-31    51.519913    50.749920    50.819469    50.854240   4954800.0   \n",
       "2004-09-01    51.152302    49.512966    51.018177    49.801090   9206800.0   \n",
       "2004-09-02    50.854240    49.150326    49.274517    50.427021  15232100.0   \n",
       "2004-09-03    50.541279    49.339096    50.148830    49.681866   5191000.0   \n",
       "2004-09-07    50.670437    49.483158    50.178635    50.461796   5891300.0   \n",
       "2004-09-08    51.182110    49.925285    50.044510    50.819469   5023000.0   \n",
       "2004-09-09    51.023144    50.173668    50.933723    50.824436   4092100.0   \n",
       "2004-09-10    52.935703    50.322701    50.471729    52.324677   8764200.0   \n",
       "2004-09-13    53.854729    52.886028    52.970478    53.402668   7902900.0   \n",
       "2004-09-14    55.638126    53.049961    53.377831    55.384777  10910200.0   \n",
       "2004-09-15    56.745922    54.743942    54.922779    55.638126  10793500.0   \n",
       "2004-09-16    57.525848    55.464260    55.807030    56.616764   9335800.0   \n",
       "2004-09-17    58.365391    56.408119    56.840309    58.365391   9543500.0   \n",
       "2004-09-20    60.407108    58.007717    58.097134    59.294346  10708500.0   \n",
       "2004-09-21    59.820923    58.375324    59.517895    58.539257   7282900.0   \n",
       "2004-09-22    59.448345    58.027588    58.320679    58.807514   7638000.0   \n",
       "2004-09-23    60.918781    58.131908    59.036026    60.019630   8599600.0   \n",
       "2004-09-24    61.649033    59.493053    60.079243    59.527828   9191900.0   \n",
       "2004-09-27    60.049435    58.519386    59.393700    58.747902   7119100.0   \n",
       "2004-09-28    63.288372    59.716602    60.258080    63.020115  17056100.0   \n",
       "2004-09-29    67.073753    62.707150    62.940632    65.116478  30745600.0   \n",
       "2004-09-30    65.722542    64.083199    64.530296    64.381264  13861300.0   \n",
       "...                 ...          ...          ...          ...         ...   \n",
       "2018-11-08  1093.270020  1072.204956  1091.380005  1082.400024   1488200.0   \n",
       "2018-11-09  1075.560059  1053.109985  1073.989990  1066.150024   1343200.0   \n",
       "2018-11-12  1062.119995  1031.000000  1061.390015  1038.630005   1471800.0   \n",
       "2018-11-13  1056.604980  1031.150024  1043.290039  1036.050049   1513700.0   \n",
       "2018-11-14  1054.563965  1031.000000  1050.000000  1043.660034   1565900.0   \n",
       "2018-11-15  1071.849976  1031.780029  1044.709961  1064.709961   1836100.0   \n",
       "2018-11-16  1067.000000  1048.979980  1059.410034  1061.489990   1658100.0   \n",
       "2018-11-19  1060.790039  1016.260010  1057.199951  1020.000000   1858600.0   \n",
       "2018-11-20  1031.739990   996.020020  1000.000000  1025.760010   2449100.0   \n",
       "2018-11-21  1048.560059  1033.469971  1036.760010  1037.609985   1534300.0   \n",
       "2018-11-23  1037.589966  1022.398987  1030.000000  1023.880005    691500.0   \n",
       "2018-11-26  1049.310059  1033.910034  1038.349976  1048.619995   1942800.0   \n",
       "2018-11-27  1057.579956  1038.489990  1041.000000  1044.410034   1803200.0   \n",
       "2018-11-28  1086.839966  1035.760010  1048.760010  1086.229980   2475400.0   \n",
       "2018-11-29  1094.244995  1076.000000  1076.079956  1088.300049   1468900.0   \n",
       "2018-11-30  1095.569946  1077.880005  1089.069946  1094.430054   2580200.0   \n",
       "2018-12-03  1124.650024  1103.665039  1123.140015  1106.430054   1991200.0   \n",
       "2018-12-04  1104.420044  1049.979980  1103.119995  1050.819946   2345200.0   \n",
       "2018-12-06  1071.199951  1030.770020  1034.260010  1068.729980   2769200.0   \n",
       "2018-12-07  1075.260010  1028.500000  1060.010010  1036.579956   2101200.0   \n",
       "2018-12-10  1048.449951  1023.289978  1035.050049  1039.550049   1807700.0   \n",
       "2018-12-11  1060.599976  1039.839966  1056.489990  1051.750000   1394700.0   \n",
       "2018-12-12  1081.650024  1062.790039  1068.000000  1063.680054   1523800.0   \n",
       "2018-12-13  1079.760010  1053.930054  1068.069946  1061.900024   1329800.0   \n",
       "2018-12-14  1062.599976  1040.790039  1049.979980  1042.099976   1686600.0   \n",
       "2018-12-17  1053.150024  1007.900024  1037.510010  1016.530029   2385400.0   \n",
       "2018-12-18  1049.479980  1021.440002  1026.089966  1028.709961   2192500.0   \n",
       "2018-12-19  1062.000000  1008.049988  1033.989990  1023.010010   2479300.0   \n",
       "2018-12-20  1034.219971   996.359985  1018.130005  1009.409973   2673500.0   \n",
       "2018-12-21  1024.020020   973.690002  1015.299988   979.539978   4562700.0   \n",
       "\n",
       "              Adj Close  \n",
       "Date                     \n",
       "2004-08-19    49.845802  \n",
       "2004-08-20    53.805050  \n",
       "2004-08-23    54.346527  \n",
       "2004-08-24    52.096165  \n",
       "2004-08-25    52.657513  \n",
       "2004-08-26    53.606342  \n",
       "2004-08-27    52.732029  \n",
       "2004-08-30    50.675404  \n",
       "2004-08-31    50.854240  \n",
       "2004-09-01    49.801090  \n",
       "2004-09-02    50.427021  \n",
       "2004-09-03    49.681866  \n",
       "2004-09-07    50.461796  \n",
       "2004-09-08    50.819469  \n",
       "2004-09-09    50.824436  \n",
       "2004-09-10    52.324677  \n",
       "2004-09-13    53.402668  \n",
       "2004-09-14    55.384777  \n",
       "2004-09-15    55.638126  \n",
       "2004-09-16    56.616764  \n",
       "2004-09-17    58.365391  \n",
       "2004-09-20    59.294346  \n",
       "2004-09-21    58.539257  \n",
       "2004-09-22    58.807514  \n",
       "2004-09-23    60.019630  \n",
       "2004-09-24    59.527828  \n",
       "2004-09-27    58.747902  \n",
       "2004-09-28    63.020115  \n",
       "2004-09-29    65.116478  \n",
       "2004-09-30    64.381264  \n",
       "...                 ...  \n",
       "2018-11-08  1082.400024  \n",
       "2018-11-09  1066.150024  \n",
       "2018-11-12  1038.630005  \n",
       "2018-11-13  1036.050049  \n",
       "2018-11-14  1043.660034  \n",
       "2018-11-15  1064.709961  \n",
       "2018-11-16  1061.489990  \n",
       "2018-11-19  1020.000000  \n",
       "2018-11-20  1025.760010  \n",
       "2018-11-21  1037.609985  \n",
       "2018-11-23  1023.880005  \n",
       "2018-11-26  1048.619995  \n",
       "2018-11-27  1044.410034  \n",
       "2018-11-28  1086.229980  \n",
       "2018-11-29  1088.300049  \n",
       "2018-11-30  1094.430054  \n",
       "2018-12-03  1106.430054  \n",
       "2018-12-04  1050.819946  \n",
       "2018-12-06  1068.729980  \n",
       "2018-12-07  1036.579956  \n",
       "2018-12-10  1039.550049  \n",
       "2018-12-11  1051.750000  \n",
       "2018-12-12  1063.680054  \n",
       "2018-12-13  1061.900024  \n",
       "2018-12-14  1042.099976  \n",
       "2018-12-17  1016.530029  \n",
       "2018-12-18  1028.709961  \n",
       "2018-12-19  1023.010010  \n",
       "2018-12-20  1009.409973  \n",
       "2018-12-21   979.539978  \n",
       "\n",
       "[3612 rows x 6 columns]"
      ]
     },
     "execution_count": 135,
     "metadata": {},
     "output_type": "execute_result"
    }
   ],
   "source": [
    "data.DataReader(name=\"GOOG\", data_source=\"yahoo\", \n",
    "               start = dt.date(2000, 1, 1), end=dt.datetime.now())"
   ]
  },
  {
   "cell_type": "code",
   "execution_count": 136,
   "metadata": {},
   "outputs": [
    {
     "data": {
      "text/html": [
       "<div>\n",
       "<style>\n",
       "    .dataframe thead tr:only-child th {\n",
       "        text-align: right;\n",
       "    }\n",
       "\n",
       "    .dataframe thead th {\n",
       "        text-align: left;\n",
       "    }\n",
       "\n",
       "    .dataframe tbody tr th {\n",
       "        vertical-align: top;\n",
       "    }\n",
       "</style>\n",
       "<table border=\"1\" class=\"dataframe\">\n",
       "  <thead>\n",
       "    <tr style=\"text-align: right;\">\n",
       "      <th></th>\n",
       "      <th>High</th>\n",
       "      <th>Low</th>\n",
       "      <th>Open</th>\n",
       "      <th>Close</th>\n",
       "      <th>Volume</th>\n",
       "      <th>Adj Close</th>\n",
       "    </tr>\n",
       "    <tr>\n",
       "      <th>Date</th>\n",
       "      <th></th>\n",
       "      <th></th>\n",
       "      <th></th>\n",
       "      <th></th>\n",
       "      <th></th>\n",
       "      <th></th>\n",
       "    </tr>\n",
       "  </thead>\n",
       "  <tbody>\n",
       "    <tr>\n",
       "      <th>2004-08-19</th>\n",
       "      <td>51.693783</td>\n",
       "      <td>47.669952</td>\n",
       "      <td>49.676899</td>\n",
       "      <td>49.845802</td>\n",
       "      <td>44994500.0</td>\n",
       "      <td>49.845802</td>\n",
       "    </tr>\n",
       "    <tr>\n",
       "      <th>2004-08-20</th>\n",
       "      <td>54.187561</td>\n",
       "      <td>49.925285</td>\n",
       "      <td>50.178635</td>\n",
       "      <td>53.805050</td>\n",
       "      <td>23005800.0</td>\n",
       "      <td>53.805050</td>\n",
       "    </tr>\n",
       "    <tr>\n",
       "      <th>2004-08-23</th>\n",
       "      <td>56.373344</td>\n",
       "      <td>54.172661</td>\n",
       "      <td>55.017166</td>\n",
       "      <td>54.346527</td>\n",
       "      <td>18393200.0</td>\n",
       "      <td>54.346527</td>\n",
       "    </tr>\n",
       "  </tbody>\n",
       "</table>\n",
       "</div>"
      ],
      "text/plain": [
       "                 High        Low       Open      Close      Volume  Adj Close\n",
       "Date                                                                         \n",
       "2004-08-19  51.693783  47.669952  49.676899  49.845802  44994500.0  49.845802\n",
       "2004-08-20  54.187561  49.925285  50.178635  53.805050  23005800.0  53.805050\n",
       "2004-08-23  56.373344  54.172661  55.017166  54.346527  18393200.0  54.346527"
      ]
     },
     "execution_count": 136,
     "metadata": {},
     "output_type": "execute_result"
    }
   ],
   "source": [
    "stocks =data.DataReader(name=\"GOOG\", data_source=\"yahoo\", \n",
    "               start = dt.date(2000, 1, 1), end=dt.datetime.now())\n",
    "stocks.head(3)"
   ]
  },
  {
   "cell_type": "code",
   "execution_count": 138,
   "metadata": {
    "collapsed": true
   },
   "outputs": [
    {
     "ename": "ValueError",
     "evalue": "Cannot shift with no freq",
     "output_type": "error",
     "traceback": [
      "\u001b[1;31m---------------------------------------------------------------------------\u001b[0m",
      "\u001b[1;31mValueError\u001b[0m                                Traceback (most recent call last)",
      "\u001b[1;32m<ipython-input-138-8afea82812f9>\u001b[0m in \u001b[0;36m<module>\u001b[1;34m()\u001b[0m\n\u001b[1;32m----> 1\u001b[1;33m \u001b[0mstocks\u001b[0m\u001b[1;33m.\u001b[0m\u001b[0mindex\u001b[0m \u001b[1;33m+\u001b[0m \u001b[1;36m5\u001b[0m\u001b[1;33m\u001b[0m\u001b[0m\n\u001b[0m",
      "\u001b[1;32m~\\Anaconda3\\lib\\site-packages\\pandas\\core\\indexes\\datetimelike.py\u001b[0m in \u001b[0;36m__add__\u001b[1;34m(self, other)\u001b[0m\n\u001b[0;32m    656\u001b[0m                 \u001b[1;32mreturn\u001b[0m \u001b[0mself\u001b[0m\u001b[1;33m.\u001b[0m\u001b[0m_add_delta\u001b[0m\u001b[1;33m(\u001b[0m\u001b[0mother\u001b[0m\u001b[1;33m)\u001b[0m\u001b[1;33m\u001b[0m\u001b[0m\n\u001b[0;32m    657\u001b[0m             \u001b[1;32melif\u001b[0m \u001b[0mis_integer\u001b[0m\u001b[1;33m(\u001b[0m\u001b[0mother\u001b[0m\u001b[1;33m)\u001b[0m\u001b[1;33m:\u001b[0m\u001b[1;33m\u001b[0m\u001b[0m\n\u001b[1;32m--> 658\u001b[1;33m                 \u001b[1;32mreturn\u001b[0m \u001b[0mself\u001b[0m\u001b[1;33m.\u001b[0m\u001b[0mshift\u001b[0m\u001b[1;33m(\u001b[0m\u001b[0mother\u001b[0m\u001b[1;33m)\u001b[0m\u001b[1;33m\u001b[0m\u001b[0m\n\u001b[0m\u001b[0;32m    659\u001b[0m             \u001b[1;32melif\u001b[0m \u001b[0misinstance\u001b[0m\u001b[1;33m(\u001b[0m\u001b[0mother\u001b[0m\u001b[1;33m,\u001b[0m \u001b[1;33m(\u001b[0m\u001b[0mTimestamp\u001b[0m\u001b[1;33m,\u001b[0m \u001b[0mdatetime\u001b[0m\u001b[1;33m)\u001b[0m\u001b[1;33m)\u001b[0m\u001b[1;33m:\u001b[0m\u001b[1;33m\u001b[0m\u001b[0m\n\u001b[0;32m    660\u001b[0m                 \u001b[1;32mreturn\u001b[0m \u001b[0mself\u001b[0m\u001b[1;33m.\u001b[0m\u001b[0m_add_datelike\u001b[0m\u001b[1;33m(\u001b[0m\u001b[0mother\u001b[0m\u001b[1;33m)\u001b[0m\u001b[1;33m\u001b[0m\u001b[0m\n",
      "\u001b[1;32m~\\Anaconda3\\lib\\site-packages\\pandas\\core\\indexes\\datetimelike.py\u001b[0m in \u001b[0;36mshift\u001b[1;34m(self, n, freq)\u001b[0m\n\u001b[0;32m    785\u001b[0m \u001b[1;33m\u001b[0m\u001b[0m\n\u001b[0;32m    786\u001b[0m         \u001b[1;32mif\u001b[0m \u001b[0mself\u001b[0m\u001b[1;33m.\u001b[0m\u001b[0mfreq\u001b[0m \u001b[1;32mis\u001b[0m \u001b[1;32mNone\u001b[0m\u001b[1;33m:\u001b[0m\u001b[1;33m\u001b[0m\u001b[0m\n\u001b[1;32m--> 787\u001b[1;33m             \u001b[1;32mraise\u001b[0m \u001b[0mValueError\u001b[0m\u001b[1;33m(\u001b[0m\u001b[1;34m\"Cannot shift with no freq\"\u001b[0m\u001b[1;33m)\u001b[0m\u001b[1;33m\u001b[0m\u001b[0m\n\u001b[0m\u001b[0;32m    788\u001b[0m \u001b[1;33m\u001b[0m\u001b[0m\n\u001b[0;32m    789\u001b[0m         \u001b[0mstart\u001b[0m \u001b[1;33m=\u001b[0m \u001b[0mself\u001b[0m\u001b[1;33m[\u001b[0m\u001b[1;36m0\u001b[0m\u001b[1;33m]\u001b[0m \u001b[1;33m+\u001b[0m \u001b[0mn\u001b[0m \u001b[1;33m*\u001b[0m \u001b[0mself\u001b[0m\u001b[1;33m.\u001b[0m\u001b[0mfreq\u001b[0m\u001b[1;33m\u001b[0m\u001b[0m\n",
      "\u001b[1;31mValueError\u001b[0m: Cannot shift with no freq"
     ]
    }
   ],
   "source": [
    "stocks.index + 5"
   ]
  },
  {
   "cell_type": "code",
   "execution_count": 140,
   "metadata": {},
   "outputs": [
    {
     "data": {
      "text/plain": [
       "DatetimeIndex(['2004-09-02', '2004-09-03', '2004-09-06', '2004-09-07',\n",
       "               '2004-09-08', '2004-09-09', '2004-09-10', '2004-09-13',\n",
       "               '2004-09-14', '2004-09-15',\n",
       "               ...\n",
       "               '2018-12-24', '2018-12-25', '2018-12-26', '2018-12-27',\n",
       "               '2018-12-28', '2018-12-31', '2019-01-01', '2019-01-02',\n",
       "               '2019-01-03', '2019-01-04'],\n",
       "              dtype='datetime64[ns]', name='Date', length=3612, freq=None)"
      ]
     },
     "execution_count": 140,
     "metadata": {},
     "output_type": "execute_result"
    }
   ],
   "source": [
    "stocks.index + pd.DateOffset(days= 5)\n",
    "stocks.index + pd.DateOffset(weeks = 2)"
   ]
  },
  {
   "cell_type": "code",
   "execution_count": 141,
   "metadata": {},
   "outputs": [
    {
     "data": {
      "text/plain": [
       "DatetimeIndex(['2003-06-14', '2003-06-15', '2003-06-18', '2003-06-19',\n",
       "               '2003-06-20', '2003-06-21', '2003-06-22', '2003-06-25',\n",
       "               '2003-06-25', '2003-06-26',\n",
       "               ...\n",
       "               '2017-10-05', '2017-10-06', '2017-10-07', '2017-10-08',\n",
       "               '2017-10-09', '2017-10-12', '2017-10-13', '2017-10-14',\n",
       "               '2017-10-15', '2017-10-16'],\n",
       "              dtype='datetime64[ns]', name='Date', length=3612, freq=None)"
      ]
     },
     "execution_count": 141,
     "metadata": {},
     "output_type": "execute_result"
    }
   ],
   "source": [
    "stocks.index - pd.DateOffset(years = 1, months = 2, days = 5)"
   ]
  },
  {
   "cell_type": "markdown",
   "metadata": {},
   "source": [
    "### More fun with pd.DateOffset Objects"
   ]
  },
  {
   "cell_type": "code",
   "execution_count": 146,
   "metadata": {
    "collapsed": true
   },
   "outputs": [],
   "source": [
    "import pandas  as pd\n",
    "import datetime as dt\n",
    "from pandas_datareader import data\n",
    "from pandas.tseries.offsets import *"
   ]
  },
  {
   "cell_type": "code",
   "execution_count": 142,
   "metadata": {},
   "outputs": [
    {
     "data": {
      "text/html": [
       "<div>\n",
       "<style>\n",
       "    .dataframe thead tr:only-child th {\n",
       "        text-align: right;\n",
       "    }\n",
       "\n",
       "    .dataframe thead th {\n",
       "        text-align: left;\n",
       "    }\n",
       "\n",
       "    .dataframe tbody tr th {\n",
       "        vertical-align: top;\n",
       "    }\n",
       "</style>\n",
       "<table border=\"1\" class=\"dataframe\">\n",
       "  <thead>\n",
       "    <tr style=\"text-align: right;\">\n",
       "      <th></th>\n",
       "      <th>High</th>\n",
       "      <th>Low</th>\n",
       "      <th>Open</th>\n",
       "      <th>Close</th>\n",
       "      <th>Volume</th>\n",
       "      <th>Adj Close</th>\n",
       "    </tr>\n",
       "    <tr>\n",
       "      <th>Date</th>\n",
       "      <th></th>\n",
       "      <th></th>\n",
       "      <th></th>\n",
       "      <th></th>\n",
       "      <th></th>\n",
       "      <th></th>\n",
       "    </tr>\n",
       "  </thead>\n",
       "  <tbody>\n",
       "    <tr>\n",
       "      <th>2004-08-19</th>\n",
       "      <td>51.693783</td>\n",
       "      <td>47.669952</td>\n",
       "      <td>49.676899</td>\n",
       "      <td>49.845802</td>\n",
       "      <td>44994500.0</td>\n",
       "      <td>49.845802</td>\n",
       "    </tr>\n",
       "    <tr>\n",
       "      <th>2004-08-20</th>\n",
       "      <td>54.187561</td>\n",
       "      <td>49.925285</td>\n",
       "      <td>50.178635</td>\n",
       "      <td>53.805050</td>\n",
       "      <td>23005800.0</td>\n",
       "      <td>53.805050</td>\n",
       "    </tr>\n",
       "    <tr>\n",
       "      <th>2004-08-23</th>\n",
       "      <td>56.373344</td>\n",
       "      <td>54.172661</td>\n",
       "      <td>55.017166</td>\n",
       "      <td>54.346527</td>\n",
       "      <td>18393200.0</td>\n",
       "      <td>54.346527</td>\n",
       "    </tr>\n",
       "  </tbody>\n",
       "</table>\n",
       "</div>"
      ],
      "text/plain": [
       "                 High        Low       Open      Close      Volume  Adj Close\n",
       "Date                                                                         \n",
       "2004-08-19  51.693783  47.669952  49.676899  49.845802  44994500.0  49.845802\n",
       "2004-08-20  54.187561  49.925285  50.178635  53.805050  23005800.0  53.805050\n",
       "2004-08-23  56.373344  54.172661  55.017166  54.346527  18393200.0  54.346527"
      ]
     },
     "execution_count": 142,
     "metadata": {},
     "output_type": "execute_result"
    }
   ],
   "source": [
    "data.DataReader(name=\"GOOG\", data_source=\"yahoo\", \n",
    "               start = dt.date(2000, 1, 1), end=dt.datetime.now())\n",
    "stocks.head(3)"
   ]
  },
  {
   "cell_type": "code",
   "execution_count": 143,
   "metadata": {},
   "outputs": [
    {
     "data": {
      "text/plain": [
       "<MonthEnd>"
      ]
     },
     "execution_count": 143,
     "metadata": {},
     "output_type": "execute_result"
    }
   ],
   "source": [
    "pd.tseries.offsets.MonthEnd()"
   ]
  },
  {
   "cell_type": "code",
   "execution_count": 144,
   "metadata": {},
   "outputs": [
    {
     "data": {
      "text/plain": [
       "DatetimeIndex(['2004-08-31', '2004-08-31', '2004-08-31', '2004-08-31',\n",
       "               '2004-08-31', '2004-08-31', '2004-08-31', '2004-08-31',\n",
       "               '2004-09-30', '2004-09-30',\n",
       "               ...\n",
       "               '2018-12-31', '2018-12-31', '2018-12-31', '2018-12-31',\n",
       "               '2018-12-31', '2018-12-31', '2018-12-31', '2018-12-31',\n",
       "               '2018-12-31', '2018-12-31'],\n",
       "              dtype='datetime64[ns]', name='Date', length=3612, freq=None)"
      ]
     },
     "execution_count": 144,
     "metadata": {},
     "output_type": "execute_result"
    }
   ],
   "source": [
    "stocks.index + pd.tseries.offsets.MonthEnd()"
   ]
  },
  {
   "cell_type": "code",
   "execution_count": 147,
   "metadata": {},
   "outputs": [
    {
     "data": {
      "text/plain": [
       "DatetimeIndex(['2004-09-01', '2004-09-01', '2004-09-01', '2004-09-01',\n",
       "               '2004-09-01', '2004-09-01', '2004-09-01', '2004-09-01',\n",
       "               '2004-09-01', '2004-10-01',\n",
       "               ...\n",
       "               '2019-01-01', '2019-01-01', '2019-01-01', '2019-01-01',\n",
       "               '2019-01-01', '2019-01-01', '2019-01-01', '2019-01-01',\n",
       "               '2019-01-01', '2019-01-01'],\n",
       "              dtype='datetime64[ns]', name='Date', length=3612, freq=None)"
      ]
     },
     "execution_count": 147,
     "metadata": {},
     "output_type": "execute_result"
    }
   ],
   "source": [
    "stocks.index + MonthBegin()"
   ]
  },
  {
   "cell_type": "code",
   "execution_count": 148,
   "metadata": {},
   "outputs": [
    {
     "name": "stderr",
     "output_type": "stream",
     "text": [
      "C:\\Users\\user\\Anaconda3\\lib\\site-packages\\pandas\\core\\indexes\\datetimes.py:831: PerformanceWarning: Non-vectorized DateOffset being applied to Series or DatetimeIndex\n",
      "  \"or DatetimeIndex\", PerformanceWarning)\n"
     ]
    },
    {
     "data": {
      "text/plain": [
       "DatetimeIndex(['2004-08-31', '2004-08-31', '2004-08-31', '2004-08-31',\n",
       "               '2004-08-31', '2004-08-31', '2004-08-31', '2004-08-31',\n",
       "               '2004-09-30', '2004-09-30',\n",
       "               ...\n",
       "               '2018-12-31', '2018-12-31', '2018-12-31', '2018-12-31',\n",
       "               '2018-12-31', '2018-12-31', '2018-12-31', '2018-12-31',\n",
       "               '2018-12-31', '2018-12-31'],\n",
       "              dtype='datetime64[ns]', name='Date', length=3612, freq=None)"
      ]
     },
     "execution_count": 148,
     "metadata": {},
     "output_type": "execute_result"
    }
   ],
   "source": [
    "stocks.index + BMonthEnd()"
   ]
  },
  {
   "cell_type": "markdown",
   "metadata": {},
   "source": [
    "#### The Timedelta Object"
   ]
  },
  {
   "cell_type": "code",
   "execution_count": 149,
   "metadata": {
    "collapsed": true
   },
   "outputs": [],
   "source": [
    "timeA = pd.Timestamp(\"2016-03-31\")\n",
    "timeB = pd.Timestamp(\"2016-03-20\")\n"
   ]
  },
  {
   "cell_type": "code",
   "execution_count": 150,
   "metadata": {},
   "outputs": [
    {
     "data": {
      "text/plain": [
       "Timedelta('11 days 00:00:00')"
      ]
     },
     "execution_count": 150,
     "metadata": {},
     "output_type": "execute_result"
    }
   ],
   "source": [
    "timeA - timeB"
   ]
  },
  {
   "cell_type": "code",
   "execution_count": 151,
   "metadata": {
    "collapsed": true
   },
   "outputs": [],
   "source": [
    "timeA = pd.Timestamp(\"2016-03-31 04:35:16 PM\")\n",
    "timeB = pd.Timestamp(\"2016-03-20 02:16:49 AM\")\n"
   ]
  },
  {
   "cell_type": "code",
   "execution_count": 152,
   "metadata": {},
   "outputs": [
    {
     "data": {
      "text/plain": [
       "Timedelta('11 days 14:18:27')"
      ]
     },
     "execution_count": 152,
     "metadata": {},
     "output_type": "execute_result"
    }
   ],
   "source": [
    "timeA - timeB"
   ]
  },
  {
   "cell_type": "code",
   "execution_count": 153,
   "metadata": {},
   "outputs": [
    {
     "data": {
      "text/plain": [
       "pandas._libs.tslib.Timedelta"
      ]
     },
     "execution_count": 153,
     "metadata": {},
     "output_type": "execute_result"
    }
   ],
   "source": [
    "type(timeA - timeB)"
   ]
  },
  {
   "cell_type": "code",
   "execution_count": 154,
   "metadata": {},
   "outputs": [
    {
     "data": {
      "text/plain": [
       "pandas._libs.tslib.Timestamp"
      ]
     },
     "execution_count": 154,
     "metadata": {},
     "output_type": "execute_result"
    }
   ],
   "source": [
    "type(timeA)"
   ]
  },
  {
   "cell_type": "code",
   "execution_count": 155,
   "metadata": {},
   "outputs": [
    {
     "data": {
      "text/plain": [
       "Timedelta('45 days 00:00:00')"
      ]
     },
     "execution_count": 155,
     "metadata": {},
     "output_type": "execute_result"
    }
   ],
   "source": [
    "pd.Timedelta(days=45)"
   ]
  },
  {
   "cell_type": "code",
   "execution_count": 156,
   "metadata": {},
   "outputs": [
    {
     "data": {
      "text/plain": [
       "Timedelta('56 days 06:18:30')"
      ]
     },
     "execution_count": 156,
     "metadata": {},
     "output_type": "execute_result"
    }
   ],
   "source": [
    "pd.Timedelta(weeks = 8, hours = 6, minutes= 18, seconds = 30)"
   ]
  },
  {
   "cell_type": "code",
   "execution_count": 157,
   "metadata": {},
   "outputs": [
    {
     "data": {
      "text/plain": [
       "Timedelta('14 days 00:00:00')"
      ]
     },
     "execution_count": 157,
     "metadata": {},
     "output_type": "execute_result"
    }
   ],
   "source": [
    "pd.Timedelta(\"14 days\")"
   ]
  },
  {
   "cell_type": "code",
   "execution_count": 160,
   "metadata": {},
   "outputs": [
    {
     "data": {
      "text/plain": [
       "Timedelta('14 days 06:25:30')"
      ]
     },
     "execution_count": 160,
     "metadata": {},
     "output_type": "execute_result"
    }
   ],
   "source": [
    "pd.Timedelta(\"14 days 6 hours 25 minutes 30 seconds\")"
   ]
  },
  {
   "cell_type": "markdown",
   "metadata": {},
   "source": [
    "### Timedeltas in Dataset"
   ]
  },
  {
   "cell_type": "code",
   "execution_count": 162,
   "metadata": {},
   "outputs": [
    {
     "data": {
      "text/html": [
       "<div>\n",
       "<style>\n",
       "    .dataframe thead tr:only-child th {\n",
       "        text-align: right;\n",
       "    }\n",
       "\n",
       "    .dataframe thead th {\n",
       "        text-align: left;\n",
       "    }\n",
       "\n",
       "    .dataframe tbody tr th {\n",
       "        vertical-align: top;\n",
       "    }\n",
       "</style>\n",
       "<table border=\"1\" class=\"dataframe\">\n",
       "  <thead>\n",
       "    <tr style=\"text-align: right;\">\n",
       "      <th></th>\n",
       "      <th>ID</th>\n",
       "      <th>order_date</th>\n",
       "      <th>delivery_date</th>\n",
       "    </tr>\n",
       "  </thead>\n",
       "  <tbody>\n",
       "    <tr>\n",
       "      <th>0</th>\n",
       "      <td>1</td>\n",
       "      <td>5/24/98</td>\n",
       "      <td>2/5/99</td>\n",
       "    </tr>\n",
       "    <tr>\n",
       "      <th>1</th>\n",
       "      <td>2</td>\n",
       "      <td>4/22/92</td>\n",
       "      <td>3/6/98</td>\n",
       "    </tr>\n",
       "    <tr>\n",
       "      <th>2</th>\n",
       "      <td>4</td>\n",
       "      <td>2/10/91</td>\n",
       "      <td>8/26/92</td>\n",
       "    </tr>\n",
       "  </tbody>\n",
       "</table>\n",
       "</div>"
      ],
      "text/plain": [
       "   ID order_date delivery_date\n",
       "0   1    5/24/98        2/5/99\n",
       "1   2    4/22/92        3/6/98\n",
       "2   4    2/10/91       8/26/92"
      ]
     },
     "execution_count": 162,
     "metadata": {},
     "output_type": "execute_result"
    }
   ],
   "source": [
    "pd.read_csv('data/ecommerce.csv').head(3)"
   ]
  },
  {
   "cell_type": "code",
   "execution_count": 164,
   "metadata": {},
   "outputs": [
    {
     "data": {
      "text/html": [
       "<div>\n",
       "<style>\n",
       "    .dataframe thead tr:only-child th {\n",
       "        text-align: right;\n",
       "    }\n",
       "\n",
       "    .dataframe thead th {\n",
       "        text-align: left;\n",
       "    }\n",
       "\n",
       "    .dataframe tbody tr th {\n",
       "        vertical-align: top;\n",
       "    }\n",
       "</style>\n",
       "<table border=\"1\" class=\"dataframe\">\n",
       "  <thead>\n",
       "    <tr style=\"text-align: right;\">\n",
       "      <th></th>\n",
       "      <th>order_date</th>\n",
       "      <th>delivery_date</th>\n",
       "    </tr>\n",
       "    <tr>\n",
       "      <th>ID</th>\n",
       "      <th></th>\n",
       "      <th></th>\n",
       "    </tr>\n",
       "  </thead>\n",
       "  <tbody>\n",
       "    <tr>\n",
       "      <th>1</th>\n",
       "      <td>5/24/98</td>\n",
       "      <td>2/5/99</td>\n",
       "    </tr>\n",
       "    <tr>\n",
       "      <th>2</th>\n",
       "      <td>4/22/92</td>\n",
       "      <td>3/6/98</td>\n",
       "    </tr>\n",
       "    <tr>\n",
       "      <th>4</th>\n",
       "      <td>2/10/91</td>\n",
       "      <td>8/26/92</td>\n",
       "    </tr>\n",
       "  </tbody>\n",
       "</table>\n",
       "</div>"
      ],
      "text/plain": [
       "   order_date delivery_date\n",
       "ID                         \n",
       "1     5/24/98        2/5/99\n",
       "2     4/22/92        3/6/98\n",
       "4     2/10/91       8/26/92"
      ]
     },
     "execution_count": 164,
     "metadata": {},
     "output_type": "execute_result"
    }
   ],
   "source": [
    "pd.read_csv(\"data/ecommerce.csv\", index_col=\"ID\").head(3)"
   ]
  },
  {
   "cell_type": "code",
   "execution_count": 166,
   "metadata": {},
   "outputs": [
    {
     "data": {
      "text/html": [
       "<div>\n",
       "<style>\n",
       "    .dataframe thead tr:only-child th {\n",
       "        text-align: right;\n",
       "    }\n",
       "\n",
       "    .dataframe thead th {\n",
       "        text-align: left;\n",
       "    }\n",
       "\n",
       "    .dataframe tbody tr th {\n",
       "        vertical-align: top;\n",
       "    }\n",
       "</style>\n",
       "<table border=\"1\" class=\"dataframe\">\n",
       "  <thead>\n",
       "    <tr style=\"text-align: right;\">\n",
       "      <th></th>\n",
       "      <th>order_date</th>\n",
       "      <th>delivery_date</th>\n",
       "    </tr>\n",
       "    <tr>\n",
       "      <th>ID</th>\n",
       "      <th></th>\n",
       "      <th></th>\n",
       "    </tr>\n",
       "  </thead>\n",
       "  <tbody>\n",
       "    <tr>\n",
       "      <th>1</th>\n",
       "      <td>1998-05-24</td>\n",
       "      <td>1999-02-05</td>\n",
       "    </tr>\n",
       "    <tr>\n",
       "      <th>2</th>\n",
       "      <td>1992-04-22</td>\n",
       "      <td>1998-03-06</td>\n",
       "    </tr>\n",
       "    <tr>\n",
       "      <th>4</th>\n",
       "      <td>1991-02-10</td>\n",
       "      <td>1992-08-26</td>\n",
       "    </tr>\n",
       "  </tbody>\n",
       "</table>\n",
       "</div>"
      ],
      "text/plain": [
       "   order_date delivery_date\n",
       "ID                         \n",
       "1  1998-05-24    1999-02-05\n",
       "2  1992-04-22    1998-03-06\n",
       "4  1991-02-10    1992-08-26"
      ]
     },
     "execution_count": 166,
     "metadata": {},
     "output_type": "execute_result"
    }
   ],
   "source": [
    "shipping = pd.read_csv(\"data/ecommerce.csv\", index_col=\"ID\", parse_dates=[\"order_date\",\"delivery_date\"])\n",
    "shipping.head(3)"
   ]
  },
  {
   "cell_type": "code",
   "execution_count": 168,
   "metadata": {},
   "outputs": [],
   "source": [
    "shipping[\"Delivery Time\"]=shipping[\"delivery_date\"] - shipping[\"order_date\"]"
   ]
  },
  {
   "cell_type": "code",
   "execution_count": 169,
   "metadata": {},
   "outputs": [
    {
     "data": {
      "text/html": [
       "<div>\n",
       "<style>\n",
       "    .dataframe thead tr:only-child th {\n",
       "        text-align: right;\n",
       "    }\n",
       "\n",
       "    .dataframe thead th {\n",
       "        text-align: left;\n",
       "    }\n",
       "\n",
       "    .dataframe tbody tr th {\n",
       "        vertical-align: top;\n",
       "    }\n",
       "</style>\n",
       "<table border=\"1\" class=\"dataframe\">\n",
       "  <thead>\n",
       "    <tr style=\"text-align: right;\">\n",
       "      <th></th>\n",
       "      <th>order_date</th>\n",
       "      <th>delivery_date</th>\n",
       "      <th>Delivery Time</th>\n",
       "    </tr>\n",
       "    <tr>\n",
       "      <th>ID</th>\n",
       "      <th></th>\n",
       "      <th></th>\n",
       "      <th></th>\n",
       "    </tr>\n",
       "  </thead>\n",
       "  <tbody>\n",
       "    <tr>\n",
       "      <th>1</th>\n",
       "      <td>1998-05-24</td>\n",
       "      <td>1999-02-05</td>\n",
       "      <td>257 days</td>\n",
       "    </tr>\n",
       "    <tr>\n",
       "      <th>2</th>\n",
       "      <td>1992-04-22</td>\n",
       "      <td>1998-03-06</td>\n",
       "      <td>2144 days</td>\n",
       "    </tr>\n",
       "    <tr>\n",
       "      <th>4</th>\n",
       "      <td>1991-02-10</td>\n",
       "      <td>1992-08-26</td>\n",
       "      <td>563 days</td>\n",
       "    </tr>\n",
       "  </tbody>\n",
       "</table>\n",
       "</div>"
      ],
      "text/plain": [
       "   order_date delivery_date Delivery Time\n",
       "ID                                       \n",
       "1  1998-05-24    1999-02-05      257 days\n",
       "2  1992-04-22    1998-03-06     2144 days\n",
       "4  1991-02-10    1992-08-26      563 days"
      ]
     },
     "execution_count": 169,
     "metadata": {},
     "output_type": "execute_result"
    }
   ],
   "source": [
    "shipping.head(3)"
   ]
  },
  {
   "cell_type": "code",
   "execution_count": 172,
   "metadata": {},
   "outputs": [],
   "source": [
    "shipping[\"Twice As Long\"] = shipping[\"delivery_date\"] + shipping[\"Delivery Time\"]"
   ]
  },
  {
   "cell_type": "code",
   "execution_count": 173,
   "metadata": {},
   "outputs": [
    {
     "data": {
      "text/html": [
       "<div>\n",
       "<style>\n",
       "    .dataframe thead tr:only-child th {\n",
       "        text-align: right;\n",
       "    }\n",
       "\n",
       "    .dataframe thead th {\n",
       "        text-align: left;\n",
       "    }\n",
       "\n",
       "    .dataframe tbody tr th {\n",
       "        vertical-align: top;\n",
       "    }\n",
       "</style>\n",
       "<table border=\"1\" class=\"dataframe\">\n",
       "  <thead>\n",
       "    <tr style=\"text-align: right;\">\n",
       "      <th></th>\n",
       "      <th>order_date</th>\n",
       "      <th>delivery_date</th>\n",
       "      <th>Delivery Time</th>\n",
       "      <th>Twice As Long</th>\n",
       "    </tr>\n",
       "    <tr>\n",
       "      <th>ID</th>\n",
       "      <th></th>\n",
       "      <th></th>\n",
       "      <th></th>\n",
       "      <th></th>\n",
       "    </tr>\n",
       "  </thead>\n",
       "  <tbody>\n",
       "    <tr>\n",
       "      <th>1</th>\n",
       "      <td>1998-05-24</td>\n",
       "      <td>1999-02-05</td>\n",
       "      <td>257 days</td>\n",
       "      <td>1999-10-20</td>\n",
       "    </tr>\n",
       "    <tr>\n",
       "      <th>2</th>\n",
       "      <td>1992-04-22</td>\n",
       "      <td>1998-03-06</td>\n",
       "      <td>2144 days</td>\n",
       "      <td>2004-01-18</td>\n",
       "    </tr>\n",
       "    <tr>\n",
       "      <th>4</th>\n",
       "      <td>1991-02-10</td>\n",
       "      <td>1992-08-26</td>\n",
       "      <td>563 days</td>\n",
       "      <td>1994-03-12</td>\n",
       "    </tr>\n",
       "  </tbody>\n",
       "</table>\n",
       "</div>"
      ],
      "text/plain": [
       "   order_date delivery_date Delivery Time Twice As Long\n",
       "ID                                                     \n",
       "1  1998-05-24    1999-02-05      257 days    1999-10-20\n",
       "2  1992-04-22    1998-03-06     2144 days    2004-01-18\n",
       "4  1991-02-10    1992-08-26      563 days    1994-03-12"
      ]
     },
     "execution_count": 173,
     "metadata": {},
     "output_type": "execute_result"
    }
   ],
   "source": [
    "shipping.head(3)"
   ]
  },
  {
   "cell_type": "code",
   "execution_count": 174,
   "metadata": {},
   "outputs": [
    {
     "data": {
      "text/plain": [
       "order_date        datetime64[ns]\n",
       "delivery_date     datetime64[ns]\n",
       "Delivery Time    timedelta64[ns]\n",
       "Twice As Long     datetime64[ns]\n",
       "dtype: object"
      ]
     },
     "execution_count": 174,
     "metadata": {},
     "output_type": "execute_result"
    }
   ],
   "source": [
    "shipping.dtypes"
   ]
  },
  {
   "cell_type": "code",
   "execution_count": 175,
   "metadata": {},
   "outputs": [
    {
     "data": {
      "text/html": [
       "<div>\n",
       "<style>\n",
       "    .dataframe thead tr:only-child th {\n",
       "        text-align: right;\n",
       "    }\n",
       "\n",
       "    .dataframe thead th {\n",
       "        text-align: left;\n",
       "    }\n",
       "\n",
       "    .dataframe tbody tr th {\n",
       "        vertical-align: top;\n",
       "    }\n",
       "</style>\n",
       "<table border=\"1\" class=\"dataframe\">\n",
       "  <thead>\n",
       "    <tr style=\"text-align: right;\">\n",
       "      <th></th>\n",
       "      <th>order_date</th>\n",
       "      <th>delivery_date</th>\n",
       "      <th>Delivery Time</th>\n",
       "      <th>Twice As Long</th>\n",
       "    </tr>\n",
       "    <tr>\n",
       "      <th>ID</th>\n",
       "      <th></th>\n",
       "      <th></th>\n",
       "      <th></th>\n",
       "      <th></th>\n",
       "    </tr>\n",
       "  </thead>\n",
       "  <tbody>\n",
       "    <tr>\n",
       "      <th>2</th>\n",
       "      <td>1992-04-22</td>\n",
       "      <td>1998-03-06</td>\n",
       "      <td>2144 days</td>\n",
       "      <td>2004-01-18</td>\n",
       "    </tr>\n",
       "    <tr>\n",
       "      <th>10</th>\n",
       "      <td>1992-02-23</td>\n",
       "      <td>1998-12-30</td>\n",
       "      <td>2502 days</td>\n",
       "      <td>2005-11-05</td>\n",
       "    </tr>\n",
       "    <tr>\n",
       "      <th>20</th>\n",
       "      <td>1992-10-17</td>\n",
       "      <td>1998-10-06</td>\n",
       "      <td>2180 days</td>\n",
       "      <td>2004-09-24</td>\n",
       "    </tr>\n",
       "    <tr>\n",
       "      <th>23</th>\n",
       "      <td>1992-05-30</td>\n",
       "      <td>1999-08-15</td>\n",
       "      <td>2633 days</td>\n",
       "      <td>2006-10-30</td>\n",
       "    </tr>\n",
       "    <tr>\n",
       "      <th>32</th>\n",
       "      <td>1990-01-20</td>\n",
       "      <td>1998-07-24</td>\n",
       "      <td>3107 days</td>\n",
       "      <td>2007-01-25</td>\n",
       "    </tr>\n",
       "    <tr>\n",
       "      <th>50</th>\n",
       "      <td>1991-05-03</td>\n",
       "      <td>1999-07-17</td>\n",
       "      <td>2997 days</td>\n",
       "      <td>2007-09-30</td>\n",
       "    </tr>\n",
       "    <tr>\n",
       "      <th>64</th>\n",
       "      <td>1990-11-25</td>\n",
       "      <td>1998-05-14</td>\n",
       "      <td>2727 days</td>\n",
       "      <td>2005-10-31</td>\n",
       "    </tr>\n",
       "    <tr>\n",
       "      <th>66</th>\n",
       "      <td>1992-09-08</td>\n",
       "      <td>1998-12-29</td>\n",
       "      <td>2303 days</td>\n",
       "      <td>2005-04-19</td>\n",
       "    </tr>\n",
       "    <tr>\n",
       "      <th>70</th>\n",
       "      <td>1994-02-16</td>\n",
       "      <td>1999-11-06</td>\n",
       "      <td>2089 days</td>\n",
       "      <td>2005-07-26</td>\n",
       "    </tr>\n",
       "    <tr>\n",
       "      <th>71</th>\n",
       "      <td>1990-11-25</td>\n",
       "      <td>1998-04-06</td>\n",
       "      <td>2689 days</td>\n",
       "      <td>2005-08-16</td>\n",
       "    </tr>\n",
       "    <tr>\n",
       "      <th>75</th>\n",
       "      <td>1990-06-25</td>\n",
       "      <td>1996-12-18</td>\n",
       "      <td>2368 days</td>\n",
       "      <td>2003-06-13</td>\n",
       "    </tr>\n",
       "    <tr>\n",
       "      <th>78</th>\n",
       "      <td>1992-02-25</td>\n",
       "      <td>1999-02-17</td>\n",
       "      <td>2549 days</td>\n",
       "      <td>2006-02-09</td>\n",
       "    </tr>\n",
       "    <tr>\n",
       "      <th>84</th>\n",
       "      <td>1990-01-24</td>\n",
       "      <td>1996-06-06</td>\n",
       "      <td>2325 days</td>\n",
       "      <td>2002-10-18</td>\n",
       "    </tr>\n",
       "    <tr>\n",
       "      <th>91</th>\n",
       "      <td>1993-01-17</td>\n",
       "      <td>1999-09-27</td>\n",
       "      <td>2444 days</td>\n",
       "      <td>2006-06-06</td>\n",
       "    </tr>\n",
       "    <tr>\n",
       "      <th>93</th>\n",
       "      <td>1991-12-24</td>\n",
       "      <td>1999-06-15</td>\n",
       "      <td>2730 days</td>\n",
       "      <td>2006-12-05</td>\n",
       "    </tr>\n",
       "    <tr>\n",
       "      <th>98</th>\n",
       "      <td>1991-08-23</td>\n",
       "      <td>1997-08-30</td>\n",
       "      <td>2199 days</td>\n",
       "      <td>2003-09-07</td>\n",
       "    </tr>\n",
       "    <tr>\n",
       "      <th>130</th>\n",
       "      <td>1990-04-02</td>\n",
       "      <td>1999-08-16</td>\n",
       "      <td>3423 days</td>\n",
       "      <td>2008-12-29</td>\n",
       "    </tr>\n",
       "    <tr>\n",
       "      <th>132</th>\n",
       "      <td>1992-09-27</td>\n",
       "      <td>1999-10-18</td>\n",
       "      <td>2577 days</td>\n",
       "      <td>2006-11-07</td>\n",
       "    </tr>\n",
       "    <tr>\n",
       "      <th>136</th>\n",
       "      <td>1992-01-28</td>\n",
       "      <td>1998-07-23</td>\n",
       "      <td>2368 days</td>\n",
       "      <td>2005-01-15</td>\n",
       "    </tr>\n",
       "    <tr>\n",
       "      <th>141</th>\n",
       "      <td>1991-09-03</td>\n",
       "      <td>1999-03-08</td>\n",
       "      <td>2743 days</td>\n",
       "      <td>2006-09-10</td>\n",
       "    </tr>\n",
       "    <tr>\n",
       "      <th>151</th>\n",
       "      <td>1991-01-29</td>\n",
       "      <td>1999-08-05</td>\n",
       "      <td>3110 days</td>\n",
       "      <td>2008-02-09</td>\n",
       "    </tr>\n",
       "    <tr>\n",
       "      <th>152</th>\n",
       "      <td>1990-12-09</td>\n",
       "      <td>1998-09-02</td>\n",
       "      <td>2824 days</td>\n",
       "      <td>2006-05-27</td>\n",
       "    </tr>\n",
       "    <tr>\n",
       "      <th>160</th>\n",
       "      <td>1991-07-06</td>\n",
       "      <td>1997-01-10</td>\n",
       "      <td>2015 days</td>\n",
       "      <td>2002-07-18</td>\n",
       "    </tr>\n",
       "    <tr>\n",
       "      <th>165</th>\n",
       "      <td>1990-03-23</td>\n",
       "      <td>1998-06-07</td>\n",
       "      <td>2998 days</td>\n",
       "      <td>2006-08-22</td>\n",
       "    </tr>\n",
       "    <tr>\n",
       "      <th>166</th>\n",
       "      <td>1990-07-12</td>\n",
       "      <td>1998-05-01</td>\n",
       "      <td>2850 days</td>\n",
       "      <td>2006-02-18</td>\n",
       "    </tr>\n",
       "    <tr>\n",
       "      <th>196</th>\n",
       "      <td>1991-12-09</td>\n",
       "      <td>1998-08-10</td>\n",
       "      <td>2436 days</td>\n",
       "      <td>2005-04-11</td>\n",
       "    </tr>\n",
       "    <tr>\n",
       "      <th>215</th>\n",
       "      <td>1991-05-24</td>\n",
       "      <td>1997-04-09</td>\n",
       "      <td>2147 days</td>\n",
       "      <td>2003-02-24</td>\n",
       "    </tr>\n",
       "    <tr>\n",
       "      <th>216</th>\n",
       "      <td>1990-03-09</td>\n",
       "      <td>1997-12-01</td>\n",
       "      <td>2824 days</td>\n",
       "      <td>2005-08-25</td>\n",
       "    </tr>\n",
       "    <tr>\n",
       "      <th>222</th>\n",
       "      <td>1993-01-21</td>\n",
       "      <td>1999-04-20</td>\n",
       "      <td>2280 days</td>\n",
       "      <td>2005-07-17</td>\n",
       "    </tr>\n",
       "    <tr>\n",
       "      <th>229</th>\n",
       "      <td>1990-04-13</td>\n",
       "      <td>1998-11-17</td>\n",
       "      <td>3140 days</td>\n",
       "      <td>2007-06-23</td>\n",
       "    </tr>\n",
       "    <tr>\n",
       "      <th>...</th>\n",
       "      <td>...</td>\n",
       "      <td>...</td>\n",
       "      <td>...</td>\n",
       "      <td>...</td>\n",
       "    </tr>\n",
       "    <tr>\n",
       "      <th>748</th>\n",
       "      <td>1991-06-06</td>\n",
       "      <td>1999-02-19</td>\n",
       "      <td>2815 days</td>\n",
       "      <td>2006-11-04</td>\n",
       "    </tr>\n",
       "    <tr>\n",
       "      <th>756</th>\n",
       "      <td>1992-10-11</td>\n",
       "      <td>1999-05-07</td>\n",
       "      <td>2399 days</td>\n",
       "      <td>2005-11-30</td>\n",
       "    </tr>\n",
       "    <tr>\n",
       "      <th>760</th>\n",
       "      <td>1990-09-16</td>\n",
       "      <td>1998-12-06</td>\n",
       "      <td>3003 days</td>\n",
       "      <td>2007-02-25</td>\n",
       "    </tr>\n",
       "    <tr>\n",
       "      <th>762</th>\n",
       "      <td>1992-01-11</td>\n",
       "      <td>1998-04-20</td>\n",
       "      <td>2291 days</td>\n",
       "      <td>2004-07-28</td>\n",
       "    </tr>\n",
       "    <tr>\n",
       "      <th>764</th>\n",
       "      <td>1990-09-19</td>\n",
       "      <td>1999-09-16</td>\n",
       "      <td>3284 days</td>\n",
       "      <td>2008-09-12</td>\n",
       "    </tr>\n",
       "    <tr>\n",
       "      <th>775</th>\n",
       "      <td>1992-12-03</td>\n",
       "      <td>1999-06-14</td>\n",
       "      <td>2384 days</td>\n",
       "      <td>2005-12-23</td>\n",
       "    </tr>\n",
       "    <tr>\n",
       "      <th>786</th>\n",
       "      <td>1990-10-26</td>\n",
       "      <td>1999-05-10</td>\n",
       "      <td>3118 days</td>\n",
       "      <td>2007-11-22</td>\n",
       "    </tr>\n",
       "    <tr>\n",
       "      <th>787</th>\n",
       "      <td>1990-02-27</td>\n",
       "      <td>1996-02-06</td>\n",
       "      <td>2170 days</td>\n",
       "      <td>2002-01-15</td>\n",
       "    </tr>\n",
       "    <tr>\n",
       "      <th>799</th>\n",
       "      <td>1993-02-11</td>\n",
       "      <td>1999-02-01</td>\n",
       "      <td>2181 days</td>\n",
       "      <td>2005-01-21</td>\n",
       "    </tr>\n",
       "    <tr>\n",
       "      <th>822</th>\n",
       "      <td>1991-11-10</td>\n",
       "      <td>1998-08-20</td>\n",
       "      <td>2475 days</td>\n",
       "      <td>2005-05-30</td>\n",
       "    </tr>\n",
       "    <tr>\n",
       "      <th>825</th>\n",
       "      <td>1991-12-12</td>\n",
       "      <td>1999-09-15</td>\n",
       "      <td>2834 days</td>\n",
       "      <td>2007-06-19</td>\n",
       "    </tr>\n",
       "    <tr>\n",
       "      <th>826</th>\n",
       "      <td>1990-04-16</td>\n",
       "      <td>1998-05-18</td>\n",
       "      <td>2954 days</td>\n",
       "      <td>2006-06-19</td>\n",
       "    </tr>\n",
       "    <tr>\n",
       "      <th>832</th>\n",
       "      <td>1991-08-23</td>\n",
       "      <td>1998-12-13</td>\n",
       "      <td>2669 days</td>\n",
       "      <td>2006-04-04</td>\n",
       "    </tr>\n",
       "    <tr>\n",
       "      <th>876</th>\n",
       "      <td>1991-11-21</td>\n",
       "      <td>1997-10-20</td>\n",
       "      <td>2160 days</td>\n",
       "      <td>2003-09-19</td>\n",
       "    </tr>\n",
       "    <tr>\n",
       "      <th>881</th>\n",
       "      <td>1990-02-21</td>\n",
       "      <td>1997-09-11</td>\n",
       "      <td>2759 days</td>\n",
       "      <td>2005-04-01</td>\n",
       "    </tr>\n",
       "    <tr>\n",
       "      <th>884</th>\n",
       "      <td>1990-01-20</td>\n",
       "      <td>1999-11-12</td>\n",
       "      <td>3583 days</td>\n",
       "      <td>2009-09-03</td>\n",
       "    </tr>\n",
       "    <tr>\n",
       "      <th>892</th>\n",
       "      <td>1991-02-21</td>\n",
       "      <td>1998-04-16</td>\n",
       "      <td>2611 days</td>\n",
       "      <td>2005-06-09</td>\n",
       "    </tr>\n",
       "    <tr>\n",
       "      <th>894</th>\n",
       "      <td>1990-05-24</td>\n",
       "      <td>1997-08-12</td>\n",
       "      <td>2637 days</td>\n",
       "      <td>2004-10-31</td>\n",
       "    </tr>\n",
       "    <tr>\n",
       "      <th>900</th>\n",
       "      <td>1992-01-26</td>\n",
       "      <td>1999-11-23</td>\n",
       "      <td>2858 days</td>\n",
       "      <td>2007-09-20</td>\n",
       "    </tr>\n",
       "    <tr>\n",
       "      <th>902</th>\n",
       "      <td>1991-07-03</td>\n",
       "      <td>1999-11-10</td>\n",
       "      <td>3052 days</td>\n",
       "      <td>2008-03-19</td>\n",
       "    </tr>\n",
       "    <tr>\n",
       "      <th>904</th>\n",
       "      <td>1990-02-13</td>\n",
       "      <td>1999-11-15</td>\n",
       "      <td>3562 days</td>\n",
       "      <td>2009-08-16</td>\n",
       "    </tr>\n",
       "    <tr>\n",
       "      <th>909</th>\n",
       "      <td>1991-01-19</td>\n",
       "      <td>1998-08-22</td>\n",
       "      <td>2772 days</td>\n",
       "      <td>2006-03-25</td>\n",
       "    </tr>\n",
       "    <tr>\n",
       "      <th>935</th>\n",
       "      <td>1990-09-26</td>\n",
       "      <td>1998-03-07</td>\n",
       "      <td>2719 days</td>\n",
       "      <td>2005-08-16</td>\n",
       "    </tr>\n",
       "    <tr>\n",
       "      <th>943</th>\n",
       "      <td>1991-01-30</td>\n",
       "      <td>1999-12-02</td>\n",
       "      <td>3228 days</td>\n",
       "      <td>2008-10-03</td>\n",
       "    </tr>\n",
       "    <tr>\n",
       "      <th>947</th>\n",
       "      <td>1991-06-18</td>\n",
       "      <td>1999-06-11</td>\n",
       "      <td>2915 days</td>\n",
       "      <td>2007-06-04</td>\n",
       "    </tr>\n",
       "    <tr>\n",
       "      <th>958</th>\n",
       "      <td>1990-04-26</td>\n",
       "      <td>1997-06-29</td>\n",
       "      <td>2621 days</td>\n",
       "      <td>2004-09-01</td>\n",
       "    </tr>\n",
       "    <tr>\n",
       "      <th>972</th>\n",
       "      <td>1990-02-07</td>\n",
       "      <td>1995-11-05</td>\n",
       "      <td>2097 days</td>\n",
       "      <td>2001-08-02</td>\n",
       "    </tr>\n",
       "    <tr>\n",
       "      <th>984</th>\n",
       "      <td>1991-07-25</td>\n",
       "      <td>1999-02-09</td>\n",
       "      <td>2756 days</td>\n",
       "      <td>2006-08-27</td>\n",
       "    </tr>\n",
       "    <tr>\n",
       "      <th>991</th>\n",
       "      <td>1991-09-09</td>\n",
       "      <td>1998-03-30</td>\n",
       "      <td>2394 days</td>\n",
       "      <td>2004-10-18</td>\n",
       "    </tr>\n",
       "    <tr>\n",
       "      <th>993</th>\n",
       "      <td>1990-11-16</td>\n",
       "      <td>1998-04-27</td>\n",
       "      <td>2719 days</td>\n",
       "      <td>2005-10-06</td>\n",
       "    </tr>\n",
       "  </tbody>\n",
       "</table>\n",
       "<p>113 rows × 4 columns</p>\n",
       "</div>"
      ],
      "text/plain": [
       "    order_date delivery_date Delivery Time Twice As Long\n",
       "ID                                                      \n",
       "2   1992-04-22    1998-03-06     2144 days    2004-01-18\n",
       "10  1992-02-23    1998-12-30     2502 days    2005-11-05\n",
       "20  1992-10-17    1998-10-06     2180 days    2004-09-24\n",
       "23  1992-05-30    1999-08-15     2633 days    2006-10-30\n",
       "32  1990-01-20    1998-07-24     3107 days    2007-01-25\n",
       "50  1991-05-03    1999-07-17     2997 days    2007-09-30\n",
       "64  1990-11-25    1998-05-14     2727 days    2005-10-31\n",
       "66  1992-09-08    1998-12-29     2303 days    2005-04-19\n",
       "70  1994-02-16    1999-11-06     2089 days    2005-07-26\n",
       "71  1990-11-25    1998-04-06     2689 days    2005-08-16\n",
       "75  1990-06-25    1996-12-18     2368 days    2003-06-13\n",
       "78  1992-02-25    1999-02-17     2549 days    2006-02-09\n",
       "84  1990-01-24    1996-06-06     2325 days    2002-10-18\n",
       "91  1993-01-17    1999-09-27     2444 days    2006-06-06\n",
       "93  1991-12-24    1999-06-15     2730 days    2006-12-05\n",
       "98  1991-08-23    1997-08-30     2199 days    2003-09-07\n",
       "130 1990-04-02    1999-08-16     3423 days    2008-12-29\n",
       "132 1992-09-27    1999-10-18     2577 days    2006-11-07\n",
       "136 1992-01-28    1998-07-23     2368 days    2005-01-15\n",
       "141 1991-09-03    1999-03-08     2743 days    2006-09-10\n",
       "151 1991-01-29    1999-08-05     3110 days    2008-02-09\n",
       "152 1990-12-09    1998-09-02     2824 days    2006-05-27\n",
       "160 1991-07-06    1997-01-10     2015 days    2002-07-18\n",
       "165 1990-03-23    1998-06-07     2998 days    2006-08-22\n",
       "166 1990-07-12    1998-05-01     2850 days    2006-02-18\n",
       "196 1991-12-09    1998-08-10     2436 days    2005-04-11\n",
       "215 1991-05-24    1997-04-09     2147 days    2003-02-24\n",
       "216 1990-03-09    1997-12-01     2824 days    2005-08-25\n",
       "222 1993-01-21    1999-04-20     2280 days    2005-07-17\n",
       "229 1990-04-13    1998-11-17     3140 days    2007-06-23\n",
       "..         ...           ...           ...           ...\n",
       "748 1991-06-06    1999-02-19     2815 days    2006-11-04\n",
       "756 1992-10-11    1999-05-07     2399 days    2005-11-30\n",
       "760 1990-09-16    1998-12-06     3003 days    2007-02-25\n",
       "762 1992-01-11    1998-04-20     2291 days    2004-07-28\n",
       "764 1990-09-19    1999-09-16     3284 days    2008-09-12\n",
       "775 1992-12-03    1999-06-14     2384 days    2005-12-23\n",
       "786 1990-10-26    1999-05-10     3118 days    2007-11-22\n",
       "787 1990-02-27    1996-02-06     2170 days    2002-01-15\n",
       "799 1993-02-11    1999-02-01     2181 days    2005-01-21\n",
       "822 1991-11-10    1998-08-20     2475 days    2005-05-30\n",
       "825 1991-12-12    1999-09-15     2834 days    2007-06-19\n",
       "826 1990-04-16    1998-05-18     2954 days    2006-06-19\n",
       "832 1991-08-23    1998-12-13     2669 days    2006-04-04\n",
       "876 1991-11-21    1997-10-20     2160 days    2003-09-19\n",
       "881 1990-02-21    1997-09-11     2759 days    2005-04-01\n",
       "884 1990-01-20    1999-11-12     3583 days    2009-09-03\n",
       "892 1991-02-21    1998-04-16     2611 days    2005-06-09\n",
       "894 1990-05-24    1997-08-12     2637 days    2004-10-31\n",
       "900 1992-01-26    1999-11-23     2858 days    2007-09-20\n",
       "902 1991-07-03    1999-11-10     3052 days    2008-03-19\n",
       "904 1990-02-13    1999-11-15     3562 days    2009-08-16\n",
       "909 1991-01-19    1998-08-22     2772 days    2006-03-25\n",
       "935 1990-09-26    1998-03-07     2719 days    2005-08-16\n",
       "943 1991-01-30    1999-12-02     3228 days    2008-10-03\n",
       "947 1991-06-18    1999-06-11     2915 days    2007-06-04\n",
       "958 1990-04-26    1997-06-29     2621 days    2004-09-01\n",
       "972 1990-02-07    1995-11-05     2097 days    2001-08-02\n",
       "984 1991-07-25    1999-02-09     2756 days    2006-08-27\n",
       "991 1991-09-09    1998-03-30     2394 days    2004-10-18\n",
       "993 1990-11-16    1998-04-27     2719 days    2005-10-06\n",
       "\n",
       "[113 rows x 4 columns]"
      ]
     },
     "execution_count": 175,
     "metadata": {},
     "output_type": "execute_result"
    }
   ],
   "source": [
    "mask = shipping[\"Delivery Time\"] > \"2000 days\"\n",
    "shipping[mask]"
   ]
  },
  {
   "cell_type": "code",
   "execution_count": 176,
   "metadata": {},
   "outputs": [
    {
     "data": {
      "text/plain": [
       "Timedelta('3583 days 00:00:00')"
      ]
     },
     "execution_count": 176,
     "metadata": {},
     "output_type": "execute_result"
    }
   ],
   "source": [
    "shipping[\"Delivery Time\"].max()"
   ]
  },
  {
   "cell_type": "code",
   "execution_count": null,
   "metadata": {
    "collapsed": true
   },
   "outputs": [],
   "source": []
  }
 ],
 "metadata": {
  "kernelspec": {
   "display_name": "Python 3",
   "language": "python",
   "name": "python3"
  },
  "language_info": {
   "codemirror_mode": {
    "name": "ipython",
    "version": 3
   },
   "file_extension": ".py",
   "mimetype": "text/x-python",
   "name": "python",
   "nbconvert_exporter": "python",
   "pygments_lexer": "ipython3",
   "version": "3.6.3"
  }
 },
 "nbformat": 4,
 "nbformat_minor": 2
}
